{
 "cells": [
  {
   "cell_type": "code",
   "execution_count": null,
   "id": "4f54c75b-6a8d-45a9-944f-493a13229a75",
   "metadata": {},
   "outputs": [],
   "source": [
    "#importing packages"
   ]
  },
  {
   "cell_type": "code",
   "execution_count": 367,
   "id": "13a45df1-1a05-4bb0-8406-9d8f997e829c",
   "metadata": {},
   "outputs": [],
   "source": [
    "import pandas as pd\n",
    "from pathlib import Path\n",
    "import matplotlib.pyplot as plt\n",
    "%matplotlib inline\n",
    "import hvplot.pandas\n",
    "import os\n",
    "import numpy as np"
   ]
  },
  {
   "cell_type": "code",
   "execution_count": 368,
   "id": "6d67e0a6-f0f0-47ca-8c1a-db0abcc3a235",
   "metadata": {},
   "outputs": [],
   "source": [
    "#importing csv data"
   ]
  },
  {
   "cell_type": "code",
   "execution_count": 369,
   "id": "fc1eb197-4e44-4040-bb8e-87cad5a3008e",
   "metadata": {},
   "outputs": [],
   "source": [
    "path = Path('MarchCPS_1995_2015.csv')"
   ]
  },
  {
   "cell_type": "code",
   "execution_count": 370,
   "id": "eaef1581-5ee0-4a6d-8944-037ede6647ad",
   "metadata": {},
   "outputs": [
    {
     "data": {
      "text/html": [
       "<div>\n",
       "<style scoped>\n",
       "    .dataframe tbody tr th:only-of-type {\n",
       "        vertical-align: middle;\n",
       "    }\n",
       "\n",
       "    .dataframe tbody tr th {\n",
       "        vertical-align: top;\n",
       "    }\n",
       "\n",
       "    .dataframe thead th {\n",
       "        text-align: right;\n",
       "    }\n",
       "</style>\n",
       "<table border=\"1\" class=\"dataframe\">\n",
       "  <thead>\n",
       "    <tr style=\"text-align: right;\">\n",
       "      <th></th>\n",
       "      <th>year</th>\n",
       "      <th>wtsupp</th>\n",
       "      <th>age</th>\n",
       "      <th>sex</th>\n",
       "      <th>popstat</th>\n",
       "      <th>labforce</th>\n",
       "    </tr>\n",
       "  </thead>\n",
       "  <tbody>\n",
       "    <tr>\n",
       "      <th>0</th>\n",
       "      <td>1995</td>\n",
       "      <td>929.61</td>\n",
       "      <td>48</td>\n",
       "      <td>2</td>\n",
       "      <td>1</td>\n",
       "      <td>1</td>\n",
       "    </tr>\n",
       "    <tr>\n",
       "      <th>1</th>\n",
       "      <td>1995</td>\n",
       "      <td>832.67</td>\n",
       "      <td>65</td>\n",
       "      <td>2</td>\n",
       "      <td>1</td>\n",
       "      <td>2</td>\n",
       "    </tr>\n",
       "    <tr>\n",
       "      <th>2</th>\n",
       "      <td>1995</td>\n",
       "      <td>787.95</td>\n",
       "      <td>10</td>\n",
       "      <td>2</td>\n",
       "      <td>3</td>\n",
       "      <td>0</td>\n",
       "    </tr>\n",
       "    <tr>\n",
       "      <th>3</th>\n",
       "      <td>1995</td>\n",
       "      <td>938.27</td>\n",
       "      <td>25</td>\n",
       "      <td>2</td>\n",
       "      <td>1</td>\n",
       "      <td>2</td>\n",
       "    </tr>\n",
       "    <tr>\n",
       "      <th>4</th>\n",
       "      <td>1995</td>\n",
       "      <td>900.74</td>\n",
       "      <td>21</td>\n",
       "      <td>1</td>\n",
       "      <td>1</td>\n",
       "      <td>2</td>\n",
       "    </tr>\n",
       "  </tbody>\n",
       "</table>\n",
       "</div>"
      ],
      "text/plain": [
       "   year  wtsupp  age  sex  popstat  labforce\n",
       "0  1995  929.61   48    2        1         1\n",
       "1  1995  832.67   65    2        1         2\n",
       "2  1995  787.95   10    2        3         0\n",
       "3  1995  938.27   25    2        1         2\n",
       "4  1995  900.74   21    1        1         2"
      ]
     },
     "execution_count": 370,
     "metadata": {},
     "output_type": "execute_result"
    }
   ],
   "source": [
    "df = pd.read_csv(path)\n",
    "df.head()"
   ]
  },
  {
   "cell_type": "code",
   "execution_count": 418,
   "id": "9bd285c2-af87-4f19-b2a7-83bfe409deee",
   "metadata": {},
   "outputs": [
    {
     "data": {
      "text/html": [
       "<div>\n",
       "<style scoped>\n",
       "    .dataframe tbody tr th:only-of-type {\n",
       "        vertical-align: middle;\n",
       "    }\n",
       "\n",
       "    .dataframe tbody tr th {\n",
       "        vertical-align: top;\n",
       "    }\n",
       "\n",
       "    .dataframe thead th {\n",
       "        text-align: right;\n",
       "    }\n",
       "</style>\n",
       "<table border=\"1\" class=\"dataframe\">\n",
       "  <thead>\n",
       "    <tr style=\"text-align: right;\">\n",
       "      <th></th>\n",
       "      <th>wtsupp</th>\n",
       "    </tr>\n",
       "    <tr>\n",
       "      <th>age</th>\n",
       "      <th></th>\n",
       "    </tr>\n",
       "  </thead>\n",
       "  <tbody>\n",
       "    <tr>\n",
       "      <th>15</th>\n",
       "      <td>451716.41</td>\n",
       "    </tr>\n",
       "    <tr>\n",
       "      <th>16</th>\n",
       "      <td>1214562.37</td>\n",
       "    </tr>\n",
       "    <tr>\n",
       "      <th>17</th>\n",
       "      <td>1641203.50</td>\n",
       "    </tr>\n",
       "    <tr>\n",
       "      <th>18</th>\n",
       "      <td>1968769.50</td>\n",
       "    </tr>\n",
       "    <tr>\n",
       "      <th>19</th>\n",
       "      <td>2331348.48</td>\n",
       "    </tr>\n",
       "    <tr>\n",
       "      <th>...</th>\n",
       "      <td>...</td>\n",
       "    </tr>\n",
       "    <tr>\n",
       "      <th>85</th>\n",
       "      <td>7514.02</td>\n",
       "    </tr>\n",
       "    <tr>\n",
       "      <th>86</th>\n",
       "      <td>8600.31</td>\n",
       "    </tr>\n",
       "    <tr>\n",
       "      <th>88</th>\n",
       "      <td>2704.56</td>\n",
       "    </tr>\n",
       "    <tr>\n",
       "      <th>89</th>\n",
       "      <td>3190.11</td>\n",
       "    </tr>\n",
       "    <tr>\n",
       "      <th>90</th>\n",
       "      <td>28623.66</td>\n",
       "    </tr>\n",
       "  </tbody>\n",
       "</table>\n",
       "<p>75 rows × 1 columns</p>\n",
       "</div>"
      ],
      "text/plain": [
       "         wtsupp\n",
       "age            \n",
       "15    451716.41\n",
       "16   1214562.37\n",
       "17   1641203.50\n",
       "18   1968769.50\n",
       "19   2331348.48\n",
       "..          ...\n",
       "85      7514.02\n",
       "86      8600.31\n",
       "88      2704.56\n",
       "89      3190.11\n",
       "90     28623.66\n",
       "\n",
       "[75 rows x 1 columns]"
      ]
     },
     "execution_count": 418,
     "metadata": {},
     "output_type": "execute_result"
    }
   ],
   "source": [
    "df.loc[df['labforce'] == 2].loc[df['year'] == 1995][['wtsupp']].groupby(df['age']).sum()"
   ]
  },
  {
   "cell_type": "markdown",
   "id": "a3253721-a779-4c90-8510-1a6e3b82b623",
   "metadata": {
    "tags": []
   },
   "source": [
    "### 1. The LFPR is defined as the adult civilian share of the population that is in the labor force, expressed as a percentage. Create graphs showing LFPR age profiles (the LFPR at each age) in 1995 and 2015. Please create three separate graphs: one for men, one for women, and one for the full population."
   ]
  },
  {
   "cell_type": "code",
   "execution_count": 371,
   "id": "33b06788-9df6-46c8-8b98-ab2d78f3fda2",
   "metadata": {},
   "outputs": [],
   "source": [
    "#Creating LFRP for 1995 and 2015 factoring in weights "
   ]
  },
  {
   "cell_type": "code",
   "execution_count": 372,
   "id": "de0a3606-c5d4-4e46-ab36-f6ff5bae5c5f",
   "metadata": {},
   "outputs": [
    {
     "data": {},
     "metadata": {},
     "output_type": "display_data"
    },
    {
     "data": {
      "application/vnd.holoviews_exec.v0+json": "",
      "text/html": [
       "<div id='28624'>\n",
       "\n",
       "\n",
       "\n",
       "\n",
       "\n",
       "  <div class=\"bk-root\" id=\"417568dc-46db-4d43-aff0-f0c64906b92a\" data-root-id=\"28624\"></div>\n",
       "</div>\n",
       "<script type=\"application/javascript\">(function(root) {\n",
       "  function embed_document(root) {\n",
       "    var docs_json = {\"6c2fbe79-3638-4314-8c20-55d372275c14\":{\"defs\":[{\"extends\":null,\"module\":null,\"name\":\"ReactiveHTML1\",\"overrides\":[],\"properties\":[]},{\"extends\":null,\"module\":null,\"name\":\"FlexBox1\",\"overrides\":[],\"properties\":[{\"default\":\"flex-start\",\"kind\":null,\"name\":\"align_content\"},{\"default\":\"flex-start\",\"kind\":null,\"name\":\"align_items\"},{\"default\":\"row\",\"kind\":null,\"name\":\"flex_direction\"},{\"default\":\"wrap\",\"kind\":null,\"name\":\"flex_wrap\"},{\"default\":\"flex-start\",\"kind\":null,\"name\":\"justify_content\"}]},{\"extends\":null,\"module\":null,\"name\":\"TemplateActions1\",\"overrides\":[],\"properties\":[{\"default\":0,\"kind\":null,\"name\":\"open_modal\"},{\"default\":0,\"kind\":null,\"name\":\"close_modal\"}]},{\"extends\":null,\"module\":null,\"name\":\"MaterialTemplateActions1\",\"overrides\":[],\"properties\":[{\"default\":0,\"kind\":null,\"name\":\"open_modal\"},{\"default\":0,\"kind\":null,\"name\":\"close_modal\"}]}],\"roots\":{\"references\":[{\"attributes\":{\"end\":0.9405649353134901,\"reset_end\":0.9405649353134901,\"reset_start\":-0.07614258543303515,\"start\":-0.07614258543303515,\"tags\":[[[\"wtsupp\",\"wtsupp\",null]]]},\"id\":\"28627\",\"type\":\"Range1d\"},{\"attributes\":{\"margin\":[5,5,5,5],\"name\":\"HSpacer66762\",\"sizing_mode\":\"stretch_width\"},\"id\":\"28625\",\"type\":\"Spacer\"},{\"attributes\":{},\"id\":\"28672\",\"type\":\"BasicTickFormatter\"},{\"attributes\":{},\"id\":\"28643\",\"type\":\"BasicTicker\"},{\"attributes\":{},\"id\":\"28673\",\"type\":\"AllLabels\"},{\"attributes\":{},\"id\":\"28669\",\"type\":\"BasicTickFormatter\"},{\"attributes\":{\"fill_alpha\":{\"value\":0.1},\"fill_color\":{\"value\":\"green\"},\"hatch_alpha\":{\"value\":0.1},\"hatch_color\":{\"value\":\"green\"},\"line_alpha\":{\"value\":0.1},\"line_color\":{\"value\":\"green\"},\"size\":{\"value\":5.477225575051661},\"x\":{\"field\":\"age\"},\"y\":{\"field\":\"wtsupp\"}},\"id\":\"28663\",\"type\":\"Scatter\"},{\"attributes\":{\"source\":{\"id\":\"28659\"}},\"id\":\"28666\",\"type\":\"CDSView\"},{\"attributes\":{\"tools\":[{\"id\":\"28628\"},{\"id\":\"28646\"},{\"id\":\"28647\"},{\"id\":\"28648\"},{\"id\":\"28649\"},{\"id\":\"28650\"}]},\"id\":\"28652\",\"type\":\"Toolbar\"},{\"attributes\":{},\"id\":\"28639\",\"type\":\"BasicTicker\"},{\"attributes\":{\"bottom_units\":\"screen\",\"coordinates\":null,\"fill_alpha\":0.5,\"fill_color\":\"lightgrey\",\"group\":null,\"left_units\":\"screen\",\"level\":\"overlay\",\"line_alpha\":1.0,\"line_color\":\"black\",\"line_dash\":[4,4],\"line_width\":2,\"right_units\":\"screen\",\"syncable\":false,\"top_units\":\"screen\"},\"id\":\"28651\",\"type\":\"BoxAnnotation\"},{\"attributes\":{},\"id\":\"28646\",\"type\":\"SaveTool\"},{\"attributes\":{},\"id\":\"28670\",\"type\":\"AllLabels\"},{\"attributes\":{\"end\":93.21428571428571,\"reset_end\":93.21428571428571,\"reset_start\":11.785714285714285,\"start\":11.785714285714285,\"tags\":[[[\"age\",\"age\",null]]]},\"id\":\"28626\",\"type\":\"Range1d\"},{\"attributes\":{\"margin\":[5,5,5,5],\"name\":\"HSpacer66763\",\"sizing_mode\":\"stretch_width\"},\"id\":\"28694\",\"type\":\"Spacer\"},{\"attributes\":{},\"id\":\"28647\",\"type\":\"PanTool\"},{\"attributes\":{},\"id\":\"28650\",\"type\":\"ResetTool\"},{\"attributes\":{\"angle\":{\"value\":0.0},\"fill_alpha\":{\"value\":1.0},\"fill_color\":{\"value\":\"green\"},\"hatch_alpha\":{\"value\":1.0},\"hatch_color\":{\"value\":\"green\"},\"hatch_scale\":{\"value\":12.0},\"hatch_weight\":{\"value\":1.0},\"line_alpha\":{\"value\":1.0},\"line_cap\":{\"value\":\"butt\"},\"line_color\":{\"value\":\"green\"},\"line_dash\":{\"value\":[]},\"line_dash_offset\":{\"value\":0},\"line_join\":{\"value\":\"bevel\"},\"line_width\":{\"value\":1},\"marker\":{\"value\":\"circle\"},\"size\":{\"value\":5.477225575051661},\"x\":{\"field\":\"age\"},\"y\":{\"field\":\"wtsupp\"}},\"id\":\"28667\",\"type\":\"Scatter\"},{\"attributes\":{},\"id\":\"28648\",\"type\":\"WheelZoomTool\"},{\"attributes\":{},\"id\":\"28681\",\"type\":\"UnionRenderers\"},{\"attributes\":{\"overlay\":{\"id\":\"28651\"}},\"id\":\"28649\",\"type\":\"BoxZoomTool\"},{\"attributes\":{},\"id\":\"28660\",\"type\":\"Selection\"},{\"attributes\":{\"fill_color\":{\"value\":\"green\"},\"hatch_color\":{\"value\":\"green\"},\"line_color\":{\"value\":\"green\"},\"size\":{\"value\":5.477225575051661},\"x\":{\"field\":\"age\"},\"y\":{\"field\":\"wtsupp\"}},\"id\":\"28662\",\"type\":\"Scatter\"},{\"attributes\":{\"callback\":null,\"renderers\":[{\"id\":\"28665\"}],\"tags\":[\"hv_created\"],\"tooltips\":[[\"age\",\"@{age}\"],[\"wtsupp\",\"@{wtsupp}\"]]},\"id\":\"28628\",\"type\":\"HoverTool\"},{\"attributes\":{\"coordinates\":null,\"group\":null,\"text\":\"1995 Total\",\"text_color\":\"black\",\"text_font_size\":\"12pt\"},\"id\":\"28630\",\"type\":\"Title\"},{\"attributes\":{\"coordinates\":null,\"data_source\":{\"id\":\"28659\"},\"glyph\":{\"id\":\"28662\"},\"group\":null,\"hover_glyph\":null,\"muted_glyph\":{\"id\":\"28664\"},\"nonselection_glyph\":{\"id\":\"28663\"},\"selection_glyph\":{\"id\":\"28667\"},\"view\":{\"id\":\"28666\"}},\"id\":\"28665\",\"type\":\"GlyphRenderer\"},{\"attributes\":{},\"id\":\"28634\",\"type\":\"LinearScale\"},{\"attributes\":{\"axis\":{\"id\":\"28638\"},\"coordinates\":null,\"grid_line_color\":null,\"group\":null,\"ticker\":null},\"id\":\"28641\",\"type\":\"Grid\"},{\"attributes\":{\"below\":[{\"id\":\"28638\"}],\"center\":[{\"id\":\"28641\"},{\"id\":\"28645\"}],\"height\":300,\"left\":[{\"id\":\"28642\"}],\"margin\":[5,5,5,5],\"min_border_bottom\":10,\"min_border_left\":10,\"min_border_right\":10,\"min_border_top\":10,\"renderers\":[{\"id\":\"28665\"}],\"sizing_mode\":\"fixed\",\"title\":{\"id\":\"28630\"},\"toolbar\":{\"id\":\"28652\"},\"width\":700,\"x_range\":{\"id\":\"28626\"},\"x_scale\":{\"id\":\"28634\"},\"y_range\":{\"id\":\"28627\"},\"y_scale\":{\"id\":\"28636\"}},\"id\":\"28629\",\"subtype\":\"Figure\",\"type\":\"Plot\"},{\"attributes\":{\"data\":{\"age\":[15,16,17,18,19,20,21,22,23,24,25,26,27,28,29,30,31,32,33,34,35,36,37,38,39,40,41,42,43,44,45,46,47,48,49,50,51,52,53,54,55,56,57,58,59,60,61,62,63,64,65,66,67,68,69,70,71,72,73,74,75,76,77,78,79,80,81,82,83,84,85,86,87,88,89,90],\"wtsupp\":{\"__ndarray__\":\"/rID4P2avj+YjDNFmUjVP/NjaysEYdw/6LhVp0My4j/S7XeL9hDlPzpmG+lkmeU/WY6Ge/Yi5z918nrFXxnoPxIaWZh7Fek/EyLEaaRZ6j8WutZ/wALqP4Wr6+FmXuo/p2ApEwKv6j+8ESAeCWPrPziHwwUFYuo/K6cj8tOZ6j/Y859IKMXqP73egeAc5+o/v8Qha7tR6z9XsmmGgF7qP8r8NsBPtOo/lhE8tHW66j/M1PuO1xPrP6huNEQGNOs/sLxb8Ufv6j/ets6N89XqP9P0WzpRSOs/k+iKnITp6j8T27SHfwXrPxVRR8zhe+o/NJP3ozYJ6z/0YbdQnGDrPzTxZ4ZjQOs/I2ENkaqT6j8Gqmc0ShjqP+ZYKS0i8ek/tnMGPkPP6T9tGX3oqDjpPyEMW8y1N+k/p0NAmT916D9c2VlyNQznP+dY8NLJ9uY/BmxRAvO25T/qkuK/xGblP1szvB8e2uM/hZAzfkjt4j/7ExmwkAnhP6zeNGy5GNo/A0qjZeCE2D9a5SpsmOHVP+coxkvqudE/FSg1huFd0D8tHWNuqp7NP9tlJCJjncg/aOHdjMFmxD8ivPV8SCbDPwNf6+M2dMA/VQS+rUWQvz8aRek+BCC8P6bMOYau17Q/xJx28XshuD/F+9q+uv20P6oOtSReDbQ/B/OFh2NZrD+EMFIGoUS1P9GIuBCQA5w/Lkair74Amz903PJyJV2gP9wz1ADNKZM/Z0799nL/lD+VJ5aMfxeLPxvVGIbONZU/AAAAAAAA+H+4rVNN/JOBP1/UCiHNjYc/PiJbi1uOoD8=\",\"dtype\":\"float64\",\"order\":\"little\",\"shape\":[76]}},\"selected\":{\"id\":\"28660\"},\"selection_policy\":{\"id\":\"28681\"}},\"id\":\"28659\",\"type\":\"ColumnDataSource\"},{\"attributes\":{},\"id\":\"28636\",\"type\":\"LinearScale\"},{\"attributes\":{\"axis_label\":\"LFPR\",\"coordinates\":null,\"formatter\":{\"id\":\"28672\"},\"group\":null,\"major_label_policy\":{\"id\":\"28673\"},\"ticker\":{\"id\":\"28643\"}},\"id\":\"28642\",\"type\":\"LinearAxis\"},{\"attributes\":{\"axis_label\":\"age\",\"coordinates\":null,\"formatter\":{\"id\":\"28669\"},\"group\":null,\"major_label_policy\":{\"id\":\"28670\"},\"ticker\":{\"id\":\"28639\"}},\"id\":\"28638\",\"type\":\"LinearAxis\"},{\"attributes\":{\"children\":[{\"id\":\"28625\"},{\"id\":\"28629\"},{\"id\":\"28694\"}],\"margin\":[0,0,0,0],\"name\":\"Row66758\",\"tags\":[\"embedded\"]},\"id\":\"28624\",\"type\":\"Row\"},{\"attributes\":{\"fill_alpha\":{\"value\":0.2},\"fill_color\":{\"value\":\"green\"},\"hatch_alpha\":{\"value\":0.2},\"hatch_color\":{\"value\":\"green\"},\"line_alpha\":{\"value\":0.2},\"line_color\":{\"value\":\"green\"},\"size\":{\"value\":5.477225575051661},\"x\":{\"field\":\"age\"},\"y\":{\"field\":\"wtsupp\"}},\"id\":\"28664\",\"type\":\"Scatter\"},{\"attributes\":{\"axis\":{\"id\":\"28642\"},\"coordinates\":null,\"dimension\":1,\"grid_line_color\":null,\"group\":null,\"ticker\":null},\"id\":\"28645\",\"type\":\"Grid\"}],\"root_ids\":[\"28624\"]},\"title\":\"Bokeh Application\",\"version\":\"2.4.2\"}};\n",
       "    var render_items = [{\"docid\":\"6c2fbe79-3638-4314-8c20-55d372275c14\",\"root_ids\":[\"28624\"],\"roots\":{\"28624\":\"417568dc-46db-4d43-aff0-f0c64906b92a\"}}];\n",
       "    root.Bokeh.embed.embed_items_notebook(docs_json, render_items);\n",
       "  }\n",
       "  if (root.Bokeh !== undefined && root.Bokeh.Panel !== undefined) {\n",
       "    embed_document(root);\n",
       "  } else {\n",
       "    var attempts = 0;\n",
       "    var timer = setInterval(function(root) {\n",
       "      if (root.Bokeh !== undefined && root.Bokeh.Panel !== undefined) {\n",
       "        clearInterval(timer);\n",
       "        embed_document(root);\n",
       "      } else if (document.readyState == \"complete\") {\n",
       "        attempts++;\n",
       "        if (attempts > 200) {\n",
       "          clearInterval(timer);\n",
       "          console.log(\"Bokeh: ERROR: Unable to run BokehJS code because BokehJS library is missing\");\n",
       "        }\n",
       "      }\n",
       "    }, 25, root)\n",
       "  }\n",
       "})(window);</script>"
      ],
      "text/plain": [
       ":Scatter   [age]   (wtsupp)"
      ]
     },
     "execution_count": 372,
     "metadata": {
      "application/vnd.holoviews_exec.v0+json": {
       "id": "28624"
      }
     },
     "output_type": "execute_result"
    }
   ],
   "source": [
    "total_lfpr_1995 = df.loc[df['labforce'] == 2].loc[df['year'] == 1995][['wtsupp']].groupby(df['age']).sum() / df.loc[df['labforce'] > 0].loc[df['year'] == 1995][['wtsupp']].groupby(df['age']).sum()\n",
    "total_lfpr_1995.hvplot(kind = 'scatter',ylabel = 'LFPR',color = 'green', title = '1995 Total')"
   ]
  },
  {
   "cell_type": "code",
   "execution_count": 373,
   "id": "b61f3221-11a0-49da-9362-51f088127a67",
   "metadata": {},
   "outputs": [
    {
     "data": {},
     "metadata": {},
     "output_type": "display_data"
    },
    {
     "data": {
      "application/vnd.holoviews_exec.v0+json": "",
      "text/html": [
       "<div id='28746'>\n",
       "\n",
       "\n",
       "\n",
       "\n",
       "\n",
       "  <div class=\"bk-root\" id=\"168771cf-97bf-46c8-afac-e4262dceea2e\" data-root-id=\"28746\"></div>\n",
       "</div>\n",
       "<script type=\"application/javascript\">(function(root) {\n",
       "  function embed_document(root) {\n",
       "    var docs_json = {\"a484657d-0eda-48a8-a7d8-b3d9ea0f5d66\":{\"defs\":[{\"extends\":null,\"module\":null,\"name\":\"ReactiveHTML1\",\"overrides\":[],\"properties\":[]},{\"extends\":null,\"module\":null,\"name\":\"FlexBox1\",\"overrides\":[],\"properties\":[{\"default\":\"flex-start\",\"kind\":null,\"name\":\"align_content\"},{\"default\":\"flex-start\",\"kind\":null,\"name\":\"align_items\"},{\"default\":\"row\",\"kind\":null,\"name\":\"flex_direction\"},{\"default\":\"wrap\",\"kind\":null,\"name\":\"flex_wrap\"},{\"default\":\"flex-start\",\"kind\":null,\"name\":\"justify_content\"}]},{\"extends\":null,\"module\":null,\"name\":\"TemplateActions1\",\"overrides\":[],\"properties\":[{\"default\":0,\"kind\":null,\"name\":\"open_modal\"},{\"default\":0,\"kind\":null,\"name\":\"close_modal\"}]},{\"extends\":null,\"module\":null,\"name\":\"MaterialTemplateActions1\",\"overrides\":[],\"properties\":[{\"default\":0,\"kind\":null,\"name\":\"open_modal\"},{\"default\":0,\"kind\":null,\"name\":\"close_modal\"}]}],\"roots\":{\"references\":[{\"attributes\":{\"data\":{\"age\":[15,16,17,18,19,20,21,22,23,24,25,26,27,28,29,30,31,32,33,34,35,36,37,38,39,40,41,42,43,44,45,46,47,48,49,50,51,52,53,54,55,56,57,58,59,60,61,62,63,64,65,66,67,68,69,70,71,72,73,74,75,76,77,78,79,80,85],\"wtsupp\":{\"__ndarray__\":\"fnNmNfOirD90bUcsPoXBP68UBZxdi9A/hwjs10A32j91zlCmQJXgP4Wkv98qLOM/Y0rhi2VC5D/Qs4A1deDlP9UzJc7c0Oc/kU8wfU0R6T/D6Z1lxtHpP00LJMbqauk/HR7iIoRm6T/AhidJ357pP1kbcttoSeo/fwZBjaJC6j+PuToZ3IjqP/SmOT1vtek/WxzkjPwR6j+LioAtMInpP2tsB60W1+k/QBSlJ2bG6T8QvvG0HTfqP4WZx4sEUeo/IhJFXd2a6j8WZQYOmGzqP26jQ1MqJeo/ZTYflAA96j8aSiKUQoDqP70VlnCdPeo/CQ5rBAc96j8Pe3JiwGDqP99QSeODoek/l2Z5E7756T916Dnc1yLpPwG7qg5AD+k/4Sw2fFkI6T/ys84GRPXoP0DMOZeXGuk/mJ/L7/kE6D9BnCLIQp3oPybXjkFlhOc/WmWCqeBs5z+sLeRJZ6/mP9AdjRaDuOQ/ewgNtXrY5D8COZ/hMQPkP/oIVD8zyeE/HlfIaqi+3z9ItHWv6T3eP44WDBAQrNk/aQJh9Fd11z8EQkU2X87TPxrUdosa79E/Pak9y5ha0T+5aWp4smTPPw9fzLkCb8w/RmMDz8u7xj+xeB38wfzFP835VB/Tr8M/qdd4RS4UxD/Zj0k+aC3CP7fLkdzlEL8/+7pfN0wauz96OlixWvq5P4Qc/mzZ77E/+hYl9ZAGpT8=\",\"dtype\":\"float64\",\"order\":\"little\",\"shape\":[67]}},\"selected\":{\"id\":\"28782\"},\"selection_policy\":{\"id\":\"28803\"}},\"id\":\"28781\",\"type\":\"ColumnDataSource\"},{\"attributes\":{},\"id\":\"28794\",\"type\":\"BasicTickFormatter\"},{\"attributes\":{\"coordinates\":null,\"data_source\":{\"id\":\"28781\"},\"glyph\":{\"id\":\"28784\"},\"group\":null,\"hover_glyph\":null,\"muted_glyph\":{\"id\":\"28786\"},\"nonselection_glyph\":{\"id\":\"28785\"},\"selection_glyph\":{\"id\":\"28789\"},\"view\":{\"id\":\"28788\"}},\"id\":\"28787\",\"type\":\"GlyphRenderer\"},{\"attributes\":{\"fill_alpha\":{\"value\":0.1},\"fill_color\":{\"value\":\"red\"},\"hatch_alpha\":{\"value\":0.1},\"hatch_color\":{\"value\":\"red\"},\"line_alpha\":{\"value\":0.1},\"line_color\":{\"value\":\"red\"},\"size\":{\"value\":5.477225575051661},\"x\":{\"field\":\"age\"},\"y\":{\"field\":\"wtsupp\"}},\"id\":\"28785\",\"type\":\"Scatter\"},{\"attributes\":{\"tools\":[{\"id\":\"28750\"},{\"id\":\"28768\"},{\"id\":\"28769\"},{\"id\":\"28770\"},{\"id\":\"28771\"},{\"id\":\"28772\"}]},\"id\":\"28774\",\"type\":\"Toolbar\"},{\"attributes\":{},\"id\":\"28765\",\"type\":\"BasicTicker\"},{\"attributes\":{},\"id\":\"28761\",\"type\":\"BasicTicker\"},{\"attributes\":{\"bottom_units\":\"screen\",\"coordinates\":null,\"fill_alpha\":0.5,\"fill_color\":\"lightgrey\",\"group\":null,\"left_units\":\"screen\",\"level\":\"overlay\",\"line_alpha\":1.0,\"line_color\":\"black\",\"line_dash\":[4,4],\"line_width\":2,\"right_units\":\"screen\",\"syncable\":false,\"top_units\":\"screen\"},\"id\":\"28773\",\"type\":\"BoxAnnotation\"},{\"attributes\":{},\"id\":\"28768\",\"type\":\"SaveTool\"},{\"attributes\":{},\"id\":\"28769\",\"type\":\"PanTool\"},{\"attributes\":{},\"id\":\"28772\",\"type\":\"ResetTool\"},{\"attributes\":{},\"id\":\"28770\",\"type\":\"WheelZoomTool\"},{\"attributes\":{},\"id\":\"28795\",\"type\":\"AllLabels\"},{\"attributes\":{},\"id\":\"28791\",\"type\":\"BasicTickFormatter\"},{\"attributes\":{\"margin\":[5,5,5,5],\"name\":\"HSpacer66940\",\"sizing_mode\":\"stretch_width\"},\"id\":\"28816\",\"type\":\"Spacer\"},{\"attributes\":{\"overlay\":{\"id\":\"28773\"}},\"id\":\"28771\",\"type\":\"BoxZoomTool\"},{\"attributes\":{},\"id\":\"28782\",\"type\":\"Selection\"},{\"attributes\":{\"fill_alpha\":{\"value\":0.2},\"fill_color\":{\"value\":\"red\"},\"hatch_alpha\":{\"value\":0.2},\"hatch_color\":{\"value\":\"red\"},\"line_alpha\":{\"value\":0.2},\"line_color\":{\"value\":\"red\"},\"size\":{\"value\":5.477225575051661},\"x\":{\"field\":\"age\"},\"y\":{\"field\":\"wtsupp\"}},\"id\":\"28786\",\"type\":\"Scatter\"},{\"attributes\":{\"coordinates\":null,\"group\":null,\"text\":\"2015 Total\",\"text_color\":\"black\",\"text_font_size\":\"12pt\"},\"id\":\"28752\",\"type\":\"Title\"},{\"attributes\":{},\"id\":\"28803\",\"type\":\"UnionRenderers\"},{\"attributes\":{},\"id\":\"28756\",\"type\":\"LinearScale\"},{\"attributes\":{\"children\":[{\"id\":\"28747\"},{\"id\":\"28751\"},{\"id\":\"28816\"}],\"margin\":[0,0,0,0],\"name\":\"Row66935\",\"tags\":[\"embedded\"]},\"id\":\"28746\",\"type\":\"Row\"},{\"attributes\":{\"fill_color\":{\"value\":\"red\"},\"hatch_color\":{\"value\":\"red\"},\"line_color\":{\"value\":\"red\"},\"size\":{\"value\":5.477225575051661},\"x\":{\"field\":\"age\"},\"y\":{\"field\":\"wtsupp\"}},\"id\":\"28784\",\"type\":\"Scatter\"},{\"attributes\":{\"axis\":{\"id\":\"28760\"},\"coordinates\":null,\"grid_line_color\":null,\"group\":null,\"ticker\":null},\"id\":\"28763\",\"type\":\"Grid\"},{\"attributes\":{},\"id\":\"28758\",\"type\":\"LinearScale\"},{\"attributes\":{\"callback\":null,\"renderers\":[{\"id\":\"28787\"}],\"tags\":[\"hv_created\"],\"tooltips\":[[\"age\",\"@{age}\"],[\"wtsupp\",\"@{wtsupp}\"]]},\"id\":\"28750\",\"type\":\"HoverTool\"},{\"attributes\":{\"axis_label\":\"LFPR\",\"coordinates\":null,\"formatter\":{\"id\":\"28794\"},\"group\":null,\"major_label_policy\":{\"id\":\"28795\"},\"ticker\":{\"id\":\"28765\"}},\"id\":\"28764\",\"type\":\"LinearAxis\"},{\"attributes\":{},\"id\":\"28792\",\"type\":\"AllLabels\"},{\"attributes\":{\"axis_label\":\"age\",\"coordinates\":null,\"formatter\":{\"id\":\"28791\"},\"group\":null,\"major_label_policy\":{\"id\":\"28792\"},\"ticker\":{\"id\":\"28761\"}},\"id\":\"28760\",\"type\":\"LinearAxis\"},{\"attributes\":{\"below\":[{\"id\":\"28760\"}],\"center\":[{\"id\":\"28763\"},{\"id\":\"28767\"}],\"height\":300,\"left\":[{\"id\":\"28764\"}],\"margin\":[5,5,5,5],\"min_border_bottom\":10,\"min_border_left\":10,\"min_border_right\":10,\"min_border_top\":10,\"renderers\":[{\"id\":\"28787\"}],\"sizing_mode\":\"fixed\",\"title\":{\"id\":\"28752\"},\"toolbar\":{\"id\":\"28774\"},\"width\":700,\"x_range\":{\"id\":\"28748\"},\"x_scale\":{\"id\":\"28756\"},\"y_range\":{\"id\":\"28749\"},\"y_scale\":{\"id\":\"28758\"}},\"id\":\"28751\",\"subtype\":\"Figure\",\"type\":\"Plot\"},{\"attributes\":{\"end\":88.0,\"reset_end\":88.0,\"reset_start\":12.0,\"start\":12.0,\"tags\":[[[\"age\",\"age\",null]]]},\"id\":\"28748\",\"type\":\"Range1d\"},{\"attributes\":{\"axis\":{\"id\":\"28764\"},\"coordinates\":null,\"dimension\":1,\"grid_line_color\":null,\"group\":null,\"ticker\":null},\"id\":\"28767\",\"type\":\"Grid\"},{\"attributes\":{\"source\":{\"id\":\"28781\"}},\"id\":\"28788\",\"type\":\"CDSView\"},{\"attributes\":{\"margin\":[5,5,5,5],\"name\":\"HSpacer66939\",\"sizing_mode\":\"stretch_width\"},\"id\":\"28747\",\"type\":\"Spacer\"},{\"attributes\":{\"end\":0.9104382490080469,\"reset_end\":0.9104382490080469,\"reset_start\":-0.03796814470229702,\"start\":-0.03796814470229702,\"tags\":[[[\"wtsupp\",\"wtsupp\",null]]]},\"id\":\"28749\",\"type\":\"Range1d\"},{\"attributes\":{\"angle\":{\"value\":0.0},\"fill_alpha\":{\"value\":1.0},\"fill_color\":{\"value\":\"red\"},\"hatch_alpha\":{\"value\":1.0},\"hatch_color\":{\"value\":\"red\"},\"hatch_scale\":{\"value\":12.0},\"hatch_weight\":{\"value\":1.0},\"line_alpha\":{\"value\":1.0},\"line_cap\":{\"value\":\"butt\"},\"line_color\":{\"value\":\"red\"},\"line_dash\":{\"value\":[]},\"line_dash_offset\":{\"value\":0},\"line_join\":{\"value\":\"bevel\"},\"line_width\":{\"value\":1},\"marker\":{\"value\":\"circle\"},\"size\":{\"value\":5.477225575051661},\"x\":{\"field\":\"age\"},\"y\":{\"field\":\"wtsupp\"}},\"id\":\"28789\",\"type\":\"Scatter\"}],\"root_ids\":[\"28746\"]},\"title\":\"Bokeh Application\",\"version\":\"2.4.2\"}};\n",
       "    var render_items = [{\"docid\":\"a484657d-0eda-48a8-a7d8-b3d9ea0f5d66\",\"root_ids\":[\"28746\"],\"roots\":{\"28746\":\"168771cf-97bf-46c8-afac-e4262dceea2e\"}}];\n",
       "    root.Bokeh.embed.embed_items_notebook(docs_json, render_items);\n",
       "  }\n",
       "  if (root.Bokeh !== undefined && root.Bokeh.Panel !== undefined) {\n",
       "    embed_document(root);\n",
       "  } else {\n",
       "    var attempts = 0;\n",
       "    var timer = setInterval(function(root) {\n",
       "      if (root.Bokeh !== undefined && root.Bokeh.Panel !== undefined) {\n",
       "        clearInterval(timer);\n",
       "        embed_document(root);\n",
       "      } else if (document.readyState == \"complete\") {\n",
       "        attempts++;\n",
       "        if (attempts > 200) {\n",
       "          clearInterval(timer);\n",
       "          console.log(\"Bokeh: ERROR: Unable to run BokehJS code because BokehJS library is missing\");\n",
       "        }\n",
       "      }\n",
       "    }, 25, root)\n",
       "  }\n",
       "})(window);</script>"
      ],
      "text/plain": [
       ":Scatter   [age]   (wtsupp)"
      ]
     },
     "execution_count": 373,
     "metadata": {
      "application/vnd.holoviews_exec.v0+json": {
       "id": "28746"
      }
     },
     "output_type": "execute_result"
    }
   ],
   "source": [
    "total_lfpr_2015 = df.loc[df['labforce'] == 2].loc[df['year'] == 2015][['wtsupp']].groupby(df['age']).sum() / df.loc[df['labforce'] > 0].loc[df['year'] == 2015][['wtsupp']].groupby(df['age']).sum()\n",
    "total_lfpr_2015.hvplot(kind = 'scatter',ylabel = 'LFPR',color = 'red', title = '2015 Total')"
   ]
  },
  {
   "cell_type": "code",
   "execution_count": 374,
   "id": "a5370803-842c-4ddb-8616-9a5ecdc65a20",
   "metadata": {},
   "outputs": [
    {
     "data": {},
     "metadata": {},
     "output_type": "display_data"
    },
    {
     "data": {
      "application/vnd.holoviews_exec.v0+json": "",
      "text/html": [
       "<div id='28868'>\n",
       "\n",
       "\n",
       "\n",
       "\n",
       "\n",
       "  <div class=\"bk-root\" id=\"d7b766f0-33b5-4fd3-b6db-eb53983b149a\" data-root-id=\"28868\"></div>\n",
       "</div>\n",
       "<script type=\"application/javascript\">(function(root) {\n",
       "  function embed_document(root) {\n",
       "    var docs_json = {\"a9719622-9dc1-4f47-bf58-fd0be282b986\":{\"defs\":[{\"extends\":null,\"module\":null,\"name\":\"ReactiveHTML1\",\"overrides\":[],\"properties\":[]},{\"extends\":null,\"module\":null,\"name\":\"FlexBox1\",\"overrides\":[],\"properties\":[{\"default\":\"flex-start\",\"kind\":null,\"name\":\"align_content\"},{\"default\":\"flex-start\",\"kind\":null,\"name\":\"align_items\"},{\"default\":\"row\",\"kind\":null,\"name\":\"flex_direction\"},{\"default\":\"wrap\",\"kind\":null,\"name\":\"flex_wrap\"},{\"default\":\"flex-start\",\"kind\":null,\"name\":\"justify_content\"}]},{\"extends\":null,\"module\":null,\"name\":\"TemplateActions1\",\"overrides\":[],\"properties\":[{\"default\":0,\"kind\":null,\"name\":\"open_modal\"},{\"default\":0,\"kind\":null,\"name\":\"close_modal\"}]},{\"extends\":null,\"module\":null,\"name\":\"MaterialTemplateActions1\",\"overrides\":[],\"properties\":[{\"default\":0,\"kind\":null,\"name\":\"open_modal\"},{\"default\":0,\"kind\":null,\"name\":\"close_modal\"}]}],\"roots\":{\"references\":[{\"attributes\":{},\"id\":\"28906\",\"type\":\"AllLabels\"},{\"attributes\":{\"fill_alpha\":{\"value\":0.1},\"fill_color\":{\"value\":\"green\"},\"hatch_alpha\":{\"value\":0.1},\"hatch_color\":{\"value\":\"green\"},\"line_alpha\":{\"value\":0.1},\"line_color\":{\"value\":\"green\"},\"size\":{\"value\":5.477225575051661},\"x\":{\"field\":\"age\"},\"y\":{\"field\":\"wtsupp\"}},\"id\":\"28914\",\"type\":\"Scatter\"},{\"attributes\":{},\"id\":\"28888\",\"type\":\"BasicTicker\"},{\"attributes\":{\"axis\":{\"id\":\"28883\"},\"coordinates\":null,\"grid_line_color\":null,\"group\":null,\"ticker\":null},\"id\":\"28886\",\"type\":\"Grid\"},{\"attributes\":{\"fill_color\":{\"value\":\"green\"},\"hatch_color\":{\"value\":\"green\"},\"line_color\":{\"value\":\"green\"},\"size\":{\"value\":5.477225575051661},\"x\":{\"field\":\"age\"},\"y\":{\"field\":\"wtsupp\"}},\"id\":\"28913\",\"type\":\"Scatter\"},{\"attributes\":{\"data\":{\"age\":[15,16,17,18,19,20,21,22,23,24,25,26,27,28,29,30,31,32,33,34,35,36,37,38,39,40,41,42,43,44,45,46,47,48,49,50,51,52,53,54,55,56,57,58,59,60,61,62,63,64,65,66,67,68,69,70,71,72,73,74,75,76,77,78,79,80,85],\"wtsupp\":{\"__ndarray__\":\"fnNmNfOirD90bUcsPoXBP68UBZxdi9A/hwjs10A32j91zlCmQJXgP4Wkv98qLOM/Y0rhi2VC5D/Qs4A1deDlP9UzJc7c0Oc/kU8wfU0R6T/D6Z1lxtHpP00LJMbqauk/HR7iIoRm6T/AhidJ357pP1kbcttoSeo/fwZBjaJC6j+PuToZ3IjqP/SmOT1vtek/WxzkjPwR6j+LioAtMInpP2tsB60W1+k/QBSlJ2bG6T8QvvG0HTfqP4WZx4sEUeo/IhJFXd2a6j8WZQYOmGzqP26jQ1MqJeo/ZTYflAA96j8aSiKUQoDqP70VlnCdPeo/CQ5rBAc96j8Pe3JiwGDqP99QSeODoek/l2Z5E7756T916Dnc1yLpPwG7qg5AD+k/4Sw2fFkI6T/ys84GRPXoP0DMOZeXGuk/mJ/L7/kE6D9BnCLIQp3oPybXjkFlhOc/WmWCqeBs5z+sLeRJZ6/mP9AdjRaDuOQ/ewgNtXrY5D8COZ/hMQPkP/oIVD8zyeE/HlfIaqi+3z9ItHWv6T3eP44WDBAQrNk/aQJh9Fd11z8EQkU2X87TPxrUdosa79E/Pak9y5ha0T+5aWp4smTPPw9fzLkCb8w/RmMDz8u7xj+xeB38wfzFP835VB/Tr8M/qdd4RS4UxD/Zj0k+aC3CP7fLkdzlEL8/+7pfN0wauz96OlixWvq5P4Qc/mzZ77E/+hYl9ZAGpT8=\",\"dtype\":\"float64\",\"order\":\"little\",\"shape\":[67]}},\"selected\":{\"id\":\"28920\"},\"selection_policy\":{\"id\":\"28937\"}},\"id\":\"28919\",\"type\":\"ColumnDataSource\"},{\"attributes\":{},\"id\":\"28937\",\"type\":\"UnionRenderers\"},{\"attributes\":{\"axis_label\":\"LFRP\",\"coordinates\":null,\"formatter\":{\"id\":\"28908\"},\"group\":null,\"major_label_policy\":{\"id\":\"28909\"},\"ticker\":{\"id\":\"28888\"}},\"id\":\"28887\",\"type\":\"LinearAxis\"},{\"attributes\":{\"end\":0.9405649353134901,\"reset_end\":0.9405649353134901,\"reset_start\":-0.07614258543303515,\"start\":-0.07614258543303515,\"tags\":[[[\"wtsupp\",\"wtsupp\",null]]]},\"id\":\"28871\",\"type\":\"Range1d\"},{\"attributes\":{\"angle\":{\"value\":0.0},\"fill_alpha\":{\"value\":1.0},\"fill_color\":{\"value\":\"green\"},\"hatch_alpha\":{\"value\":1.0},\"hatch_color\":{\"value\":\"green\"},\"hatch_scale\":{\"value\":12.0},\"hatch_weight\":{\"value\":1.0},\"line_alpha\":{\"value\":1.0},\"line_cap\":{\"value\":\"butt\"},\"line_color\":{\"value\":\"green\"},\"line_dash\":{\"value\":[]},\"line_dash_offset\":{\"value\":0},\"line_join\":{\"value\":\"bevel\"},\"line_width\":{\"value\":1},\"marker\":{\"value\":\"circle\"},\"size\":{\"value\":5.477225575051661},\"x\":{\"field\":\"age\"},\"y\":{\"field\":\"wtsupp\"}},\"id\":\"28918\",\"type\":\"Scatter\"},{\"attributes\":{\"axis\":{\"id\":\"28887\"},\"coordinates\":null,\"dimension\":1,\"grid_line_color\":null,\"group\":null,\"ticker\":null},\"id\":\"28890\",\"type\":\"Grid\"},{\"attributes\":{\"coordinates\":null,\"group\":null,\"text\":\"1995(Green) & 2015(Red) LFPR\",\"text_color\":\"black\",\"text_font_size\":\"12pt\"},\"id\":\"28875\",\"type\":\"Title\"},{\"attributes\":{\"coordinates\":null,\"data_source\":{\"id\":\"28919\"},\"glyph\":{\"id\":\"28922\"},\"group\":null,\"hover_glyph\":null,\"muted_glyph\":{\"id\":\"28924\"},\"nonselection_glyph\":{\"id\":\"28923\"},\"selection_glyph\":{\"id\":\"28927\"},\"view\":{\"id\":\"28926\"}},\"id\":\"28925\",\"type\":\"GlyphRenderer\"},{\"attributes\":{\"fill_alpha\":{\"value\":0.2},\"fill_color\":{\"value\":\"green\"},\"hatch_alpha\":{\"value\":0.2},\"hatch_color\":{\"value\":\"green\"},\"line_alpha\":{\"value\":0.2},\"line_color\":{\"value\":\"green\"},\"size\":{\"value\":5.477225575051661},\"x\":{\"field\":\"age\"},\"y\":{\"field\":\"wtsupp\"}},\"id\":\"28915\",\"type\":\"Scatter\"},{\"attributes\":{\"fill_color\":{\"value\":\"red\"},\"hatch_color\":{\"value\":\"red\"},\"line_color\":{\"value\":\"red\"},\"size\":{\"value\":5.477225575051661},\"x\":{\"field\":\"age\"},\"y\":{\"field\":\"wtsupp\"}},\"id\":\"28922\",\"type\":\"Scatter\"},{\"attributes\":{},\"id\":\"28909\",\"type\":\"AllLabels\"},{\"attributes\":{\"margin\":[5,5,5,5],\"name\":\"HSpacer67191\",\"sizing_mode\":\"stretch_width\"},\"id\":\"28869\",\"type\":\"Spacer\"},{\"attributes\":{\"callback\":null,\"renderers\":[{\"id\":\"28916\"},{\"id\":\"28925\"}],\"tags\":[\"hv_created\"],\"tooltips\":[[\"age\",\"@{age}\"],[\"wtsupp\",\"@{wtsupp}\"]]},\"id\":\"28872\",\"type\":\"HoverTool\"},{\"attributes\":{\"data\":{\"age\":[15,16,17,18,19,20,21,22,23,24,25,26,27,28,29,30,31,32,33,34,35,36,37,38,39,40,41,42,43,44,45,46,47,48,49,50,51,52,53,54,55,56,57,58,59,60,61,62,63,64,65,66,67,68,69,70,71,72,73,74,75,76,77,78,79,80,81,82,83,84,85,86,87,88,89,90],\"wtsupp\":{\"__ndarray__\":\"/rID4P2avj+YjDNFmUjVP/NjaysEYdw/6LhVp0My4j/S7XeL9hDlPzpmG+lkmeU/WY6Ge/Yi5z918nrFXxnoPxIaWZh7Fek/EyLEaaRZ6j8WutZ/wALqP4Wr6+FmXuo/p2ApEwKv6j+8ESAeCWPrPziHwwUFYuo/K6cj8tOZ6j/Y859IKMXqP73egeAc5+o/v8Qha7tR6z9XsmmGgF7qP8r8NsBPtOo/lhE8tHW66j/M1PuO1xPrP6huNEQGNOs/sLxb8Ufv6j/ets6N89XqP9P0WzpRSOs/k+iKnITp6j8T27SHfwXrPxVRR8zhe+o/NJP3ozYJ6z/0YbdQnGDrPzTxZ4ZjQOs/I2ENkaqT6j8Gqmc0ShjqP+ZYKS0i8ek/tnMGPkPP6T9tGX3oqDjpPyEMW8y1N+k/p0NAmT916D9c2VlyNQznP+dY8NLJ9uY/BmxRAvO25T/qkuK/xGblP1szvB8e2uM/hZAzfkjt4j/7ExmwkAnhP6zeNGy5GNo/A0qjZeCE2D9a5SpsmOHVP+coxkvqudE/FSg1huFd0D8tHWNuqp7NP9tlJCJjncg/aOHdjMFmxD8ivPV8SCbDPwNf6+M2dMA/VQS+rUWQvz8aRek+BCC8P6bMOYau17Q/xJx28XshuD/F+9q+uv20P6oOtSReDbQ/B/OFh2NZrD+EMFIGoUS1P9GIuBCQA5w/Lkair74Amz903PJyJV2gP9wz1ADNKZM/Z0799nL/lD+VJ5aMfxeLPxvVGIbONZU/AAAAAAAA+H+4rVNN/JOBP1/UCiHNjYc/PiJbi1uOoD8=\",\"dtype\":\"float64\",\"order\":\"little\",\"shape\":[76]}},\"selected\":{\"id\":\"28911\"},\"selection_policy\":{\"id\":\"28935\"}},\"id\":\"28910\",\"type\":\"ColumnDataSource\"},{\"attributes\":{\"angle\":{\"value\":0.0},\"fill_alpha\":{\"value\":1.0},\"fill_color\":{\"value\":\"red\"},\"hatch_alpha\":{\"value\":1.0},\"hatch_color\":{\"value\":\"red\"},\"hatch_scale\":{\"value\":12.0},\"hatch_weight\":{\"value\":1.0},\"line_alpha\":{\"value\":1.0},\"line_cap\":{\"value\":\"butt\"},\"line_color\":{\"value\":\"red\"},\"line_dash\":{\"value\":[]},\"line_dash_offset\":{\"value\":0},\"line_join\":{\"value\":\"bevel\"},\"line_width\":{\"value\":1},\"marker\":{\"value\":\"circle\"},\"size\":{\"value\":5.477225575051661},\"x\":{\"field\":\"age\"},\"y\":{\"field\":\"wtsupp\"}},\"id\":\"28927\",\"type\":\"Scatter\"},{\"attributes\":{\"tools\":[{\"id\":\"28872\"},{\"id\":\"28891\"},{\"id\":\"28892\"},{\"id\":\"28893\"},{\"id\":\"28894\"},{\"id\":\"28895\"}]},\"id\":\"28897\",\"type\":\"Toolbar\"},{\"attributes\":{\"fill_alpha\":{\"value\":0.2},\"fill_color\":{\"value\":\"red\"},\"hatch_alpha\":{\"value\":0.2},\"hatch_color\":{\"value\":\"red\"},\"line_alpha\":{\"value\":0.2},\"line_color\":{\"value\":\"red\"},\"size\":{\"value\":5.477225575051661},\"x\":{\"field\":\"age\"},\"y\":{\"field\":\"wtsupp\"}},\"id\":\"28924\",\"type\":\"Scatter\"},{\"attributes\":{\"bottom_units\":\"screen\",\"coordinates\":null,\"fill_alpha\":0.5,\"fill_color\":\"lightgrey\",\"group\":null,\"left_units\":\"screen\",\"level\":\"overlay\",\"line_alpha\":1.0,\"line_color\":\"black\",\"line_dash\":[4,4],\"line_width\":2,\"right_units\":\"screen\",\"syncable\":false,\"top_units\":\"screen\"},\"id\":\"28896\",\"type\":\"BoxAnnotation\"},{\"attributes\":{},\"id\":\"28891\",\"type\":\"SaveTool\"},{\"attributes\":{},\"id\":\"28905\",\"type\":\"BasicTickFormatter\"},{\"attributes\":{},\"id\":\"28892\",\"type\":\"PanTool\"},{\"attributes\":{},\"id\":\"28895\",\"type\":\"ResetTool\"},{\"attributes\":{\"fill_alpha\":{\"value\":0.1},\"fill_color\":{\"value\":\"red\"},\"hatch_alpha\":{\"value\":0.1},\"hatch_color\":{\"value\":\"red\"},\"line_alpha\":{\"value\":0.1},\"line_color\":{\"value\":\"red\"},\"size\":{\"value\":5.477225575051661},\"x\":{\"field\":\"age\"},\"y\":{\"field\":\"wtsupp\"}},\"id\":\"28923\",\"type\":\"Scatter\"},{\"attributes\":{},\"id\":\"28893\",\"type\":\"WheelZoomTool\"},{\"attributes\":{\"axis_label\":\"age\",\"coordinates\":null,\"formatter\":{\"id\":\"28905\"},\"group\":null,\"major_label_policy\":{\"id\":\"28906\"},\"ticker\":{\"id\":\"28884\"}},\"id\":\"28883\",\"type\":\"LinearAxis\"},{\"attributes\":{\"source\":{\"id\":\"28910\"}},\"id\":\"28917\",\"type\":\"CDSView\"},{\"attributes\":{},\"id\":\"28935\",\"type\":\"UnionRenderers\"},{\"attributes\":{\"coordinates\":null,\"data_source\":{\"id\":\"28910\"},\"glyph\":{\"id\":\"28913\"},\"group\":null,\"hover_glyph\":null,\"muted_glyph\":{\"id\":\"28915\"},\"nonselection_glyph\":{\"id\":\"28914\"},\"selection_glyph\":{\"id\":\"28918\"},\"view\":{\"id\":\"28917\"}},\"id\":\"28916\",\"type\":\"GlyphRenderer\"},{\"attributes\":{\"overlay\":{\"id\":\"28896\"}},\"id\":\"28894\",\"type\":\"BoxZoomTool\"},{\"attributes\":{},\"id\":\"28908\",\"type\":\"BasicTickFormatter\"},{\"attributes\":{},\"id\":\"28911\",\"type\":\"Selection\"},{\"attributes\":{\"below\":[{\"id\":\"28883\"}],\"center\":[{\"id\":\"28886\"},{\"id\":\"28890\"}],\"height\":300,\"left\":[{\"id\":\"28887\"}],\"margin\":[5,5,5,5],\"min_border_bottom\":10,\"min_border_left\":10,\"min_border_right\":10,\"min_border_top\":10,\"renderers\":[{\"id\":\"28916\"},{\"id\":\"28925\"}],\"sizing_mode\":\"fixed\",\"title\":{\"id\":\"28875\"},\"toolbar\":{\"id\":\"28897\"},\"width\":700,\"x_range\":{\"id\":\"28870\"},\"x_scale\":{\"id\":\"28879\"},\"y_range\":{\"id\":\"28871\"},\"y_scale\":{\"id\":\"28881\"}},\"id\":\"28874\",\"subtype\":\"Figure\",\"type\":\"Plot\"},{\"attributes\":{\"end\":93.21428571428571,\"reset_end\":93.21428571428571,\"reset_start\":11.785714285714285,\"start\":11.785714285714285,\"tags\":[[[\"age\",\"age\",null]]]},\"id\":\"28870\",\"type\":\"Range1d\"},{\"attributes\":{\"margin\":[5,5,5,5],\"name\":\"HSpacer67192\",\"sizing_mode\":\"stretch_width\"},\"id\":\"29036\",\"type\":\"Spacer\"},{\"attributes\":{},\"id\":\"28879\",\"type\":\"LinearScale\"},{\"attributes\":{},\"id\":\"28884\",\"type\":\"BasicTicker\"},{\"attributes\":{},\"id\":\"28920\",\"type\":\"Selection\"},{\"attributes\":{\"children\":[{\"id\":\"28869\"},{\"id\":\"28874\"},{\"id\":\"29036\"}],\"margin\":[0,0,0,0],\"name\":\"Row67187\",\"tags\":[\"embedded\"]},\"id\":\"28868\",\"type\":\"Row\"},{\"attributes\":{\"source\":{\"id\":\"28919\"}},\"id\":\"28926\",\"type\":\"CDSView\"},{\"attributes\":{},\"id\":\"28881\",\"type\":\"LinearScale\"}],\"root_ids\":[\"28868\"]},\"title\":\"Bokeh Application\",\"version\":\"2.4.2\"}};\n",
       "    var render_items = [{\"docid\":\"a9719622-9dc1-4f47-bf58-fd0be282b986\",\"root_ids\":[\"28868\"],\"roots\":{\"28868\":\"d7b766f0-33b5-4fd3-b6db-eb53983b149a\"}}];\n",
       "    root.Bokeh.embed.embed_items_notebook(docs_json, render_items);\n",
       "  }\n",
       "  if (root.Bokeh !== undefined && root.Bokeh.Panel !== undefined) {\n",
       "    embed_document(root);\n",
       "  } else {\n",
       "    var attempts = 0;\n",
       "    var timer = setInterval(function(root) {\n",
       "      if (root.Bokeh !== undefined && root.Bokeh.Panel !== undefined) {\n",
       "        clearInterval(timer);\n",
       "        embed_document(root);\n",
       "      } else if (document.readyState == \"complete\") {\n",
       "        attempts++;\n",
       "        if (attempts > 200) {\n",
       "          clearInterval(timer);\n",
       "          console.log(\"Bokeh: ERROR: Unable to run BokehJS code because BokehJS library is missing\");\n",
       "        }\n",
       "      }\n",
       "    }, 25, root)\n",
       "  }\n",
       "})(window);</script>"
      ],
      "text/plain": [
       ":Overlay\n",
       "   .Scatter.I  :Scatter   [age]   (wtsupp)\n",
       "   .Scatter.II :Scatter   [age]   (wtsupp)"
      ]
     },
     "execution_count": 374,
     "metadata": {
      "application/vnd.holoviews_exec.v0+json": {
       "id": "28868"
      }
     },
     "output_type": "execute_result"
    }
   ],
   "source": [
    "total_lfpr_1995.hvplot(kind = 'scatter',ylabel = 'LFRP',color = 'green', title = '1995(Green) & 2015(Red) LFPR') * total_lfpr_2015.hvplot(kind = 'scatter',ylabel = 'LFPR',color = 'red', title = '2015')"
   ]
  },
  {
   "cell_type": "code",
   "execution_count": 375,
   "id": "6180b757-3134-414d-95d4-4dd16e3bfa7d",
   "metadata": {},
   "outputs": [],
   "source": [
    "#Creating male LFPR"
   ]
  },
  {
   "cell_type": "code",
   "execution_count": 376,
   "id": "6757db70-80be-4ed7-aa3c-76c3fca647e3",
   "metadata": {},
   "outputs": [
    {
     "data": {},
     "metadata": {},
     "output_type": "display_data"
    },
    {
     "data": {
      "application/vnd.holoviews_exec.v0+json": "",
      "text/html": [
       "<div id='29098'>\n",
       "\n",
       "\n",
       "\n",
       "\n",
       "\n",
       "  <div class=\"bk-root\" id=\"aaefd097-4f8e-4553-b540-50f27c54930f\" data-root-id=\"29098\"></div>\n",
       "</div>\n",
       "<script type=\"application/javascript\">(function(root) {\n",
       "  function embed_document(root) {\n",
       "    var docs_json = {\"e48273fe-29fc-4ff0-9738-a04759dd75be\":{\"defs\":[{\"extends\":null,\"module\":null,\"name\":\"ReactiveHTML1\",\"overrides\":[],\"properties\":[]},{\"extends\":null,\"module\":null,\"name\":\"FlexBox1\",\"overrides\":[],\"properties\":[{\"default\":\"flex-start\",\"kind\":null,\"name\":\"align_content\"},{\"default\":\"flex-start\",\"kind\":null,\"name\":\"align_items\"},{\"default\":\"row\",\"kind\":null,\"name\":\"flex_direction\"},{\"default\":\"wrap\",\"kind\":null,\"name\":\"flex_wrap\"},{\"default\":\"flex-start\",\"kind\":null,\"name\":\"justify_content\"}]},{\"extends\":null,\"module\":null,\"name\":\"TemplateActions1\",\"overrides\":[],\"properties\":[{\"default\":0,\"kind\":null,\"name\":\"open_modal\"},{\"default\":0,\"kind\":null,\"name\":\"close_modal\"}]},{\"extends\":null,\"module\":null,\"name\":\"MaterialTemplateActions1\",\"overrides\":[],\"properties\":[{\"default\":0,\"kind\":null,\"name\":\"open_modal\"},{\"default\":0,\"kind\":null,\"name\":\"close_modal\"}]}],\"roots\":{\"references\":[{\"attributes\":{\"data\":{\"age\":[15,16,17,18,19,20,21,22,23,24,25,26,27,28,29,30,31,32,33,34,35,36,37,38,39,40,41,42,43,44,45,46,47,48,49,50,51,52,53,54,55,56,57,58,59,60,61,62,63,64,65,66,67,68,69,70,71,72,73,74,75,76,77,78,79,80,81,82,83,84,85,86,87,88,89,90],\"wtsupp\":{\"__ndarray__\":\"IJ3CyeV3vT9QhU6A4TrVP99KgMaVwNs/eVoCTu9q4j9RyOO6e7nlPyLfbIv0Nuc/jIxwwi0X6T9SznqaWTrqP4BZZQkrx+o/sIaAgPei7D/13+6e6+HsP8Rix10hfu0/ZghmoOU97T/oCtpsJx/uP6HAnuUvze0/AWGlOV3r7T+GqU3lr8jtP/3/STzS3+0/ucGxoLKA7T9UdGWst5DtP2Fz3apKde0/mqnXHPwK7T8EW3eaSK3tP3JFHsMZh+0/+pMK39VU7T9dN+nLzDntP295Sz5Le+0/jqu1Ux/g7D/1s+aY7z3tP4SNDAKtUOw/j5DZdNR27T9nPDXYSIbtP25z75UA/+w/XtkxNzOj7D+aPVAJPZDsP6yoKDGs7es/2Glvuy/B6z/g3mqaWqvrPxROrWUYM+w/eVgJKPsy6z+lH99hjkjqP68sWa7SD+o/qZXEcM0s6T+cCZkHxSrpP66lGbnPvOY/rz3y07dL5j8Yd0vZnIbjPyvL5uDMld0/UtqNAWIC3D/GfkI0hazaP3wR4ssWStY/3w5VvOK61D9ZP0TFLOvRP90gKNh8rMw/ocg7XBPDyD9PUOTo3rfKP/la1bzRVMg/uW4VwNR7wj910F9mcNrEP9xZEhYZM70/2LWHnczbwD++x5oFgd66P1cyUVWNlbo/5ggamnGdsj+DUZY090zBP3fM+rLG4aU/9FjVHFpdpz8VUwmC0SKmP4tRPxDIcqM/zbBqSYpenT9B6LAcW5OjP3MHsuTcbqc/AAAAAAAA+H/OfaWr0LyePyrfppEAuac/aCfF488dsz8=\",\"dtype\":\"float64\",\"order\":\"little\",\"shape\":[76]}},\"selected\":{\"id\":\"29134\"},\"selection_policy\":{\"id\":\"29155\"}},\"id\":\"29133\",\"type\":\"ColumnDataSource\"},{\"attributes\":{\"axis\":{\"id\":\"29116\"},\"coordinates\":null,\"dimension\":1,\"grid_line_color\":null,\"group\":null,\"ticker\":null},\"id\":\"29119\",\"type\":\"Grid\"},{\"attributes\":{\"fill_alpha\":{\"value\":0.2},\"fill_color\":{\"value\":\"blue\"},\"hatch_alpha\":{\"value\":0.2},\"hatch_color\":{\"value\":\"blue\"},\"line_alpha\":{\"value\":0.2},\"line_color\":{\"value\":\"blue\"},\"size\":{\"value\":5.477225575051661},\"x\":{\"field\":\"age\"},\"y\":{\"field\":\"wtsupp\"}},\"id\":\"29138\",\"type\":\"Scatter\"},{\"attributes\":{},\"id\":\"29134\",\"type\":\"Selection\"},{\"attributes\":{},\"id\":\"29110\",\"type\":\"LinearScale\"},{\"attributes\":{\"axis_label\":\"age\",\"coordinates\":null,\"formatter\":{\"id\":\"29143\"},\"group\":null,\"major_label_policy\":{\"id\":\"29144\"},\"ticker\":{\"id\":\"29113\"}},\"id\":\"29112\",\"type\":\"LinearAxis\"},{\"attributes\":{\"overlay\":{\"id\":\"29125\"}},\"id\":\"29123\",\"type\":\"BoxZoomTool\"},{\"attributes\":{\"margin\":[5,5,5,5],\"name\":\"HSpacer67594\",\"sizing_mode\":\"stretch_width\"},\"id\":\"29168\",\"type\":\"Spacer\"},{\"attributes\":{},\"id\":\"29117\",\"type\":\"BasicTicker\"},{\"attributes\":{},\"id\":\"29122\",\"type\":\"WheelZoomTool\"},{\"attributes\":{},\"id\":\"29146\",\"type\":\"BasicTickFormatter\"},{\"attributes\":{\"end\":1.0325651815300332,\"reset_end\":1.0325651815300332,\"reset_start\":-0.06258124776458697,\"start\":-0.06258124776458697,\"tags\":[[[\"wtsupp\",\"wtsupp\",null]]]},\"id\":\"29101\",\"type\":\"Range1d\"},{\"attributes\":{\"margin\":[5,5,5,5],\"name\":\"HSpacer67593\",\"sizing_mode\":\"stretch_width\"},\"id\":\"29099\",\"type\":\"Spacer\"},{\"attributes\":{},\"id\":\"29108\",\"type\":\"LinearScale\"},{\"attributes\":{},\"id\":\"29124\",\"type\":\"ResetTool\"},{\"attributes\":{\"axis_label\":\"LFPR\",\"coordinates\":null,\"formatter\":{\"id\":\"29146\"},\"group\":null,\"major_label_policy\":{\"id\":\"29147\"},\"ticker\":{\"id\":\"29117\"}},\"id\":\"29116\",\"type\":\"LinearAxis\"},{\"attributes\":{},\"id\":\"29143\",\"type\":\"BasicTickFormatter\"},{\"attributes\":{\"axis\":{\"id\":\"29112\"},\"coordinates\":null,\"grid_line_color\":null,\"group\":null,\"ticker\":null},\"id\":\"29115\",\"type\":\"Grid\"},{\"attributes\":{\"below\":[{\"id\":\"29112\"}],\"center\":[{\"id\":\"29115\"},{\"id\":\"29119\"}],\"height\":300,\"left\":[{\"id\":\"29116\"}],\"margin\":[5,5,5,5],\"min_border_bottom\":10,\"min_border_left\":10,\"min_border_right\":10,\"min_border_top\":10,\"renderers\":[{\"id\":\"29139\"}],\"sizing_mode\":\"fixed\",\"title\":{\"id\":\"29104\"},\"toolbar\":{\"id\":\"29126\"},\"width\":700,\"x_range\":{\"id\":\"29100\"},\"x_scale\":{\"id\":\"29108\"},\"y_range\":{\"id\":\"29101\"},\"y_scale\":{\"id\":\"29110\"}},\"id\":\"29103\",\"subtype\":\"Figure\",\"type\":\"Plot\"},{\"attributes\":{\"coordinates\":null,\"data_source\":{\"id\":\"29133\"},\"glyph\":{\"id\":\"29136\"},\"group\":null,\"hover_glyph\":null,\"muted_glyph\":{\"id\":\"29138\"},\"nonselection_glyph\":{\"id\":\"29137\"},\"selection_glyph\":{\"id\":\"29141\"},\"view\":{\"id\":\"29140\"}},\"id\":\"29139\",\"type\":\"GlyphRenderer\"},{\"attributes\":{\"callback\":null,\"renderers\":[{\"id\":\"29139\"}],\"tags\":[\"hv_created\"],\"tooltips\":[[\"age\",\"@{age}\"],[\"wtsupp\",\"@{wtsupp}\"]]},\"id\":\"29102\",\"type\":\"HoverTool\"},{\"attributes\":{\"tools\":[{\"id\":\"29102\"},{\"id\":\"29120\"},{\"id\":\"29121\"},{\"id\":\"29122\"},{\"id\":\"29123\"},{\"id\":\"29124\"}]},\"id\":\"29126\",\"type\":\"Toolbar\"},{\"attributes\":{\"angle\":{\"value\":0.0},\"fill_alpha\":{\"value\":1.0},\"fill_color\":{\"value\":\"blue\"},\"hatch_alpha\":{\"value\":1.0},\"hatch_color\":{\"value\":\"blue\"},\"hatch_scale\":{\"value\":12.0},\"hatch_weight\":{\"value\":1.0},\"line_alpha\":{\"value\":1.0},\"line_cap\":{\"value\":\"butt\"},\"line_color\":{\"value\":\"blue\"},\"line_dash\":{\"value\":[]},\"line_dash_offset\":{\"value\":0},\"line_join\":{\"value\":\"bevel\"},\"line_width\":{\"value\":1},\"marker\":{\"value\":\"circle\"},\"size\":{\"value\":5.477225575051661},\"x\":{\"field\":\"age\"},\"y\":{\"field\":\"wtsupp\"}},\"id\":\"29141\",\"type\":\"Scatter\"},{\"attributes\":{\"end\":93.21428571428571,\"reset_end\":93.21428571428571,\"reset_start\":11.785714285714285,\"start\":11.785714285714285,\"tags\":[[[\"age\",\"age\",null]]]},\"id\":\"29100\",\"type\":\"Range1d\"},{\"attributes\":{},\"id\":\"29121\",\"type\":\"PanTool\"},{\"attributes\":{},\"id\":\"29147\",\"type\":\"AllLabels\"},{\"attributes\":{\"bottom_units\":\"screen\",\"coordinates\":null,\"fill_alpha\":0.5,\"fill_color\":\"lightgrey\",\"group\":null,\"left_units\":\"screen\",\"level\":\"overlay\",\"line_alpha\":1.0,\"line_color\":\"black\",\"line_dash\":[4,4],\"line_width\":2,\"right_units\":\"screen\",\"syncable\":false,\"top_units\":\"screen\"},\"id\":\"29125\",\"type\":\"BoxAnnotation\"},{\"attributes\":{\"fill_color\":{\"value\":\"blue\"},\"hatch_color\":{\"value\":\"blue\"},\"line_color\":{\"value\":\"blue\"},\"size\":{\"value\":5.477225575051661},\"x\":{\"field\":\"age\"},\"y\":{\"field\":\"wtsupp\"}},\"id\":\"29136\",\"type\":\"Scatter\"},{\"attributes\":{},\"id\":\"29113\",\"type\":\"BasicTicker\"},{\"attributes\":{},\"id\":\"29155\",\"type\":\"UnionRenderers\"},{\"attributes\":{\"fill_alpha\":{\"value\":0.1},\"fill_color\":{\"value\":\"blue\"},\"hatch_alpha\":{\"value\":0.1},\"hatch_color\":{\"value\":\"blue\"},\"line_alpha\":{\"value\":0.1},\"line_color\":{\"value\":\"blue\"},\"size\":{\"value\":5.477225575051661},\"x\":{\"field\":\"age\"},\"y\":{\"field\":\"wtsupp\"}},\"id\":\"29137\",\"type\":\"Scatter\"},{\"attributes\":{},\"id\":\"29144\",\"type\":\"AllLabels\"},{\"attributes\":{\"source\":{\"id\":\"29133\"}},\"id\":\"29140\",\"type\":\"CDSView\"},{\"attributes\":{\"children\":[{\"id\":\"29099\"},{\"id\":\"29103\"},{\"id\":\"29168\"}],\"margin\":[0,0,0,0],\"name\":\"Row67589\",\"tags\":[\"embedded\"]},\"id\":\"29098\",\"type\":\"Row\"},{\"attributes\":{},\"id\":\"29120\",\"type\":\"SaveTool\"},{\"attributes\":{\"coordinates\":null,\"group\":null,\"text\":\"1995 Male LFPR\",\"text_color\":\"black\",\"text_font_size\":\"12pt\"},\"id\":\"29104\",\"type\":\"Title\"}],\"root_ids\":[\"29098\"]},\"title\":\"Bokeh Application\",\"version\":\"2.4.2\"}};\n",
       "    var render_items = [{\"docid\":\"e48273fe-29fc-4ff0-9738-a04759dd75be\",\"root_ids\":[\"29098\"],\"roots\":{\"29098\":\"aaefd097-4f8e-4553-b540-50f27c54930f\"}}];\n",
       "    root.Bokeh.embed.embed_items_notebook(docs_json, render_items);\n",
       "  }\n",
       "  if (root.Bokeh !== undefined && root.Bokeh.Panel !== undefined) {\n",
       "    embed_document(root);\n",
       "  } else {\n",
       "    var attempts = 0;\n",
       "    var timer = setInterval(function(root) {\n",
       "      if (root.Bokeh !== undefined && root.Bokeh.Panel !== undefined) {\n",
       "        clearInterval(timer);\n",
       "        embed_document(root);\n",
       "      } else if (document.readyState == \"complete\") {\n",
       "        attempts++;\n",
       "        if (attempts > 200) {\n",
       "          clearInterval(timer);\n",
       "          console.log(\"Bokeh: ERROR: Unable to run BokehJS code because BokehJS library is missing\");\n",
       "        }\n",
       "      }\n",
       "    }, 25, root)\n",
       "  }\n",
       "})(window);</script>"
      ],
      "text/plain": [
       ":Scatter   [age]   (wtsupp)"
      ]
     },
     "execution_count": 376,
     "metadata": {
      "application/vnd.holoviews_exec.v0+json": {
       "id": "29098"
      }
     },
     "output_type": "execute_result"
    }
   ],
   "source": [
    "male_lfrp_1995 = df.loc[df['labforce'] == 2].loc[df['year'] == 1995].loc[df['sex'] == 1][['wtsupp']].groupby(df['age']).sum() / df.loc[df['labforce'] > 0].loc[df['year'] == 1995].loc[df['sex'] == 1][['wtsupp']].groupby(df['age']).sum()\n",
    "male_lfrp_1995.hvplot(kind = 'scatter', ylabel = 'LFPR', color = 'blue', title = '1995 Male LFPR' )"
   ]
  },
  {
   "cell_type": "code",
   "execution_count": 377,
   "id": "592d7b84-46ce-4ac5-876c-ef86352b2d9c",
   "metadata": {},
   "outputs": [
    {
     "data": {},
     "metadata": {},
     "output_type": "display_data"
    },
    {
     "data": {
      "application/vnd.holoviews_exec.v0+json": "",
      "text/html": [
       "<div id='29220'>\n",
       "\n",
       "\n",
       "\n",
       "\n",
       "\n",
       "  <div class=\"bk-root\" id=\"c9b3f80e-c78d-4282-8686-10383e903ac6\" data-root-id=\"29220\"></div>\n",
       "</div>\n",
       "<script type=\"application/javascript\">(function(root) {\n",
       "  function embed_document(root) {\n",
       "    var docs_json = {\"68ab793c-26f6-4d45-8f62-22519f4abae9\":{\"defs\":[{\"extends\":null,\"module\":null,\"name\":\"ReactiveHTML1\",\"overrides\":[],\"properties\":[]},{\"extends\":null,\"module\":null,\"name\":\"FlexBox1\",\"overrides\":[],\"properties\":[{\"default\":\"flex-start\",\"kind\":null,\"name\":\"align_content\"},{\"default\":\"flex-start\",\"kind\":null,\"name\":\"align_items\"},{\"default\":\"row\",\"kind\":null,\"name\":\"flex_direction\"},{\"default\":\"wrap\",\"kind\":null,\"name\":\"flex_wrap\"},{\"default\":\"flex-start\",\"kind\":null,\"name\":\"justify_content\"}]},{\"extends\":null,\"module\":null,\"name\":\"TemplateActions1\",\"overrides\":[],\"properties\":[{\"default\":0,\"kind\":null,\"name\":\"open_modal\"},{\"default\":0,\"kind\":null,\"name\":\"close_modal\"}]},{\"extends\":null,\"module\":null,\"name\":\"MaterialTemplateActions1\",\"overrides\":[],\"properties\":[{\"default\":0,\"kind\":null,\"name\":\"open_modal\"},{\"default\":0,\"kind\":null,\"name\":\"close_modal\"}]}],\"roots\":{\"references\":[{\"attributes\":{\"fill_alpha\":{\"value\":0.2},\"fill_color\":{\"value\":\"gold\"},\"hatch_alpha\":{\"value\":0.2},\"hatch_color\":{\"value\":\"gold\"},\"line_alpha\":{\"value\":0.2},\"line_color\":{\"value\":\"gold\"},\"size\":{\"value\":5.477225575051661},\"x\":{\"field\":\"age\"},\"y\":{\"field\":\"wtsupp\"}},\"id\":\"29260\",\"type\":\"Scatter\"},{\"attributes\":{\"overlay\":{\"id\":\"29247\"}},\"id\":\"29245\",\"type\":\"BoxZoomTool\"},{\"attributes\":{},\"id\":\"29235\",\"type\":\"BasicTicker\"},{\"attributes\":{\"coordinates\":null,\"group\":null,\"text\":\"2015 Male LFPR\",\"text_color\":\"black\",\"text_font_size\":\"12pt\"},\"id\":\"29226\",\"type\":\"Title\"},{\"attributes\":{},\"id\":\"29239\",\"type\":\"BasicTicker\"},{\"attributes\":{\"below\":[{\"id\":\"29234\"}],\"center\":[{\"id\":\"29237\"},{\"id\":\"29241\"}],\"height\":300,\"left\":[{\"id\":\"29238\"}],\"margin\":[5,5,5,5],\"min_border_bottom\":10,\"min_border_left\":10,\"min_border_right\":10,\"min_border_top\":10,\"renderers\":[{\"id\":\"29261\"}],\"sizing_mode\":\"fixed\",\"title\":{\"id\":\"29226\"},\"toolbar\":{\"id\":\"29248\"},\"width\":700,\"x_range\":{\"id\":\"29222\"},\"x_scale\":{\"id\":\"29230\"},\"y_range\":{\"id\":\"29223\"},\"y_scale\":{\"id\":\"29232\"}},\"id\":\"29225\",\"subtype\":\"Figure\",\"type\":\"Plot\"},{\"attributes\":{\"axis\":{\"id\":\"29234\"},\"coordinates\":null,\"grid_line_color\":null,\"group\":null,\"ticker\":null},\"id\":\"29237\",\"type\":\"Grid\"},{\"attributes\":{\"angle\":{\"value\":0.0},\"fill_alpha\":{\"value\":1.0},\"fill_color\":{\"value\":\"gold\"},\"hatch_alpha\":{\"value\":1.0},\"hatch_color\":{\"value\":\"gold\"},\"hatch_scale\":{\"value\":12.0},\"hatch_weight\":{\"value\":1.0},\"line_alpha\":{\"value\":1.0},\"line_cap\":{\"value\":\"butt\"},\"line_color\":{\"value\":\"gold\"},\"line_dash\":{\"value\":[]},\"line_dash_offset\":{\"value\":0},\"line_join\":{\"value\":\"bevel\"},\"line_width\":{\"value\":1},\"marker\":{\"value\":\"circle\"},\"size\":{\"value\":5.477225575051661},\"x\":{\"field\":\"age\"},\"y\":{\"field\":\"wtsupp\"}},\"id\":\"29263\",\"type\":\"Scatter\"},{\"attributes\":{},\"id\":\"29243\",\"type\":\"PanTool\"},{\"attributes\":{\"axis_label\":\"age\",\"coordinates\":null,\"formatter\":{\"id\":\"29265\"},\"group\":null,\"major_label_policy\":{\"id\":\"29266\"},\"ticker\":{\"id\":\"29235\"}},\"id\":\"29234\",\"type\":\"LinearAxis\"},{\"attributes\":{\"tools\":[{\"id\":\"29224\"},{\"id\":\"29242\"},{\"id\":\"29243\"},{\"id\":\"29244\"},{\"id\":\"29245\"},{\"id\":\"29246\"}]},\"id\":\"29248\",\"type\":\"Toolbar\"},{\"attributes\":{},\"id\":\"29277\",\"type\":\"UnionRenderers\"},{\"attributes\":{\"coordinates\":null,\"data_source\":{\"id\":\"29255\"},\"glyph\":{\"id\":\"29258\"},\"group\":null,\"hover_glyph\":null,\"muted_glyph\":{\"id\":\"29260\"},\"nonselection_glyph\":{\"id\":\"29259\"},\"selection_glyph\":{\"id\":\"29263\"},\"view\":{\"id\":\"29262\"}},\"id\":\"29261\",\"type\":\"GlyphRenderer\"},{\"attributes\":{},\"id\":\"29246\",\"type\":\"ResetTool\"},{\"attributes\":{\"children\":[{\"id\":\"29221\"},{\"id\":\"29225\"},{\"id\":\"29290\"}],\"margin\":[0,0,0,0],\"name\":\"Row67766\",\"tags\":[\"embedded\"]},\"id\":\"29220\",\"type\":\"Row\"},{\"attributes\":{},\"id\":\"29230\",\"type\":\"LinearScale\"},{\"attributes\":{\"axis_label\":\"LFPR\",\"coordinates\":null,\"formatter\":{\"id\":\"29268\"},\"group\":null,\"major_label_policy\":{\"id\":\"29269\"},\"ticker\":{\"id\":\"29239\"}},\"id\":\"29238\",\"type\":\"LinearAxis\"},{\"attributes\":{\"bottom_units\":\"screen\",\"coordinates\":null,\"fill_alpha\":0.5,\"fill_color\":\"lightgrey\",\"group\":null,\"left_units\":\"screen\",\"level\":\"overlay\",\"line_alpha\":1.0,\"line_color\":\"black\",\"line_dash\":[4,4],\"line_width\":2,\"right_units\":\"screen\",\"syncable\":false,\"top_units\":\"screen\"},\"id\":\"29247\",\"type\":\"BoxAnnotation\"},{\"attributes\":{\"margin\":[5,5,5,5],\"name\":\"HSpacer67770\",\"sizing_mode\":\"stretch_width\"},\"id\":\"29221\",\"type\":\"Spacer\"},{\"attributes\":{\"axis\":{\"id\":\"29238\"},\"coordinates\":null,\"dimension\":1,\"grid_line_color\":null,\"group\":null,\"ticker\":null},\"id\":\"29241\",\"type\":\"Grid\"},{\"attributes\":{},\"id\":\"29266\",\"type\":\"AllLabels\"},{\"attributes\":{\"callback\":null,\"renderers\":[{\"id\":\"29261\"}],\"tags\":[\"hv_created\"],\"tooltips\":[[\"age\",\"@{age}\"],[\"wtsupp\",\"@{wtsupp}\"]]},\"id\":\"29224\",\"type\":\"HoverTool\"},{\"attributes\":{},\"id\":\"29242\",\"type\":\"SaveTool\"},{\"attributes\":{\"margin\":[5,5,5,5],\"name\":\"HSpacer67771\",\"sizing_mode\":\"stretch_width\"},\"id\":\"29290\",\"type\":\"Spacer\"},{\"attributes\":{},\"id\":\"29256\",\"type\":\"Selection\"},{\"attributes\":{\"end\":88.0,\"reset_end\":88.0,\"reset_start\":12.0,\"start\":12.0,\"tags\":[[[\"age\",\"age\",null]]]},\"id\":\"29222\",\"type\":\"Range1d\"},{\"attributes\":{},\"id\":\"29265\",\"type\":\"BasicTickFormatter\"},{\"attributes\":{\"data\":{\"age\":[15,16,17,18,19,20,21,22,23,24,25,26,27,28,29,30,31,32,33,34,35,36,37,38,39,40,41,42,43,44,45,46,47,48,49,50,51,52,53,54,55,56,57,58,59,60,61,62,63,64,65,66,67,68,69,70,71,72,73,74,75,76,77,78,79,80,85],\"wtsupp\":{\"__ndarray__\":\"NKjo270mrz8PpLLuZeXAP97zsMKras8/eZNWSDv12T9V0h5yQFPgP2mBuyzzNOQ/K3tG/hPp5D+jd7Sm1cTmP6iiV3XDS+g/idvaWmZ86j/SPV3nnsrrP0BD2cnAo+s/dqJR9b8u6z/qGoyCM+/rP+bBWzJtvew/VbioE48z7T/rbHQ69mntP+aqifhYiuw/cxiVBcIL7T+ofWucv4DsP/OmcTcr++s/nTm52lYB7T8E+B+y1w7tPzdBDxtOx+w/41n1xTVi7T8LksaXYSftP5afZovbluw/wsXSeBwM7D+fYLIWpQ7tP/0z4AJVd+w/q0j3YvUW7D9IVdWSnHXsP3AQEEGV3Os/dl2Apg3M6z9fkk+IPfbqP/xsuRHapuo/XPfH8K4a6z8W8XBmqfjqP1Q1kmwN1Oo/kY4JjJHd6T8Rla/2+ifqP2ojgzo0Fek/yGD2dZcv6T/+ISPTCn/oP4ePGLd3yOY/hmB+ahWC5z9ncV/9ElLmP0FZKyN/TOM/JuywbAwX4T+kDDMwXuDgP4DoktKmhds/7Rarhf4N2j+0ZZEuap/WP0Ss8yIbLdU/Gc89M4ER1D9Nr2l/Qi/SP+HRoYmSGNE/FPzb/fnczD9dKoMBDpvKPx+y0IqWHck/4nFQeMYcxz9kdB0PAQvJP5bTF06PEsI/XNFPOkZhwz/WQ/7yJknBP+HCDUw9/Lw/x1orS9xAsT8=\",\"dtype\":\"float64\",\"order\":\"little\",\"shape\":[67]}},\"selected\":{\"id\":\"29256\"},\"selection_policy\":{\"id\":\"29277\"}},\"id\":\"29255\",\"type\":\"ColumnDataSource\"},{\"attributes\":{\"fill_alpha\":{\"value\":0.1},\"fill_color\":{\"value\":\"gold\"},\"hatch_alpha\":{\"value\":0.1},\"hatch_color\":{\"value\":\"gold\"},\"line_alpha\":{\"value\":0.1},\"line_color\":{\"value\":\"gold\"},\"size\":{\"value\":5.477225575051661},\"x\":{\"field\":\"age\"},\"y\":{\"field\":\"wtsupp\"}},\"id\":\"29259\",\"type\":\"Scatter\"},{\"attributes\":{},\"id\":\"29269\",\"type\":\"AllLabels\"},{\"attributes\":{},\"id\":\"29244\",\"type\":\"WheelZoomTool\"},{\"attributes\":{},\"id\":\"29268\",\"type\":\"BasicTickFormatter\"},{\"attributes\":{\"end\":1.0050190279741502,\"reset_end\":1.0050190279741502,\"reset_start\":-0.02499178410833247,\"start\":-0.02499178410833247,\"tags\":[[[\"wtsupp\",\"wtsupp\",null]]]},\"id\":\"29223\",\"type\":\"Range1d\"},{\"attributes\":{},\"id\":\"29232\",\"type\":\"LinearScale\"},{\"attributes\":{\"source\":{\"id\":\"29255\"}},\"id\":\"29262\",\"type\":\"CDSView\"},{\"attributes\":{\"fill_color\":{\"value\":\"gold\"},\"hatch_color\":{\"value\":\"gold\"},\"line_color\":{\"value\":\"gold\"},\"size\":{\"value\":5.477225575051661},\"x\":{\"field\":\"age\"},\"y\":{\"field\":\"wtsupp\"}},\"id\":\"29258\",\"type\":\"Scatter\"}],\"root_ids\":[\"29220\"]},\"title\":\"Bokeh Application\",\"version\":\"2.4.2\"}};\n",
       "    var render_items = [{\"docid\":\"68ab793c-26f6-4d45-8f62-22519f4abae9\",\"root_ids\":[\"29220\"],\"roots\":{\"29220\":\"c9b3f80e-c78d-4282-8686-10383e903ac6\"}}];\n",
       "    root.Bokeh.embed.embed_items_notebook(docs_json, render_items);\n",
       "  }\n",
       "  if (root.Bokeh !== undefined && root.Bokeh.Panel !== undefined) {\n",
       "    embed_document(root);\n",
       "  } else {\n",
       "    var attempts = 0;\n",
       "    var timer = setInterval(function(root) {\n",
       "      if (root.Bokeh !== undefined && root.Bokeh.Panel !== undefined) {\n",
       "        clearInterval(timer);\n",
       "        embed_document(root);\n",
       "      } else if (document.readyState == \"complete\") {\n",
       "        attempts++;\n",
       "        if (attempts > 200) {\n",
       "          clearInterval(timer);\n",
       "          console.log(\"Bokeh: ERROR: Unable to run BokehJS code because BokehJS library is missing\");\n",
       "        }\n",
       "      }\n",
       "    }, 25, root)\n",
       "  }\n",
       "})(window);</script>"
      ],
      "text/plain": [
       ":Scatter   [age]   (wtsupp)"
      ]
     },
     "execution_count": 377,
     "metadata": {
      "application/vnd.holoviews_exec.v0+json": {
       "id": "29220"
      }
     },
     "output_type": "execute_result"
    }
   ],
   "source": [
    "male_lfrp_2015 = df.loc[df['labforce'] == 2].loc[df['year'] == 2015].loc[df['sex'] == 1][['wtsupp']].groupby(df['age']).sum() / df.loc[df['labforce'] > 0].loc[df['year'] == 2015].loc[df['sex'] == 1][['wtsupp']].groupby(df['age']).sum()\n",
    "male_lfrp_2015.hvplot(kind = 'scatter', ylabel = 'LFPR', color = 'gold', title = '2015 Male LFPR' )"
   ]
  },
  {
   "cell_type": "code",
   "execution_count": 378,
   "id": "95a976c2-521d-40f1-b528-fb1786cbd286",
   "metadata": {},
   "outputs": [
    {
     "data": {},
     "metadata": {},
     "output_type": "display_data"
    },
    {
     "data": {
      "application/vnd.holoviews_exec.v0+json": "",
      "text/html": [
       "<div id='29342'>\n",
       "\n",
       "\n",
       "\n",
       "\n",
       "\n",
       "  <div class=\"bk-root\" id=\"cd67f42c-1fca-4fb4-afca-40052ea9cc16\" data-root-id=\"29342\"></div>\n",
       "</div>\n",
       "<script type=\"application/javascript\">(function(root) {\n",
       "  function embed_document(root) {\n",
       "    var docs_json = {\"4f5dea46-4af9-4cc3-a963-c9b26a7441f5\":{\"defs\":[{\"extends\":null,\"module\":null,\"name\":\"ReactiveHTML1\",\"overrides\":[],\"properties\":[]},{\"extends\":null,\"module\":null,\"name\":\"FlexBox1\",\"overrides\":[],\"properties\":[{\"default\":\"flex-start\",\"kind\":null,\"name\":\"align_content\"},{\"default\":\"flex-start\",\"kind\":null,\"name\":\"align_items\"},{\"default\":\"row\",\"kind\":null,\"name\":\"flex_direction\"},{\"default\":\"wrap\",\"kind\":null,\"name\":\"flex_wrap\"},{\"default\":\"flex-start\",\"kind\":null,\"name\":\"justify_content\"}]},{\"extends\":null,\"module\":null,\"name\":\"TemplateActions1\",\"overrides\":[],\"properties\":[{\"default\":0,\"kind\":null,\"name\":\"open_modal\"},{\"default\":0,\"kind\":null,\"name\":\"close_modal\"}]},{\"extends\":null,\"module\":null,\"name\":\"MaterialTemplateActions1\",\"overrides\":[],\"properties\":[{\"default\":0,\"kind\":null,\"name\":\"open_modal\"},{\"default\":0,\"kind\":null,\"name\":\"close_modal\"}]}],\"roots\":{\"references\":[{\"attributes\":{\"fill_alpha\":{\"value\":0.2},\"fill_color\":{\"value\":\"gold\"},\"hatch_alpha\":{\"value\":0.2},\"hatch_color\":{\"value\":\"gold\"},\"line_alpha\":{\"value\":0.2},\"line_color\":{\"value\":\"gold\"},\"size\":{\"value\":5.477225575051661},\"x\":{\"field\":\"age\"},\"y\":{\"field\":\"wtsupp\"}},\"id\":\"29398\",\"type\":\"Scatter\"},{\"attributes\":{\"coordinates\":null,\"data_source\":{\"id\":\"29384\"},\"glyph\":{\"id\":\"29387\"},\"group\":null,\"hover_glyph\":null,\"muted_glyph\":{\"id\":\"29389\"},\"nonselection_glyph\":{\"id\":\"29388\"},\"selection_glyph\":{\"id\":\"29392\"},\"view\":{\"id\":\"29391\"}},\"id\":\"29390\",\"type\":\"GlyphRenderer\"},{\"attributes\":{},\"id\":\"29382\",\"type\":\"BasicTickFormatter\"},{\"attributes\":{\"children\":[{\"id\":\"29343\"},{\"id\":\"29348\"},{\"id\":\"29510\"}],\"margin\":[0,0,0,0],\"name\":\"Row68018\",\"tags\":[\"embedded\"]},\"id\":\"29342\",\"type\":\"Row\"},{\"attributes\":{\"fill_alpha\":{\"value\":0.2},\"fill_color\":{\"value\":\"blue\"},\"hatch_alpha\":{\"value\":0.2},\"hatch_color\":{\"value\":\"blue\"},\"line_alpha\":{\"value\":0.2},\"line_color\":{\"value\":\"blue\"},\"size\":{\"value\":5.477225575051661},\"x\":{\"field\":\"age\"},\"y\":{\"field\":\"wtsupp\"}},\"id\":\"29389\",\"type\":\"Scatter\"},{\"attributes\":{\"end\":1.0325651815300332,\"reset_end\":1.0325651815300332,\"reset_start\":-0.06258124776458697,\"start\":-0.06258124776458697,\"tags\":[[[\"wtsupp\",\"wtsupp\",null]]]},\"id\":\"29345\",\"type\":\"Range1d\"},{\"attributes\":{\"angle\":{\"value\":0.0},\"fill_alpha\":{\"value\":1.0},\"fill_color\":{\"value\":\"blue\"},\"hatch_alpha\":{\"value\":1.0},\"hatch_color\":{\"value\":\"blue\"},\"hatch_scale\":{\"value\":12.0},\"hatch_weight\":{\"value\":1.0},\"line_alpha\":{\"value\":1.0},\"line_cap\":{\"value\":\"butt\"},\"line_color\":{\"value\":\"blue\"},\"line_dash\":{\"value\":[]},\"line_dash_offset\":{\"value\":0},\"line_join\":{\"value\":\"bevel\"},\"line_width\":{\"value\":1},\"marker\":{\"value\":\"circle\"},\"size\":{\"value\":5.477225575051661},\"x\":{\"field\":\"age\"},\"y\":{\"field\":\"wtsupp\"}},\"id\":\"29392\",\"type\":\"Scatter\"},{\"attributes\":{\"fill_alpha\":{\"value\":0.1},\"fill_color\":{\"value\":\"blue\"},\"hatch_alpha\":{\"value\":0.1},\"hatch_color\":{\"value\":\"blue\"},\"line_alpha\":{\"value\":0.1},\"line_color\":{\"value\":\"blue\"},\"size\":{\"value\":5.477225575051661},\"x\":{\"field\":\"age\"},\"y\":{\"field\":\"wtsupp\"}},\"id\":\"29388\",\"type\":\"Scatter\"},{\"attributes\":{\"fill_alpha\":{\"value\":0.1},\"fill_color\":{\"value\":\"gold\"},\"hatch_alpha\":{\"value\":0.1},\"hatch_color\":{\"value\":\"gold\"},\"line_alpha\":{\"value\":0.1},\"line_color\":{\"value\":\"gold\"},\"size\":{\"value\":5.477225575051661},\"x\":{\"field\":\"age\"},\"y\":{\"field\":\"wtsupp\"}},\"id\":\"29397\",\"type\":\"Scatter\"},{\"attributes\":{},\"id\":\"29409\",\"type\":\"UnionRenderers\"},{\"attributes\":{\"source\":{\"id\":\"29384\"}},\"id\":\"29391\",\"type\":\"CDSView\"},{\"attributes\":{},\"id\":\"29367\",\"type\":\"WheelZoomTool\"},{\"attributes\":{\"source\":{\"id\":\"29393\"}},\"id\":\"29400\",\"type\":\"CDSView\"},{\"attributes\":{},\"id\":\"29362\",\"type\":\"BasicTicker\"},{\"attributes\":{\"bottom_units\":\"screen\",\"coordinates\":null,\"fill_alpha\":0.5,\"fill_color\":\"lightgrey\",\"group\":null,\"left_units\":\"screen\",\"level\":\"overlay\",\"line_alpha\":1.0,\"line_color\":\"black\",\"line_dash\":[4,4],\"line_width\":2,\"right_units\":\"screen\",\"syncable\":false,\"top_units\":\"screen\"},\"id\":\"29370\",\"type\":\"BoxAnnotation\"},{\"attributes\":{},\"id\":\"29379\",\"type\":\"BasicTickFormatter\"},{\"attributes\":{\"axis_label\":\"age\",\"coordinates\":null,\"formatter\":{\"id\":\"29379\"},\"group\":null,\"major_label_policy\":{\"id\":\"29380\"},\"ticker\":{\"id\":\"29358\"}},\"id\":\"29357\",\"type\":\"LinearAxis\"},{\"attributes\":{\"data\":{\"age\":[15,16,17,18,19,20,21,22,23,24,25,26,27,28,29,30,31,32,33,34,35,36,37,38,39,40,41,42,43,44,45,46,47,48,49,50,51,52,53,54,55,56,57,58,59,60,61,62,63,64,65,66,67,68,69,70,71,72,73,74,75,76,77,78,79,80,85],\"wtsupp\":{\"__ndarray__\":\"NKjo270mrz8PpLLuZeXAP97zsMKras8/eZNWSDv12T9V0h5yQFPgP2mBuyzzNOQ/K3tG/hPp5D+jd7Sm1cTmP6iiV3XDS+g/idvaWmZ86j/SPV3nnsrrP0BD2cnAo+s/dqJR9b8u6z/qGoyCM+/rP+bBWzJtvew/VbioE48z7T/rbHQ69mntP+aqifhYiuw/cxiVBcIL7T+ofWucv4DsP/OmcTcr++s/nTm52lYB7T8E+B+y1w7tPzdBDxtOx+w/41n1xTVi7T8LksaXYSftP5afZovbluw/wsXSeBwM7D+fYLIWpQ7tP/0z4AJVd+w/q0j3YvUW7D9IVdWSnHXsP3AQEEGV3Os/dl2Apg3M6z9fkk+IPfbqP/xsuRHapuo/XPfH8K4a6z8W8XBmqfjqP1Q1kmwN1Oo/kY4JjJHd6T8Rla/2+ifqP2ojgzo0Fek/yGD2dZcv6T/+ISPTCn/oP4ePGLd3yOY/hmB+ahWC5z9ncV/9ElLmP0FZKyN/TOM/JuywbAwX4T+kDDMwXuDgP4DoktKmhds/7Rarhf4N2j+0ZZEuap/WP0Ss8yIbLdU/Gc89M4ER1D9Nr2l/Qi/SP+HRoYmSGNE/FPzb/fnczD9dKoMBDpvKPx+y0IqWHck/4nFQeMYcxz9kdB0PAQvJP5bTF06PEsI/XNFPOkZhwz/WQ/7yJknBP+HCDUw9/Lw/x1orS9xAsT8=\",\"dtype\":\"float64\",\"order\":\"little\",\"shape\":[67]}},\"selected\":{\"id\":\"29394\"},\"selection_policy\":{\"id\":\"29411\"}},\"id\":\"29393\",\"type\":\"ColumnDataSource\"},{\"attributes\":{\"callback\":null,\"renderers\":[{\"id\":\"29390\"},{\"id\":\"29399\"}],\"tags\":[\"hv_created\"],\"tooltips\":[[\"age\",\"@{age}\"],[\"wtsupp\",\"@{wtsupp}\"]]},\"id\":\"29346\",\"type\":\"HoverTool\"},{\"attributes\":{},\"id\":\"29383\",\"type\":\"AllLabels\"},{\"attributes\":{},\"id\":\"29365\",\"type\":\"SaveTool\"},{\"attributes\":{},\"id\":\"29385\",\"type\":\"Selection\"},{\"attributes\":{\"below\":[{\"id\":\"29357\"}],\"center\":[{\"id\":\"29360\"},{\"id\":\"29364\"}],\"height\":300,\"left\":[{\"id\":\"29361\"}],\"margin\":[5,5,5,5],\"min_border_bottom\":10,\"min_border_left\":10,\"min_border_right\":10,\"min_border_top\":10,\"renderers\":[{\"id\":\"29390\"},{\"id\":\"29399\"}],\"sizing_mode\":\"fixed\",\"title\":{\"id\":\"29349\"},\"toolbar\":{\"id\":\"29371\"},\"width\":700,\"x_range\":{\"id\":\"29344\"},\"x_scale\":{\"id\":\"29353\"},\"y_range\":{\"id\":\"29345\"},\"y_scale\":{\"id\":\"29355\"}},\"id\":\"29348\",\"subtype\":\"Figure\",\"type\":\"Plot\"},{\"attributes\":{},\"id\":\"29353\",\"type\":\"LinearScale\"},{\"attributes\":{\"fill_color\":{\"value\":\"blue\"},\"hatch_color\":{\"value\":\"blue\"},\"line_color\":{\"value\":\"blue\"},\"size\":{\"value\":5.477225575051661},\"x\":{\"field\":\"age\"},\"y\":{\"field\":\"wtsupp\"}},\"id\":\"29387\",\"type\":\"Scatter\"},{\"attributes\":{\"angle\":{\"value\":0.0},\"fill_alpha\":{\"value\":1.0},\"fill_color\":{\"value\":\"gold\"},\"hatch_alpha\":{\"value\":1.0},\"hatch_color\":{\"value\":\"gold\"},\"hatch_scale\":{\"value\":12.0},\"hatch_weight\":{\"value\":1.0},\"line_alpha\":{\"value\":1.0},\"line_cap\":{\"value\":\"butt\"},\"line_color\":{\"value\":\"gold\"},\"line_dash\":{\"value\":[]},\"line_dash_offset\":{\"value\":0},\"line_join\":{\"value\":\"bevel\"},\"line_width\":{\"value\":1},\"marker\":{\"value\":\"circle\"},\"size\":{\"value\":5.477225575051661},\"x\":{\"field\":\"age\"},\"y\":{\"field\":\"wtsupp\"}},\"id\":\"29401\",\"type\":\"Scatter\"},{\"attributes\":{},\"id\":\"29394\",\"type\":\"Selection\"},{\"attributes\":{\"margin\":[5,5,5,5],\"name\":\"HSpacer68022\",\"sizing_mode\":\"stretch_width\"},\"id\":\"29343\",\"type\":\"Spacer\"},{\"attributes\":{\"coordinates\":null,\"data_source\":{\"id\":\"29393\"},\"glyph\":{\"id\":\"29396\"},\"group\":null,\"hover_glyph\":null,\"muted_glyph\":{\"id\":\"29398\"},\"nonselection_glyph\":{\"id\":\"29397\"},\"selection_glyph\":{\"id\":\"29401\"},\"view\":{\"id\":\"29400\"}},\"id\":\"29399\",\"type\":\"GlyphRenderer\"},{\"attributes\":{\"overlay\":{\"id\":\"29370\"}},\"id\":\"29368\",\"type\":\"BoxZoomTool\"},{\"attributes\":{},\"id\":\"29380\",\"type\":\"AllLabels\"},{\"attributes\":{},\"id\":\"29355\",\"type\":\"LinearScale\"},{\"attributes\":{\"data\":{\"age\":[15,16,17,18,19,20,21,22,23,24,25,26,27,28,29,30,31,32,33,34,35,36,37,38,39,40,41,42,43,44,45,46,47,48,49,50,51,52,53,54,55,56,57,58,59,60,61,62,63,64,65,66,67,68,69,70,71,72,73,74,75,76,77,78,79,80,81,82,83,84,85,86,87,88,89,90],\"wtsupp\":{\"__ndarray__\":\"IJ3CyeV3vT9QhU6A4TrVP99KgMaVwNs/eVoCTu9q4j9RyOO6e7nlPyLfbIv0Nuc/jIxwwi0X6T9SznqaWTrqP4BZZQkrx+o/sIaAgPei7D/13+6e6+HsP8Rix10hfu0/ZghmoOU97T/oCtpsJx/uP6HAnuUvze0/AWGlOV3r7T+GqU3lr8jtP/3/STzS3+0/ucGxoLKA7T9UdGWst5DtP2Fz3apKde0/mqnXHPwK7T8EW3eaSK3tP3JFHsMZh+0/+pMK39VU7T9dN+nLzDntP295Sz5Le+0/jqu1Ux/g7D/1s+aY7z3tP4SNDAKtUOw/j5DZdNR27T9nPDXYSIbtP25z75UA/+w/XtkxNzOj7D+aPVAJPZDsP6yoKDGs7es/2Glvuy/B6z/g3mqaWqvrPxROrWUYM+w/eVgJKPsy6z+lH99hjkjqP68sWa7SD+o/qZXEcM0s6T+cCZkHxSrpP66lGbnPvOY/rz3y07dL5j8Yd0vZnIbjPyvL5uDMld0/UtqNAWIC3D/GfkI0hazaP3wR4ssWStY/3w5VvOK61D9ZP0TFLOvRP90gKNh8rMw/ocg7XBPDyD9PUOTo3rfKP/la1bzRVMg/uW4VwNR7wj910F9mcNrEP9xZEhYZM70/2LWHnczbwD++x5oFgd66P1cyUVWNlbo/5ggamnGdsj+DUZY090zBP3fM+rLG4aU/9FjVHFpdpz8VUwmC0SKmP4tRPxDIcqM/zbBqSYpenT9B6LAcW5OjP3MHsuTcbqc/AAAAAAAA+H/OfaWr0LyePyrfppEAuac/aCfF488dsz8=\",\"dtype\":\"float64\",\"order\":\"little\",\"shape\":[76]}},\"selected\":{\"id\":\"29385\"},\"selection_policy\":{\"id\":\"29409\"}},\"id\":\"29384\",\"type\":\"ColumnDataSource\"},{\"attributes\":{},\"id\":\"29358\",\"type\":\"BasicTicker\"},{\"attributes\":{\"coordinates\":null,\"group\":null,\"text\":\"1995(Blue) & 2015(Yellow) Male LFPR\",\"text_color\":\"black\",\"text_font_size\":\"12pt\"},\"id\":\"29349\",\"type\":\"Title\"},{\"attributes\":{\"axis\":{\"id\":\"29361\"},\"coordinates\":null,\"dimension\":1,\"grid_line_color\":null,\"group\":null,\"ticker\":null},\"id\":\"29364\",\"type\":\"Grid\"},{\"attributes\":{\"fill_color\":{\"value\":\"gold\"},\"hatch_color\":{\"value\":\"gold\"},\"line_color\":{\"value\":\"gold\"},\"size\":{\"value\":5.477225575051661},\"x\":{\"field\":\"age\"},\"y\":{\"field\":\"wtsupp\"}},\"id\":\"29396\",\"type\":\"Scatter\"},{\"attributes\":{},\"id\":\"29369\",\"type\":\"ResetTool\"},{\"attributes\":{\"margin\":[5,5,5,5],\"name\":\"HSpacer68023\",\"sizing_mode\":\"stretch_width\"},\"id\":\"29510\",\"type\":\"Spacer\"},{\"attributes\":{\"axis\":{\"id\":\"29357\"},\"coordinates\":null,\"grid_line_color\":null,\"group\":null,\"ticker\":null},\"id\":\"29360\",\"type\":\"Grid\"},{\"attributes\":{\"end\":93.21428571428571,\"reset_end\":93.21428571428571,\"reset_start\":11.785714285714285,\"start\":11.785714285714285,\"tags\":[[[\"age\",\"age\",null]]]},\"id\":\"29344\",\"type\":\"Range1d\"},{\"attributes\":{},\"id\":\"29411\",\"type\":\"UnionRenderers\"},{\"attributes\":{\"tools\":[{\"id\":\"29346\"},{\"id\":\"29365\"},{\"id\":\"29366\"},{\"id\":\"29367\"},{\"id\":\"29368\"},{\"id\":\"29369\"}]},\"id\":\"29371\",\"type\":\"Toolbar\"},{\"attributes\":{},\"id\":\"29366\",\"type\":\"PanTool\"},{\"attributes\":{\"axis_label\":\"LFPR\",\"coordinates\":null,\"formatter\":{\"id\":\"29382\"},\"group\":null,\"major_label_policy\":{\"id\":\"29383\"},\"ticker\":{\"id\":\"29362\"}},\"id\":\"29361\",\"type\":\"LinearAxis\"}],\"root_ids\":[\"29342\"]},\"title\":\"Bokeh Application\",\"version\":\"2.4.2\"}};\n",
       "    var render_items = [{\"docid\":\"4f5dea46-4af9-4cc3-a963-c9b26a7441f5\",\"root_ids\":[\"29342\"],\"roots\":{\"29342\":\"cd67f42c-1fca-4fb4-afca-40052ea9cc16\"}}];\n",
       "    root.Bokeh.embed.embed_items_notebook(docs_json, render_items);\n",
       "  }\n",
       "  if (root.Bokeh !== undefined && root.Bokeh.Panel !== undefined) {\n",
       "    embed_document(root);\n",
       "  } else {\n",
       "    var attempts = 0;\n",
       "    var timer = setInterval(function(root) {\n",
       "      if (root.Bokeh !== undefined && root.Bokeh.Panel !== undefined) {\n",
       "        clearInterval(timer);\n",
       "        embed_document(root);\n",
       "      } else if (document.readyState == \"complete\") {\n",
       "        attempts++;\n",
       "        if (attempts > 200) {\n",
       "          clearInterval(timer);\n",
       "          console.log(\"Bokeh: ERROR: Unable to run BokehJS code because BokehJS library is missing\");\n",
       "        }\n",
       "      }\n",
       "    }, 25, root)\n",
       "  }\n",
       "})(window);</script>"
      ],
      "text/plain": [
       ":Overlay\n",
       "   .Scatter.I  :Scatter   [age]   (wtsupp)\n",
       "   .Scatter.II :Scatter   [age]   (wtsupp)"
      ]
     },
     "execution_count": 378,
     "metadata": {
      "application/vnd.holoviews_exec.v0+json": {
       "id": "29342"
      }
     },
     "output_type": "execute_result"
    }
   ],
   "source": [
    "male_lfrp_1995.hvplot(kind = 'scatter', ylabel = 'LFPR', color = 'blue', title = '1995(Blue) & 2015(Yellow) Male LFPR' ) * male_lfrp_2015.hvplot(kind = 'scatter', ylabel = 'LFRP', color = 'gold', title = '2015 Male LFRP' )"
   ]
  },
  {
   "cell_type": "code",
   "execution_count": 379,
   "id": "b4e263af-5c96-4e9b-9e3e-cf4a55c4db9a",
   "metadata": {},
   "outputs": [],
   "source": [
    "#creating female LFRP"
   ]
  },
  {
   "cell_type": "code",
   "execution_count": 380,
   "id": "b244440d-a43a-4dca-a895-ac2178a09d4a",
   "metadata": {},
   "outputs": [
    {
     "data": {},
     "metadata": {},
     "output_type": "display_data"
    },
    {
     "data": {
      "application/vnd.holoviews_exec.v0+json": "",
      "text/html": [
       "<div id='29572'>\n",
       "\n",
       "\n",
       "\n",
       "\n",
       "\n",
       "  <div class=\"bk-root\" id=\"938169ca-8b62-4d21-a0b4-1be2e8a3c739\" data-root-id=\"29572\"></div>\n",
       "</div>\n",
       "<script type=\"application/javascript\">(function(root) {\n",
       "  function embed_document(root) {\n",
       "    var docs_json = {\"4df8b168-1095-4269-9483-f6dbdbc35a01\":{\"defs\":[{\"extends\":null,\"module\":null,\"name\":\"ReactiveHTML1\",\"overrides\":[],\"properties\":[]},{\"extends\":null,\"module\":null,\"name\":\"FlexBox1\",\"overrides\":[],\"properties\":[{\"default\":\"flex-start\",\"kind\":null,\"name\":\"align_content\"},{\"default\":\"flex-start\",\"kind\":null,\"name\":\"align_items\"},{\"default\":\"row\",\"kind\":null,\"name\":\"flex_direction\"},{\"default\":\"wrap\",\"kind\":null,\"name\":\"flex_wrap\"},{\"default\":\"flex-start\",\"kind\":null,\"name\":\"justify_content\"}]},{\"extends\":null,\"module\":null,\"name\":\"TemplateActions1\",\"overrides\":[],\"properties\":[{\"default\":0,\"kind\":null,\"name\":\"open_modal\"},{\"default\":0,\"kind\":null,\"name\":\"close_modal\"}]},{\"extends\":null,\"module\":null,\"name\":\"MaterialTemplateActions1\",\"overrides\":[],\"properties\":[{\"default\":0,\"kind\":null,\"name\":\"open_modal\"},{\"default\":0,\"kind\":null,\"name\":\"close_modal\"}]}],\"roots\":{\"references\":[{\"attributes\":{\"children\":[{\"id\":\"29573\"},{\"id\":\"29577\"},{\"id\":\"29642\"}],\"margin\":[0,0,0,0],\"name\":\"Row68420\",\"tags\":[\"embedded\"]},\"id\":\"29572\",\"type\":\"Row\"},{\"attributes\":{\"source\":{\"id\":\"29607\"}},\"id\":\"29614\",\"type\":\"CDSView\"},{\"attributes\":{},\"id\":\"29620\",\"type\":\"BasicTickFormatter\"},{\"attributes\":{},\"id\":\"29618\",\"type\":\"AllLabels\"},{\"attributes\":{\"axis\":{\"id\":\"29586\"},\"coordinates\":null,\"grid_line_color\":null,\"group\":null,\"ticker\":null},\"id\":\"29589\",\"type\":\"Grid\"},{\"attributes\":{\"axis\":{\"id\":\"29590\"},\"coordinates\":null,\"dimension\":1,\"grid_line_color\":null,\"group\":null,\"ticker\":null},\"id\":\"29593\",\"type\":\"Grid\"},{\"attributes\":{\"fill_color\":{\"value\":\"purple\"},\"hatch_color\":{\"value\":\"purple\"},\"line_color\":{\"value\":\"purple\"},\"size\":{\"value\":5.477225575051661},\"x\":{\"field\":\"age\"},\"y\":{\"field\":\"wtsupp\"}},\"id\":\"29610\",\"type\":\"Scatter\"},{\"attributes\":{},\"id\":\"29596\",\"type\":\"WheelZoomTool\"},{\"attributes\":{},\"id\":\"29584\",\"type\":\"LinearScale\"},{\"attributes\":{},\"id\":\"29598\",\"type\":\"ResetTool\"},{\"attributes\":{},\"id\":\"29608\",\"type\":\"Selection\"},{\"attributes\":{\"fill_alpha\":{\"value\":0.1},\"fill_color\":{\"value\":\"purple\"},\"hatch_alpha\":{\"value\":0.1},\"hatch_color\":{\"value\":\"purple\"},\"line_alpha\":{\"value\":0.1},\"line_color\":{\"value\":\"purple\"},\"size\":{\"value\":5.477225575051661},\"x\":{\"field\":\"age\"},\"y\":{\"field\":\"wtsupp\"}},\"id\":\"29611\",\"type\":\"Scatter\"},{\"attributes\":{\"below\":[{\"id\":\"29586\"}],\"center\":[{\"id\":\"29589\"},{\"id\":\"29593\"}],\"height\":300,\"left\":[{\"id\":\"29590\"}],\"margin\":[5,5,5,5],\"min_border_bottom\":10,\"min_border_left\":10,\"min_border_right\":10,\"min_border_top\":10,\"renderers\":[{\"id\":\"29613\"}],\"sizing_mode\":\"fixed\",\"title\":{\"id\":\"29578\"},\"toolbar\":{\"id\":\"29600\"},\"width\":700,\"x_range\":{\"id\":\"29574\"},\"x_scale\":{\"id\":\"29582\"},\"y_range\":{\"id\":\"29575\"},\"y_scale\":{\"id\":\"29584\"}},\"id\":\"29577\",\"subtype\":\"Figure\",\"type\":\"Plot\"},{\"attributes\":{\"fill_alpha\":{\"value\":0.2},\"fill_color\":{\"value\":\"purple\"},\"hatch_alpha\":{\"value\":0.2},\"hatch_color\":{\"value\":\"purple\"},\"line_alpha\":{\"value\":0.2},\"line_color\":{\"value\":\"purple\"},\"size\":{\"value\":5.477225575051661},\"x\":{\"field\":\"age\"},\"y\":{\"field\":\"wtsupp\"}},\"id\":\"29612\",\"type\":\"Scatter\"},{\"attributes\":{\"axis_label\":\"LFPR\",\"coordinates\":null,\"formatter\":{\"id\":\"29620\"},\"group\":null,\"major_label_policy\":{\"id\":\"29621\"},\"ticker\":{\"id\":\"29591\"}},\"id\":\"29590\",\"type\":\"LinearAxis\"},{\"attributes\":{\"data\":{\"age\":[15,16,17,18,19,20,21,22,23,24,25,26,27,28,29,30,31,32,33,34,35,36,37,38,39,40,41,42,43,44,45,46,47,48,49,50,51,52,53,54,55,56,57,58,59,60,61,62,63,64,65,66,67,68,69,70,71,72,73,74,75,76,77,78,79,80,81,82,83,84,85,86,87,88,89,90],\"wtsupp\":{\"__ndarray__\":\"gE5uiybNvz+KWOF6hFbVP3HSHjKtDd0/5bkH3ob54T87LR4H02bkP39AKOsp+uM/vyMMa+8b5T8c6UMlVSzmP5vlKQH9fuc/8fqFSmgO6D9N07i87/XmP7MNSF20cOc/OmcbMjQM6D+uLPUyV8noP6Lmtc4KOOc/Yx1t0yiX5z8yNv1XHLjnP1dEq55fzuc/92g+Mag76T/grIfKomnnPwTPzkMD7+c/JCLITJ1g6D/Sb9PcR5roP9rLjeW+6ug/Z2mbdQjE6D9iBzTYoG7oP5Gb/IkSOuk/qh4IN/nz6D/kvMYOI9HoP2T4naIC1Og/7ciUMUa96D86vZDZ6VjpP8IevjxAb+k/FMRp4Sqh6D/XkKSnsNTnPzN3Fzs89uc/rGvAaa4Q6D+t9YX98ODmP+21UZ9gfeY/PFMKfgDF5T/R1xJ3pRTkP5sqDuf+D+Q//UbBADWv4j9sJMvEae/hPwL4ACVhRuE/lsNIhPbo3z/U9BNZLoTdPzdEzWZoydY/8rb+R4lw1T/hlj2h9Y7RPxDQXE/ArMs/3rsvp9LZyD/iCaSbgYLIP56Mv47NJMU/z+h5GL0mwT967NyTYXy7P2osQaJ/l7Q/aOCLtqwfuz+Cq5dBTvaxPxMIRIykJa0/QjryKuqXsD+e8sz8LXOwP8p7t11G1K4/hXgCgHfMpT8yTDEHja6qP/Yi/RztDJM/deIz13Apjz9exuMf2zyZP5efOyAP0X4/b4Y7fxuUkD+gNNRdqYleP2/nS9wko3s/AAAAAAAA+H8AAAAAAAD4fwAAAAAAAPh/4i5HFwtbjj8=\",\"dtype\":\"float64\",\"order\":\"little\",\"shape\":[76]}},\"selected\":{\"id\":\"29608\"},\"selection_policy\":{\"id\":\"29629\"}},\"id\":\"29607\",\"type\":\"ColumnDataSource\"},{\"attributes\":{},\"id\":\"29617\",\"type\":\"BasicTickFormatter\"},{\"attributes\":{},\"id\":\"29582\",\"type\":\"LinearScale\"},{\"attributes\":{\"overlay\":{\"id\":\"29599\"}},\"id\":\"29597\",\"type\":\"BoxZoomTool\"},{\"attributes\":{},\"id\":\"29629\",\"type\":\"UnionRenderers\"},{\"attributes\":{\"axis_label\":\"age\",\"coordinates\":null,\"formatter\":{\"id\":\"29617\"},\"group\":null,\"major_label_policy\":{\"id\":\"29618\"},\"ticker\":{\"id\":\"29587\"}},\"id\":\"29586\",\"type\":\"LinearAxis\"},{\"attributes\":{},\"id\":\"29595\",\"type\":\"PanTool\"},{\"attributes\":{\"callback\":null,\"renderers\":[{\"id\":\"29613\"}],\"tags\":[\"hv_created\"],\"tooltips\":[[\"age\",\"@{age}\"],[\"wtsupp\",\"@{wtsupp}\"]]},\"id\":\"29576\",\"type\":\"HoverTool\"},{\"attributes\":{\"end\":93.21428571428571,\"reset_end\":93.21428571428571,\"reset_start\":11.785714285714285,\"start\":11.785714285714285,\"tags\":[[[\"age\",\"age\",null]]]},\"id\":\"29574\",\"type\":\"Range1d\"},{\"attributes\":{\"margin\":[5,5,5,5],\"name\":\"HSpacer68424\",\"sizing_mode\":\"stretch_width\"},\"id\":\"29573\",\"type\":\"Spacer\"},{\"attributes\":{},\"id\":\"29591\",\"type\":\"BasicTicker\"},{\"attributes\":{},\"id\":\"29587\",\"type\":\"BasicTicker\"},{\"attributes\":{\"coordinates\":null,\"data_source\":{\"id\":\"29607\"},\"glyph\":{\"id\":\"29610\"},\"group\":null,\"hover_glyph\":null,\"muted_glyph\":{\"id\":\"29612\"},\"nonselection_glyph\":{\"id\":\"29611\"},\"selection_glyph\":{\"id\":\"29615\"},\"view\":{\"id\":\"29614\"}},\"id\":\"29613\",\"type\":\"GlyphRenderer\"},{\"attributes\":{\"bottom_units\":\"screen\",\"coordinates\":null,\"fill_alpha\":0.5,\"fill_color\":\"lightgrey\",\"group\":null,\"left_units\":\"screen\",\"level\":\"overlay\",\"line_alpha\":1.0,\"line_color\":\"black\",\"line_dash\":[4,4],\"line_width\":2,\"right_units\":\"screen\",\"syncable\":false,\"top_units\":\"screen\"},\"id\":\"29599\",\"type\":\"BoxAnnotation\"},{\"attributes\":{\"margin\":[5,5,5,5],\"name\":\"HSpacer68425\",\"sizing_mode\":\"stretch_width\"},\"id\":\"29642\",\"type\":\"Spacer\"},{\"attributes\":{\"coordinates\":null,\"group\":null,\"text\":\"1995 Female LFPR\",\"text_color\":\"black\",\"text_font_size\":\"12pt\"},\"id\":\"29578\",\"type\":\"Title\"},{\"attributes\":{},\"id\":\"29594\",\"type\":\"SaveTool\"},{\"attributes\":{},\"id\":\"29621\",\"type\":\"AllLabels\"},{\"attributes\":{\"end\":0.8741270913716341,\"reset_end\":0.8741270913716341,\"reset_start\":-0.07743278019629438,\"start\":-0.07743278019629438,\"tags\":[[[\"wtsupp\",\"wtsupp\",null]]]},\"id\":\"29575\",\"type\":\"Range1d\"},{\"attributes\":{\"angle\":{\"value\":0.0},\"fill_alpha\":{\"value\":1.0},\"fill_color\":{\"value\":\"purple\"},\"hatch_alpha\":{\"value\":1.0},\"hatch_color\":{\"value\":\"purple\"},\"hatch_scale\":{\"value\":12.0},\"hatch_weight\":{\"value\":1.0},\"line_alpha\":{\"value\":1.0},\"line_cap\":{\"value\":\"butt\"},\"line_color\":{\"value\":\"purple\"},\"line_dash\":{\"value\":[]},\"line_dash_offset\":{\"value\":0},\"line_join\":{\"value\":\"bevel\"},\"line_width\":{\"value\":1},\"marker\":{\"value\":\"circle\"},\"size\":{\"value\":5.477225575051661},\"x\":{\"field\":\"age\"},\"y\":{\"field\":\"wtsupp\"}},\"id\":\"29615\",\"type\":\"Scatter\"},{\"attributes\":{\"tools\":[{\"id\":\"29576\"},{\"id\":\"29594\"},{\"id\":\"29595\"},{\"id\":\"29596\"},{\"id\":\"29597\"},{\"id\":\"29598\"}]},\"id\":\"29600\",\"type\":\"Toolbar\"}],\"root_ids\":[\"29572\"]},\"title\":\"Bokeh Application\",\"version\":\"2.4.2\"}};\n",
       "    var render_items = [{\"docid\":\"4df8b168-1095-4269-9483-f6dbdbc35a01\",\"root_ids\":[\"29572\"],\"roots\":{\"29572\":\"938169ca-8b62-4d21-a0b4-1be2e8a3c739\"}}];\n",
       "    root.Bokeh.embed.embed_items_notebook(docs_json, render_items);\n",
       "  }\n",
       "  if (root.Bokeh !== undefined && root.Bokeh.Panel !== undefined) {\n",
       "    embed_document(root);\n",
       "  } else {\n",
       "    var attempts = 0;\n",
       "    var timer = setInterval(function(root) {\n",
       "      if (root.Bokeh !== undefined && root.Bokeh.Panel !== undefined) {\n",
       "        clearInterval(timer);\n",
       "        embed_document(root);\n",
       "      } else if (document.readyState == \"complete\") {\n",
       "        attempts++;\n",
       "        if (attempts > 200) {\n",
       "          clearInterval(timer);\n",
       "          console.log(\"Bokeh: ERROR: Unable to run BokehJS code because BokehJS library is missing\");\n",
       "        }\n",
       "      }\n",
       "    }, 25, root)\n",
       "  }\n",
       "})(window);</script>"
      ],
      "text/plain": [
       ":Scatter   [age]   (wtsupp)"
      ]
     },
     "execution_count": 380,
     "metadata": {
      "application/vnd.holoviews_exec.v0+json": {
       "id": "29572"
      }
     },
     "output_type": "execute_result"
    }
   ],
   "source": [
    "female_lfrp_1995 = df.loc[df['labforce'] == 2].loc[df['year'] == 1995].loc[df['sex'] == 2][['wtsupp']].groupby(df['age']).sum() / df.loc[df['labforce'] > 0].loc[df['year'] == 1995].loc[df['sex'] == 2][['wtsupp']].groupby(df['age']).sum()\n",
    "female_lfrp_1995.hvplot(kind = 'scatter', ylabel = 'LFPR', color = 'purple', title = '1995 Female LFPR' )"
   ]
  },
  {
   "cell_type": "code",
   "execution_count": 381,
   "id": "6b6b7123-1d6b-42fb-b73f-124522867db4",
   "metadata": {},
   "outputs": [
    {
     "data": {},
     "metadata": {},
     "output_type": "display_data"
    },
    {
     "data": {
      "application/vnd.holoviews_exec.v0+json": "",
      "text/html": [
       "<div id='29694'>\n",
       "\n",
       "\n",
       "\n",
       "\n",
       "\n",
       "  <div class=\"bk-root\" id=\"7f72f7d5-0b9a-46a4-a334-aacd419e1358\" data-root-id=\"29694\"></div>\n",
       "</div>\n",
       "<script type=\"application/javascript\">(function(root) {\n",
       "  function embed_document(root) {\n",
       "    var docs_json = {\"00cbe8ce-7fa7-4ca4-8d2c-1726a975a2ef\":{\"defs\":[{\"extends\":null,\"module\":null,\"name\":\"ReactiveHTML1\",\"overrides\":[],\"properties\":[]},{\"extends\":null,\"module\":null,\"name\":\"FlexBox1\",\"overrides\":[],\"properties\":[{\"default\":\"flex-start\",\"kind\":null,\"name\":\"align_content\"},{\"default\":\"flex-start\",\"kind\":null,\"name\":\"align_items\"},{\"default\":\"row\",\"kind\":null,\"name\":\"flex_direction\"},{\"default\":\"wrap\",\"kind\":null,\"name\":\"flex_wrap\"},{\"default\":\"flex-start\",\"kind\":null,\"name\":\"justify_content\"}]},{\"extends\":null,\"module\":null,\"name\":\"TemplateActions1\",\"overrides\":[],\"properties\":[{\"default\":0,\"kind\":null,\"name\":\"open_modal\"},{\"default\":0,\"kind\":null,\"name\":\"close_modal\"}]},{\"extends\":null,\"module\":null,\"name\":\"MaterialTemplateActions1\",\"overrides\":[],\"properties\":[{\"default\":0,\"kind\":null,\"name\":\"open_modal\"},{\"default\":0,\"kind\":null,\"name\":\"close_modal\"}]}],\"roots\":{\"references\":[{\"attributes\":{\"end\":0.8385726462868742,\"reset_end\":0.8385726462868742,\"reset_start\":-0.04733152102643662,\"start\":-0.04733152102643662,\"tags\":[[[\"wtsupp\",\"wtsupp\",null]]]},\"id\":\"29697\",\"type\":\"Range1d\"},{\"attributes\":{\"children\":[{\"id\":\"29695\"},{\"id\":\"29699\"},{\"id\":\"29764\"}],\"margin\":[0,0,0,0],\"name\":\"Row68597\",\"tags\":[\"embedded\"]},\"id\":\"29694\",\"type\":\"Row\"},{\"attributes\":{\"callback\":null,\"renderers\":[{\"id\":\"29735\"}],\"tags\":[\"hv_created\"],\"tooltips\":[[\"age\",\"@{age}\"],[\"wtsupp\",\"@{wtsupp}\"]]},\"id\":\"29698\",\"type\":\"HoverTool\"},{\"attributes\":{},\"id\":\"29718\",\"type\":\"WheelZoomTool\"},{\"attributes\":{},\"id\":\"29730\",\"type\":\"Selection\"},{\"attributes\":{\"data\":{\"age\":[15,16,17,18,19,20,21,22,23,24,25,26,27,28,29,30,31,32,33,34,35,36,37,38,39,40,41,42,43,44,45,46,47,48,49,50,51,52,53,54,55,56,57,58,59,60,61,62,63,64,65,66,67,68,69,70,71,72,73,74,75,76,77,78,79,80,85],\"wtsupp\":{\"__ndarray__\":\"eHHTVOn5qT+lDeHUVivCP1oUtmr3cNE/t9SfINp32j9satP+ItngP0UiuD3mCuI/YV/jdmKV4z+9n9CGsPvkPybpLLY+W+c/L99/PUq55z8ItUPfvsnnPyD5be/0V+c/8/IqvEmj5z/alycSw0rnP+joPfKi0+c/h7uSFbw45z+I3bAW7efnP1+KnEpn9eY/Ufu7EzlH5z/xA9Yy3rDmPxW8bU9psOc/TZdmrIak5j9WkEQSSl/nPwVR97wI7+c/xnzkdtQm6D940IiaZrrnP1Rhp4kW1Oc/BZTeU8946D/ZUkPKwBToP85uTot1M+g/qgigWqNx6D9vuMVzu2zoP+hh5lu8kuc/8r6GzSA56D/RORp1FkrnP0zWplNyiuc/MtNkercK5z9IFmYN3AHnP8e4IWtkcOc/kKXlRXlY5j+Te7WM7ALnP7f4CCYALOY/knHH5vfP5T91qob0e+DkP7MMjvZI9uI/FGfijglr4j8W7BZYasfhP/v+6U2SbOA/+LoeEIuH3T8DWwqj6ffaP296hmE97tc/+8VSusQy1T/Jtl3Yg5LRP7IShsvZ7s0/59mUrRiizT8N66kJbjvLP2BfIW7QiMc/gV7Z2iHywT/XRum9L8/BP9i4/s7VW70/0L/1xnSGwT8qyiuNkWu3PxJwQ7+Lxbo/Eo+En9Hzsj9fl8DaNtSzPxB/2eNXq6M/ESsnlTIhmz8=\",\"dtype\":\"float64\",\"order\":\"little\",\"shape\":[67]}},\"selected\":{\"id\":\"29730\"},\"selection_policy\":{\"id\":\"29751\"}},\"id\":\"29729\",\"type\":\"ColumnDataSource\"},{\"attributes\":{},\"id\":\"29717\",\"type\":\"PanTool\"},{\"attributes\":{},\"id\":\"29720\",\"type\":\"ResetTool\"},{\"attributes\":{},\"id\":\"29751\",\"type\":\"UnionRenderers\"},{\"attributes\":{\"margin\":[5,5,5,5],\"name\":\"HSpacer68601\",\"sizing_mode\":\"stretch_width\"},\"id\":\"29695\",\"type\":\"Spacer\"},{\"attributes\":{},\"id\":\"29704\",\"type\":\"LinearScale\"},{\"attributes\":{\"tools\":[{\"id\":\"29698\"},{\"id\":\"29716\"},{\"id\":\"29717\"},{\"id\":\"29718\"},{\"id\":\"29719\"},{\"id\":\"29720\"}]},\"id\":\"29722\",\"type\":\"Toolbar\"},{\"attributes\":{\"overlay\":{\"id\":\"29721\"}},\"id\":\"29719\",\"type\":\"BoxZoomTool\"},{\"attributes\":{\"axis_label\":\"LFPR\",\"coordinates\":null,\"formatter\":{\"id\":\"29742\"},\"group\":null,\"major_label_policy\":{\"id\":\"29743\"},\"ticker\":{\"id\":\"29713\"}},\"id\":\"29712\",\"type\":\"LinearAxis\"},{\"attributes\":{\"axis\":{\"id\":\"29708\"},\"coordinates\":null,\"grid_line_color\":null,\"group\":null,\"ticker\":null},\"id\":\"29711\",\"type\":\"Grid\"},{\"attributes\":{\"end\":88.0,\"reset_end\":88.0,\"reset_start\":12.0,\"start\":12.0,\"tags\":[[[\"age\",\"age\",null]]]},\"id\":\"29696\",\"type\":\"Range1d\"},{\"attributes\":{\"angle\":{\"value\":0.0},\"fill_alpha\":{\"value\":1.0},\"fill_color\":{\"value\":\"cyan\"},\"hatch_alpha\":{\"value\":1.0},\"hatch_color\":{\"value\":\"cyan\"},\"hatch_scale\":{\"value\":12.0},\"hatch_weight\":{\"value\":1.0},\"line_alpha\":{\"value\":1.0},\"line_cap\":{\"value\":\"butt\"},\"line_color\":{\"value\":\"cyan\"},\"line_dash\":{\"value\":[]},\"line_dash_offset\":{\"value\":0},\"line_join\":{\"value\":\"bevel\"},\"line_width\":{\"value\":1},\"marker\":{\"value\":\"circle\"},\"size\":{\"value\":5.477225575051661},\"x\":{\"field\":\"age\"},\"y\":{\"field\":\"wtsupp\"}},\"id\":\"29737\",\"type\":\"Scatter\"},{\"attributes\":{\"below\":[{\"id\":\"29708\"}],\"center\":[{\"id\":\"29711\"},{\"id\":\"29715\"}],\"height\":300,\"left\":[{\"id\":\"29712\"}],\"margin\":[5,5,5,5],\"min_border_bottom\":10,\"min_border_left\":10,\"min_border_right\":10,\"min_border_top\":10,\"renderers\":[{\"id\":\"29735\"}],\"sizing_mode\":\"fixed\",\"title\":{\"id\":\"29700\"},\"toolbar\":{\"id\":\"29722\"},\"width\":700,\"x_range\":{\"id\":\"29696\"},\"x_scale\":{\"id\":\"29704\"},\"y_range\":{\"id\":\"29697\"},\"y_scale\":{\"id\":\"29706\"}},\"id\":\"29699\",\"subtype\":\"Figure\",\"type\":\"Plot\"},{\"attributes\":{\"fill_alpha\":{\"value\":0.1},\"fill_color\":{\"value\":\"cyan\"},\"hatch_alpha\":{\"value\":0.1},\"hatch_color\":{\"value\":\"cyan\"},\"line_alpha\":{\"value\":0.1},\"line_color\":{\"value\":\"cyan\"},\"size\":{\"value\":5.477225575051661},\"x\":{\"field\":\"age\"},\"y\":{\"field\":\"wtsupp\"}},\"id\":\"29733\",\"type\":\"Scatter\"},{\"attributes\":{},\"id\":\"29706\",\"type\":\"LinearScale\"},{\"attributes\":{\"coordinates\":null,\"group\":null,\"text\":\"2015 Female LFPR\",\"text_color\":\"black\",\"text_font_size\":\"12pt\"},\"id\":\"29700\",\"type\":\"Title\"},{\"attributes\":{\"axis\":{\"id\":\"29712\"},\"coordinates\":null,\"dimension\":1,\"grid_line_color\":null,\"group\":null,\"ticker\":null},\"id\":\"29715\",\"type\":\"Grid\"},{\"attributes\":{},\"id\":\"29709\",\"type\":\"BasicTicker\"},{\"attributes\":{},\"id\":\"29743\",\"type\":\"AllLabels\"},{\"attributes\":{\"bottom_units\":\"screen\",\"coordinates\":null,\"fill_alpha\":0.5,\"fill_color\":\"lightgrey\",\"group\":null,\"left_units\":\"screen\",\"level\":\"overlay\",\"line_alpha\":1.0,\"line_color\":\"black\",\"line_dash\":[4,4],\"line_width\":2,\"right_units\":\"screen\",\"syncable\":false,\"top_units\":\"screen\"},\"id\":\"29721\",\"type\":\"BoxAnnotation\"},{\"attributes\":{\"axis_label\":\"age\",\"coordinates\":null,\"formatter\":{\"id\":\"29739\"},\"group\":null,\"major_label_policy\":{\"id\":\"29740\"},\"ticker\":{\"id\":\"29709\"}},\"id\":\"29708\",\"type\":\"LinearAxis\"},{\"attributes\":{\"margin\":[5,5,5,5],\"name\":\"HSpacer68602\",\"sizing_mode\":\"stretch_width\"},\"id\":\"29764\",\"type\":\"Spacer\"},{\"attributes\":{},\"id\":\"29740\",\"type\":\"AllLabels\"},{\"attributes\":{\"fill_color\":{\"value\":\"cyan\"},\"hatch_color\":{\"value\":\"cyan\"},\"line_color\":{\"value\":\"cyan\"},\"size\":{\"value\":5.477225575051661},\"x\":{\"field\":\"age\"},\"y\":{\"field\":\"wtsupp\"}},\"id\":\"29732\",\"type\":\"Scatter\"},{\"attributes\":{\"fill_alpha\":{\"value\":0.2},\"fill_color\":{\"value\":\"cyan\"},\"hatch_alpha\":{\"value\":0.2},\"hatch_color\":{\"value\":\"cyan\"},\"line_alpha\":{\"value\":0.2},\"line_color\":{\"value\":\"cyan\"},\"size\":{\"value\":5.477225575051661},\"x\":{\"field\":\"age\"},\"y\":{\"field\":\"wtsupp\"}},\"id\":\"29734\",\"type\":\"Scatter\"},{\"attributes\":{\"coordinates\":null,\"data_source\":{\"id\":\"29729\"},\"glyph\":{\"id\":\"29732\"},\"group\":null,\"hover_glyph\":null,\"muted_glyph\":{\"id\":\"29734\"},\"nonselection_glyph\":{\"id\":\"29733\"},\"selection_glyph\":{\"id\":\"29737\"},\"view\":{\"id\":\"29736\"}},\"id\":\"29735\",\"type\":\"GlyphRenderer\"},{\"attributes\":{\"source\":{\"id\":\"29729\"}},\"id\":\"29736\",\"type\":\"CDSView\"},{\"attributes\":{},\"id\":\"29713\",\"type\":\"BasicTicker\"},{\"attributes\":{},\"id\":\"29742\",\"type\":\"BasicTickFormatter\"},{\"attributes\":{},\"id\":\"29716\",\"type\":\"SaveTool\"},{\"attributes\":{},\"id\":\"29739\",\"type\":\"BasicTickFormatter\"}],\"root_ids\":[\"29694\"]},\"title\":\"Bokeh Application\",\"version\":\"2.4.2\"}};\n",
       "    var render_items = [{\"docid\":\"00cbe8ce-7fa7-4ca4-8d2c-1726a975a2ef\",\"root_ids\":[\"29694\"],\"roots\":{\"29694\":\"7f72f7d5-0b9a-46a4-a334-aacd419e1358\"}}];\n",
       "    root.Bokeh.embed.embed_items_notebook(docs_json, render_items);\n",
       "  }\n",
       "  if (root.Bokeh !== undefined && root.Bokeh.Panel !== undefined) {\n",
       "    embed_document(root);\n",
       "  } else {\n",
       "    var attempts = 0;\n",
       "    var timer = setInterval(function(root) {\n",
       "      if (root.Bokeh !== undefined && root.Bokeh.Panel !== undefined) {\n",
       "        clearInterval(timer);\n",
       "        embed_document(root);\n",
       "      } else if (document.readyState == \"complete\") {\n",
       "        attempts++;\n",
       "        if (attempts > 200) {\n",
       "          clearInterval(timer);\n",
       "          console.log(\"Bokeh: ERROR: Unable to run BokehJS code because BokehJS library is missing\");\n",
       "        }\n",
       "      }\n",
       "    }, 25, root)\n",
       "  }\n",
       "})(window);</script>"
      ],
      "text/plain": [
       ":Scatter   [age]   (wtsupp)"
      ]
     },
     "execution_count": 381,
     "metadata": {
      "application/vnd.holoviews_exec.v0+json": {
       "id": "29694"
      }
     },
     "output_type": "execute_result"
    }
   ],
   "source": [
    "female_lfrp_2015 = df.loc[df['labforce'] == 2].loc[df['year'] == 2015].loc[df['sex'] == 2][['wtsupp']].groupby(df['age']).sum() / df.loc[df['labforce'] > 0].loc[df['year'] == 2015].loc[df['sex'] == 2][['wtsupp']].groupby(df['age']).sum()\n",
    "female_lfrp_2015.hvplot(kind = 'scatter', ylabel = 'LFPR', color = 'cyan', title = '2015 Female LFPR' )"
   ]
  },
  {
   "cell_type": "code",
   "execution_count": 382,
   "id": "3f80f9fe-1380-4b2e-8480-3124ea7547a3",
   "metadata": {},
   "outputs": [
    {
     "data": {},
     "metadata": {},
     "output_type": "display_data"
    },
    {
     "data": {
      "application/vnd.holoviews_exec.v0+json": "",
      "text/html": [
       "<div id='29816'>\n",
       "\n",
       "\n",
       "\n",
       "\n",
       "\n",
       "  <div class=\"bk-root\" id=\"6e52087c-058f-496a-8ea5-f3a2a449d9df\" data-root-id=\"29816\"></div>\n",
       "</div>\n",
       "<script type=\"application/javascript\">(function(root) {\n",
       "  function embed_document(root) {\n",
       "    var docs_json = {\"8634b2e8-1cea-4310-ac05-1833b2f4177e\":{\"defs\":[{\"extends\":null,\"module\":null,\"name\":\"ReactiveHTML1\",\"overrides\":[],\"properties\":[]},{\"extends\":null,\"module\":null,\"name\":\"FlexBox1\",\"overrides\":[],\"properties\":[{\"default\":\"flex-start\",\"kind\":null,\"name\":\"align_content\"},{\"default\":\"flex-start\",\"kind\":null,\"name\":\"align_items\"},{\"default\":\"row\",\"kind\":null,\"name\":\"flex_direction\"},{\"default\":\"wrap\",\"kind\":null,\"name\":\"flex_wrap\"},{\"default\":\"flex-start\",\"kind\":null,\"name\":\"justify_content\"}]},{\"extends\":null,\"module\":null,\"name\":\"TemplateActions1\",\"overrides\":[],\"properties\":[{\"default\":0,\"kind\":null,\"name\":\"open_modal\"},{\"default\":0,\"kind\":null,\"name\":\"close_modal\"}]},{\"extends\":null,\"module\":null,\"name\":\"MaterialTemplateActions1\",\"overrides\":[],\"properties\":[{\"default\":0,\"kind\":null,\"name\":\"open_modal\"},{\"default\":0,\"kind\":null,\"name\":\"close_modal\"}]}],\"roots\":{\"references\":[{\"attributes\":{},\"id\":\"29836\",\"type\":\"BasicTicker\"},{\"attributes\":{\"angle\":{\"value\":0.0},\"fill_alpha\":{\"value\":1.0},\"fill_color\":{\"value\":\"purple\"},\"hatch_alpha\":{\"value\":1.0},\"hatch_color\":{\"value\":\"purple\"},\"hatch_scale\":{\"value\":12.0},\"hatch_weight\":{\"value\":1.0},\"line_alpha\":{\"value\":1.0},\"line_cap\":{\"value\":\"butt\"},\"line_color\":{\"value\":\"purple\"},\"line_dash\":{\"value\":[]},\"line_dash_offset\":{\"value\":0},\"line_join\":{\"value\":\"bevel\"},\"line_width\":{\"value\":1},\"marker\":{\"value\":\"circle\"},\"size\":{\"value\":5.477225575051661},\"x\":{\"field\":\"age\"},\"y\":{\"field\":\"wtsupp\"}},\"id\":\"29866\",\"type\":\"Scatter\"},{\"attributes\":{\"fill_alpha\":{\"value\":0.2},\"fill_color\":{\"value\":\"purple\"},\"hatch_alpha\":{\"value\":0.2},\"hatch_color\":{\"value\":\"purple\"},\"line_alpha\":{\"value\":0.2},\"line_color\":{\"value\":\"purple\"},\"size\":{\"value\":5.477225575051661},\"x\":{\"field\":\"age\"},\"y\":{\"field\":\"wtsupp\"}},\"id\":\"29863\",\"type\":\"Scatter\"},{\"attributes\":{},\"id\":\"29857\",\"type\":\"AllLabels\"},{\"attributes\":{},\"id\":\"29832\",\"type\":\"BasicTicker\"},{\"attributes\":{\"fill_alpha\":{\"value\":0.1},\"fill_color\":{\"value\":\"purple\"},\"hatch_alpha\":{\"value\":0.1},\"hatch_color\":{\"value\":\"purple\"},\"line_alpha\":{\"value\":0.1},\"line_color\":{\"value\":\"purple\"},\"size\":{\"value\":5.477225575051661},\"x\":{\"field\":\"age\"},\"y\":{\"field\":\"wtsupp\"}},\"id\":\"29862\",\"type\":\"Scatter\"},{\"attributes\":{},\"id\":\"29856\",\"type\":\"BasicTickFormatter\"},{\"attributes\":{},\"id\":\"29883\",\"type\":\"UnionRenderers\"},{\"attributes\":{\"end\":0.8741270913716341,\"reset_end\":0.8741270913716341,\"reset_start\":-0.07743278019629438,\"start\":-0.07743278019629438,\"tags\":[[[\"wtsupp\",\"wtsupp\",null]]]},\"id\":\"29819\",\"type\":\"Range1d\"},{\"attributes\":{\"angle\":{\"value\":0.0},\"fill_alpha\":{\"value\":1.0},\"fill_color\":{\"value\":\"cyan\"},\"hatch_alpha\":{\"value\":1.0},\"hatch_color\":{\"value\":\"cyan\"},\"hatch_scale\":{\"value\":12.0},\"hatch_weight\":{\"value\":1.0},\"line_alpha\":{\"value\":1.0},\"line_cap\":{\"value\":\"butt\"},\"line_color\":{\"value\":\"cyan\"},\"line_dash\":{\"value\":[]},\"line_dash_offset\":{\"value\":0},\"line_join\":{\"value\":\"bevel\"},\"line_width\":{\"value\":1},\"marker\":{\"value\":\"circle\"},\"size\":{\"value\":5.477225575051661},\"x\":{\"field\":\"age\"},\"y\":{\"field\":\"wtsupp\"}},\"id\":\"29875\",\"type\":\"Scatter\"},{\"attributes\":{\"callback\":null,\"renderers\":[{\"id\":\"29864\"},{\"id\":\"29873\"}],\"tags\":[\"hv_created\"],\"tooltips\":[[\"age\",\"@{age}\"],[\"wtsupp\",\"@{wtsupp}\"]]},\"id\":\"29820\",\"type\":\"HoverTool\"},{\"attributes\":{\"axis_label\":\"age\",\"coordinates\":null,\"formatter\":{\"id\":\"29853\"},\"group\":null,\"major_label_policy\":{\"id\":\"29854\"},\"ticker\":{\"id\":\"29832\"}},\"id\":\"29831\",\"type\":\"LinearAxis\"},{\"attributes\":{\"end\":93.21428571428571,\"reset_end\":93.21428571428571,\"reset_start\":11.785714285714285,\"start\":11.785714285714285,\"tags\":[[[\"age\",\"age\",null]]]},\"id\":\"29818\",\"type\":\"Range1d\"},{\"attributes\":{\"data\":{\"age\":[15,16,17,18,19,20,21,22,23,24,25,26,27,28,29,30,31,32,33,34,35,36,37,38,39,40,41,42,43,44,45,46,47,48,49,50,51,52,53,54,55,56,57,58,59,60,61,62,63,64,65,66,67,68,69,70,71,72,73,74,75,76,77,78,79,80,85],\"wtsupp\":{\"__ndarray__\":\"eHHTVOn5qT+lDeHUVivCP1oUtmr3cNE/t9SfINp32j9satP+ItngP0UiuD3mCuI/YV/jdmKV4z+9n9CGsPvkPybpLLY+W+c/L99/PUq55z8ItUPfvsnnPyD5be/0V+c/8/IqvEmj5z/alycSw0rnP+joPfKi0+c/h7uSFbw45z+I3bAW7efnP1+KnEpn9eY/Ufu7EzlH5z/xA9Yy3rDmPxW8bU9psOc/TZdmrIak5j9WkEQSSl/nPwVR97wI7+c/xnzkdtQm6D940IiaZrrnP1Rhp4kW1Oc/BZTeU8946D/ZUkPKwBToP85uTot1M+g/qgigWqNx6D9vuMVzu2zoP+hh5lu8kuc/8r6GzSA56D/RORp1FkrnP0zWplNyiuc/MtNkercK5z9IFmYN3AHnP8e4IWtkcOc/kKXlRXlY5j+Te7WM7ALnP7f4CCYALOY/knHH5vfP5T91qob0e+DkP7MMjvZI9uI/FGfijglr4j8W7BZYasfhP/v+6U2SbOA/+LoeEIuH3T8DWwqj6ffaP296hmE97tc/+8VSusQy1T/Jtl3Yg5LRP7IShsvZ7s0/59mUrRiizT8N66kJbjvLP2BfIW7QiMc/gV7Z2iHywT/XRum9L8/BP9i4/s7VW70/0L/1xnSGwT8qyiuNkWu3PxJwQ7+Lxbo/Eo+En9Hzsj9fl8DaNtSzPxB/2eNXq6M/ESsnlTIhmz8=\",\"dtype\":\"float64\",\"order\":\"little\",\"shape\":[67]}},\"selected\":{\"id\":\"29868\"},\"selection_policy\":{\"id\":\"29885\"}},\"id\":\"29867\",\"type\":\"ColumnDataSource\"},{\"attributes\":{\"below\":[{\"id\":\"29831\"}],\"center\":[{\"id\":\"29834\"},{\"id\":\"29838\"}],\"height\":300,\"left\":[{\"id\":\"29835\"}],\"margin\":[5,5,5,5],\"min_border_bottom\":10,\"min_border_left\":10,\"min_border_right\":10,\"min_border_top\":10,\"renderers\":[{\"id\":\"29864\"},{\"id\":\"29873\"}],\"sizing_mode\":\"fixed\",\"title\":{\"id\":\"29823\"},\"toolbar\":{\"id\":\"29845\"},\"width\":700,\"x_range\":{\"id\":\"29818\"},\"x_scale\":{\"id\":\"29827\"},\"y_range\":{\"id\":\"29819\"},\"y_scale\":{\"id\":\"29829\"}},\"id\":\"29822\",\"subtype\":\"Figure\",\"type\":\"Plot\"},{\"attributes\":{\"fill_color\":{\"value\":\"cyan\"},\"hatch_color\":{\"value\":\"cyan\"},\"line_color\":{\"value\":\"cyan\"},\"size\":{\"value\":5.477225575051661},\"x\":{\"field\":\"age\"},\"y\":{\"field\":\"wtsupp\"}},\"id\":\"29870\",\"type\":\"Scatter\"},{\"attributes\":{\"coordinates\":null,\"group\":null,\"text\":\"1995(Purple) & 2015(Light Blue) Female LFPR\",\"text_color\":\"black\",\"text_font_size\":\"12pt\"},\"id\":\"29823\",\"type\":\"Title\"},{\"attributes\":{\"axis_label\":\"LFPR\",\"coordinates\":null,\"formatter\":{\"id\":\"29856\"},\"group\":null,\"major_label_policy\":{\"id\":\"29857\"},\"ticker\":{\"id\":\"29836\"}},\"id\":\"29835\",\"type\":\"LinearAxis\"},{\"attributes\":{},\"id\":\"29853\",\"type\":\"BasicTickFormatter\"},{\"attributes\":{\"coordinates\":null,\"data_source\":{\"id\":\"29867\"},\"glyph\":{\"id\":\"29870\"},\"group\":null,\"hover_glyph\":null,\"muted_glyph\":{\"id\":\"29872\"},\"nonselection_glyph\":{\"id\":\"29871\"},\"selection_glyph\":{\"id\":\"29875\"},\"view\":{\"id\":\"29874\"}},\"id\":\"29873\",\"type\":\"GlyphRenderer\"},{\"attributes\":{\"source\":{\"id\":\"29867\"}},\"id\":\"29874\",\"type\":\"CDSView\"},{\"attributes\":{\"fill_alpha\":{\"value\":0.1},\"fill_color\":{\"value\":\"cyan\"},\"hatch_alpha\":{\"value\":0.1},\"hatch_color\":{\"value\":\"cyan\"},\"line_alpha\":{\"value\":0.1},\"line_color\":{\"value\":\"cyan\"},\"size\":{\"value\":5.477225575051661},\"x\":{\"field\":\"age\"},\"y\":{\"field\":\"wtsupp\"}},\"id\":\"29871\",\"type\":\"Scatter\"},{\"attributes\":{\"axis\":{\"id\":\"29831\"},\"coordinates\":null,\"grid_line_color\":null,\"group\":null,\"ticker\":null},\"id\":\"29834\",\"type\":\"Grid\"},{\"attributes\":{\"fill_alpha\":{\"value\":0.2},\"fill_color\":{\"value\":\"cyan\"},\"hatch_alpha\":{\"value\":0.2},\"hatch_color\":{\"value\":\"cyan\"},\"line_alpha\":{\"value\":0.2},\"line_color\":{\"value\":\"cyan\"},\"size\":{\"value\":5.477225575051661},\"x\":{\"field\":\"age\"},\"y\":{\"field\":\"wtsupp\"}},\"id\":\"29872\",\"type\":\"Scatter\"},{\"attributes\":{\"children\":[{\"id\":\"29817\"},{\"id\":\"29822\"},{\"id\":\"29984\"}],\"margin\":[0,0,0,0],\"name\":\"Row68849\",\"tags\":[\"embedded\"]},\"id\":\"29816\",\"type\":\"Row\"},{\"attributes\":{\"coordinates\":null,\"data_source\":{\"id\":\"29858\"},\"glyph\":{\"id\":\"29861\"},\"group\":null,\"hover_glyph\":null,\"muted_glyph\":{\"id\":\"29863\"},\"nonselection_glyph\":{\"id\":\"29862\"},\"selection_glyph\":{\"id\":\"29866\"},\"view\":{\"id\":\"29865\"}},\"id\":\"29864\",\"type\":\"GlyphRenderer\"},{\"attributes\":{},\"id\":\"29840\",\"type\":\"PanTool\"},{\"attributes\":{\"margin\":[5,5,5,5],\"name\":\"HSpacer68854\",\"sizing_mode\":\"stretch_width\"},\"id\":\"29984\",\"type\":\"Spacer\"},{\"attributes\":{\"overlay\":{\"id\":\"29844\"}},\"id\":\"29842\",\"type\":\"BoxZoomTool\"},{\"attributes\":{},\"id\":\"29827\",\"type\":\"LinearScale\"},{\"attributes\":{\"data\":{\"age\":[15,16,17,18,19,20,21,22,23,24,25,26,27,28,29,30,31,32,33,34,35,36,37,38,39,40,41,42,43,44,45,46,47,48,49,50,51,52,53,54,55,56,57,58,59,60,61,62,63,64,65,66,67,68,69,70,71,72,73,74,75,76,77,78,79,80,81,82,83,84,85,86,87,88,89,90],\"wtsupp\":{\"__ndarray__\":\"gE5uiybNvz+KWOF6hFbVP3HSHjKtDd0/5bkH3ob54T87LR4H02bkP39AKOsp+uM/vyMMa+8b5T8c6UMlVSzmP5vlKQH9fuc/8fqFSmgO6D9N07i87/XmP7MNSF20cOc/OmcbMjQM6D+uLPUyV8noP6Lmtc4KOOc/Yx1t0yiX5z8yNv1XHLjnP1dEq55fzuc/92g+Mag76T/grIfKomnnPwTPzkMD7+c/JCLITJ1g6D/Sb9PcR5roP9rLjeW+6ug/Z2mbdQjE6D9iBzTYoG7oP5Gb/IkSOuk/qh4IN/nz6D/kvMYOI9HoP2T4naIC1Og/7ciUMUa96D86vZDZ6VjpP8IevjxAb+k/FMRp4Sqh6D/XkKSnsNTnPzN3Fzs89uc/rGvAaa4Q6D+t9YX98ODmP+21UZ9gfeY/PFMKfgDF5T/R1xJ3pRTkP5sqDuf+D+Q//UbBADWv4j9sJMvEae/hPwL4ACVhRuE/lsNIhPbo3z/U9BNZLoTdPzdEzWZoydY/8rb+R4lw1T/hlj2h9Y7RPxDQXE/ArMs/3rsvp9LZyD/iCaSbgYLIP56Mv47NJMU/z+h5GL0mwT967NyTYXy7P2osQaJ/l7Q/aOCLtqwfuz+Cq5dBTvaxPxMIRIykJa0/QjryKuqXsD+e8sz8LXOwP8p7t11G1K4/hXgCgHfMpT8yTDEHja6qP/Yi/RztDJM/deIz13Apjz9exuMf2zyZP5efOyAP0X4/b4Y7fxuUkD+gNNRdqYleP2/nS9wko3s/AAAAAAAA+H8AAAAAAAD4fwAAAAAAAPh/4i5HFwtbjj8=\",\"dtype\":\"float64\",\"order\":\"little\",\"shape\":[76]}},\"selected\":{\"id\":\"29859\"},\"selection_policy\":{\"id\":\"29883\"}},\"id\":\"29858\",\"type\":\"ColumnDataSource\"},{\"attributes\":{},\"id\":\"29885\",\"type\":\"UnionRenderers\"},{\"attributes\":{\"margin\":[5,5,5,5],\"name\":\"HSpacer68853\",\"sizing_mode\":\"stretch_width\"},\"id\":\"29817\",\"type\":\"Spacer\"},{\"attributes\":{},\"id\":\"29829\",\"type\":\"LinearScale\"},{\"attributes\":{\"tools\":[{\"id\":\"29820\"},{\"id\":\"29839\"},{\"id\":\"29840\"},{\"id\":\"29841\"},{\"id\":\"29842\"},{\"id\":\"29843\"}]},\"id\":\"29845\",\"type\":\"Toolbar\"},{\"attributes\":{\"axis\":{\"id\":\"29835\"},\"coordinates\":null,\"dimension\":1,\"grid_line_color\":null,\"group\":null,\"ticker\":null},\"id\":\"29838\",\"type\":\"Grid\"},{\"attributes\":{},\"id\":\"29868\",\"type\":\"Selection\"},{\"attributes\":{\"source\":{\"id\":\"29858\"}},\"id\":\"29865\",\"type\":\"CDSView\"},{\"attributes\":{},\"id\":\"29841\",\"type\":\"WheelZoomTool\"},{\"attributes\":{\"fill_color\":{\"value\":\"purple\"},\"hatch_color\":{\"value\":\"purple\"},\"line_color\":{\"value\":\"purple\"},\"size\":{\"value\":5.477225575051661},\"x\":{\"field\":\"age\"},\"y\":{\"field\":\"wtsupp\"}},\"id\":\"29861\",\"type\":\"Scatter\"},{\"attributes\":{},\"id\":\"29859\",\"type\":\"Selection\"},{\"attributes\":{},\"id\":\"29839\",\"type\":\"SaveTool\"},{\"attributes\":{},\"id\":\"29854\",\"type\":\"AllLabels\"},{\"attributes\":{\"bottom_units\":\"screen\",\"coordinates\":null,\"fill_alpha\":0.5,\"fill_color\":\"lightgrey\",\"group\":null,\"left_units\":\"screen\",\"level\":\"overlay\",\"line_alpha\":1.0,\"line_color\":\"black\",\"line_dash\":[4,4],\"line_width\":2,\"right_units\":\"screen\",\"syncable\":false,\"top_units\":\"screen\"},\"id\":\"29844\",\"type\":\"BoxAnnotation\"},{\"attributes\":{},\"id\":\"29843\",\"type\":\"ResetTool\"}],\"root_ids\":[\"29816\"]},\"title\":\"Bokeh Application\",\"version\":\"2.4.2\"}};\n",
       "    var render_items = [{\"docid\":\"8634b2e8-1cea-4310-ac05-1833b2f4177e\",\"root_ids\":[\"29816\"],\"roots\":{\"29816\":\"6e52087c-058f-496a-8ea5-f3a2a449d9df\"}}];\n",
       "    root.Bokeh.embed.embed_items_notebook(docs_json, render_items);\n",
       "  }\n",
       "  if (root.Bokeh !== undefined && root.Bokeh.Panel !== undefined) {\n",
       "    embed_document(root);\n",
       "  } else {\n",
       "    var attempts = 0;\n",
       "    var timer = setInterval(function(root) {\n",
       "      if (root.Bokeh !== undefined && root.Bokeh.Panel !== undefined) {\n",
       "        clearInterval(timer);\n",
       "        embed_document(root);\n",
       "      } else if (document.readyState == \"complete\") {\n",
       "        attempts++;\n",
       "        if (attempts > 200) {\n",
       "          clearInterval(timer);\n",
       "          console.log(\"Bokeh: ERROR: Unable to run BokehJS code because BokehJS library is missing\");\n",
       "        }\n",
       "      }\n",
       "    }, 25, root)\n",
       "  }\n",
       "})(window);</script>"
      ],
      "text/plain": [
       ":Overlay\n",
       "   .Scatter.I  :Scatter   [age]   (wtsupp)\n",
       "   .Scatter.II :Scatter   [age]   (wtsupp)"
      ]
     },
     "execution_count": 382,
     "metadata": {
      "application/vnd.holoviews_exec.v0+json": {
       "id": "29816"
      }
     },
     "output_type": "execute_result"
    }
   ],
   "source": [
    "female_lfrp_1995.hvplot(kind = 'scatter', ylabel = 'LFPR', color = 'purple', title = '1995(Purple) & 2015(Light Blue) Female LFPR' ) * female_lfrp_2015.hvplot(kind = 'scatter', ylabel = 'LFRP', color = 'cyan', title = '2015 Female LFRP' )"
   ]
  },
  {
   "cell_type": "code",
   "execution_count": 538,
   "id": "182425cc-85ff-45bf-bf05-dba7fcc74a6c",
   "metadata": {},
   "outputs": [],
   "source": [
    "#plotting all graphs on one axis "
   ]
  },
  {
   "cell_type": "code",
   "execution_count": 383,
   "id": "1d034982-ca05-458a-8c51-e780b6762174",
   "metadata": {},
   "outputs": [
    {
     "data": {},
     "metadata": {},
     "output_type": "display_data"
    },
    {
     "data": {
      "application/vnd.holoviews_exec.v0+json": "",
      "text/html": [
       "<div id='30046'>\n",
       "\n",
       "\n",
       "\n",
       "\n",
       "\n",
       "  <div class=\"bk-root\" id=\"325ef987-0e69-440c-a877-8b46767d9cca\" data-root-id=\"30046\"></div>\n",
       "</div>\n",
       "<script type=\"application/javascript\">(function(root) {\n",
       "  function embed_document(root) {\n",
       "    var docs_json = {\"6f13bc72-b232-4ea6-97f6-36fea9344f86\":{\"defs\":[{\"extends\":null,\"module\":null,\"name\":\"ReactiveHTML1\",\"overrides\":[],\"properties\":[]},{\"extends\":null,\"module\":null,\"name\":\"FlexBox1\",\"overrides\":[],\"properties\":[{\"default\":\"flex-start\",\"kind\":null,\"name\":\"align_content\"},{\"default\":\"flex-start\",\"kind\":null,\"name\":\"align_items\"},{\"default\":\"row\",\"kind\":null,\"name\":\"flex_direction\"},{\"default\":\"wrap\",\"kind\":null,\"name\":\"flex_wrap\"},{\"default\":\"flex-start\",\"kind\":null,\"name\":\"justify_content\"}]},{\"extends\":null,\"module\":null,\"name\":\"TemplateActions1\",\"overrides\":[],\"properties\":[{\"default\":0,\"kind\":null,\"name\":\"open_modal\"},{\"default\":0,\"kind\":null,\"name\":\"close_modal\"}]},{\"extends\":null,\"module\":null,\"name\":\"MaterialTemplateActions1\",\"overrides\":[],\"properties\":[{\"default\":0,\"kind\":null,\"name\":\"open_modal\"},{\"default\":0,\"kind\":null,\"name\":\"close_modal\"}]}],\"roots\":{\"references\":[{\"attributes\":{\"angle\":{\"value\":0.0},\"fill_alpha\":{\"value\":1.0},\"fill_color\":{\"value\":\"red\"},\"hatch_alpha\":{\"value\":1.0},\"hatch_color\":{\"value\":\"red\"},\"hatch_scale\":{\"value\":12.0},\"hatch_weight\":{\"value\":1.0},\"line_alpha\":{\"value\":1.0},\"line_cap\":{\"value\":\"butt\"},\"line_color\":{\"value\":\"red\"},\"line_dash\":{\"value\":[]},\"line_dash_offset\":{\"value\":0},\"line_join\":{\"value\":\"bevel\"},\"line_width\":{\"value\":1},\"marker\":{\"value\":\"circle\"},\"size\":{\"value\":5.477225575051661},\"x\":{\"field\":\"age\"},\"y\":{\"field\":\"wtsupp\"}},\"id\":\"30109\",\"type\":\"Scatter\"},{\"attributes\":{},\"id\":\"30090\",\"type\":\"BasicTickFormatter\"},{\"attributes\":{},\"id\":\"30063\",\"type\":\"LinearScale\"},{\"attributes\":{\"axis_label\":\"LFPR\",\"coordinates\":null,\"formatter\":{\"id\":\"30090\"},\"group\":null,\"major_label_policy\":{\"id\":\"30091\"},\"ticker\":{\"id\":\"30070\"}},\"id\":\"30069\",\"type\":\"LinearAxis\"},{\"attributes\":{\"end\":1.0352468894209264,\"reset_end\":1.0352468894209264,\"reset_start\":-0.09208003456441186,\"start\":-0.09208003456441186,\"tags\":[[[\"wtsupp\",\"wtsupp\",null]]]},\"id\":\"30049\",\"type\":\"Range1d\"},{\"attributes\":{\"coordinates\":null,\"group\":null,\"text\":\"1995 Tot(Green)|2015 Tot(Red)|1995 M(Blue)|2015 M(Yellow)|1995 W(Purple)|2015 W(Light Blue) LFPR\",\"text_color\":\"black\",\"text_font_size\":\"12pt\"},\"id\":\"30057\",\"type\":\"Title\"},{\"attributes\":{\"coordinates\":null,\"data_source\":{\"id\":\"30092\"},\"glyph\":{\"id\":\"30095\"},\"group\":null,\"hover_glyph\":null,\"muted_glyph\":{\"id\":\"30097\"},\"nonselection_glyph\":{\"id\":\"30096\"},\"selection_glyph\":{\"id\":\"30100\"},\"view\":{\"id\":\"30099\"}},\"id\":\"30098\",\"type\":\"GlyphRenderer\"},{\"attributes\":{\"angle\":{\"value\":0.0},\"fill_alpha\":{\"value\":1.0},\"fill_color\":{\"value\":\"green\"},\"hatch_alpha\":{\"value\":1.0},\"hatch_color\":{\"value\":\"green\"},\"hatch_scale\":{\"value\":12.0},\"hatch_weight\":{\"value\":1.0},\"line_alpha\":{\"value\":1.0},\"line_cap\":{\"value\":\"butt\"},\"line_color\":{\"value\":\"green\"},\"line_dash\":{\"value\":[]},\"line_dash_offset\":{\"value\":0},\"line_join\":{\"value\":\"bevel\"},\"line_width\":{\"value\":1},\"marker\":{\"value\":\"circle\"},\"size\":{\"value\":5.477225575051661},\"x\":{\"field\":\"age\"},\"y\":{\"field\":\"wtsupp\"}},\"id\":\"30100\",\"type\":\"Scatter\"},{\"attributes\":{\"source\":{\"id\":\"30137\"}},\"id\":\"30144\",\"type\":\"CDSView\"},{\"attributes\":{\"source\":{\"id\":\"30092\"}},\"id\":\"30099\",\"type\":\"CDSView\"},{\"attributes\":{},\"id\":\"30070\",\"type\":\"BasicTicker\"},{\"attributes\":{\"margin\":[5,5,5,5],\"name\":\"HSpacer69631\",\"sizing_mode\":\"stretch_width\"},\"id\":\"30326\",\"type\":\"Spacer\"},{\"attributes\":{\"angle\":{\"value\":0.0},\"fill_alpha\":{\"value\":1.0},\"fill_color\":{\"value\":\"blue\"},\"hatch_alpha\":{\"value\":1.0},\"hatch_color\":{\"value\":\"blue\"},\"hatch_scale\":{\"value\":12.0},\"hatch_weight\":{\"value\":1.0},\"line_alpha\":{\"value\":1.0},\"line_cap\":{\"value\":\"butt\"},\"line_color\":{\"value\":\"blue\"},\"line_dash\":{\"value\":[]},\"line_dash_offset\":{\"value\":0},\"line_join\":{\"value\":\"bevel\"},\"line_width\":{\"value\":1},\"marker\":{\"value\":\"circle\"},\"size\":{\"value\":5.477225575051661},\"x\":{\"field\":\"age\"},\"y\":{\"field\":\"wtsupp\"}},\"id\":\"30118\",\"type\":\"Scatter\"},{\"attributes\":{\"overlay\":{\"id\":\"30078\"}},\"id\":\"30076\",\"type\":\"BoxZoomTool\"},{\"attributes\":{\"source\":{\"id\":\"30119\"}},\"id\":\"30126\",\"type\":\"CDSView\"},{\"attributes\":{\"end\":93.21428571428571,\"reset_end\":93.21428571428571,\"reset_start\":11.785714285714285,\"start\":11.785714285714285,\"tags\":[[[\"age\",\"age\",null]]]},\"id\":\"30048\",\"type\":\"Range1d\"},{\"attributes\":{\"coordinates\":null,\"data_source\":{\"id\":\"30137\"},\"glyph\":{\"id\":\"30140\"},\"group\":null,\"hover_glyph\":null,\"muted_glyph\":{\"id\":\"30142\"},\"nonselection_glyph\":{\"id\":\"30141\"},\"selection_glyph\":{\"id\":\"30145\"},\"view\":{\"id\":\"30144\"}},\"id\":\"30143\",\"type\":\"GlyphRenderer\"},{\"attributes\":{},\"id\":\"30066\",\"type\":\"BasicTicker\"},{\"attributes\":{},\"id\":\"30129\",\"type\":\"Selection\"},{\"attributes\":{},\"id\":\"30091\",\"type\":\"AllLabels\"},{\"attributes\":{\"fill_alpha\":{\"value\":0.1},\"fill_color\":{\"value\":\"cyan\"},\"hatch_alpha\":{\"value\":0.1},\"hatch_color\":{\"value\":\"cyan\"},\"line_alpha\":{\"value\":0.1},\"line_color\":{\"value\":\"cyan\"},\"size\":{\"value\":5.477225575051661},\"x\":{\"field\":\"age\"},\"y\":{\"field\":\"wtsupp\"}},\"id\":\"30141\",\"type\":\"Scatter\"},{\"attributes\":{},\"id\":\"30075\",\"type\":\"WheelZoomTool\"},{\"attributes\":{\"fill_alpha\":{\"value\":0.2},\"fill_color\":{\"value\":\"blue\"},\"hatch_alpha\":{\"value\":0.2},\"hatch_color\":{\"value\":\"blue\"},\"line_alpha\":{\"value\":0.2},\"line_color\":{\"value\":\"blue\"},\"size\":{\"value\":5.477225575051661},\"x\":{\"field\":\"age\"},\"y\":{\"field\":\"wtsupp\"}},\"id\":\"30115\",\"type\":\"Scatter\"},{\"attributes\":{\"fill_alpha\":{\"value\":0.1},\"fill_color\":{\"value\":\"gold\"},\"hatch_alpha\":{\"value\":0.1},\"hatch_color\":{\"value\":\"gold\"},\"line_alpha\":{\"value\":0.1},\"line_color\":{\"value\":\"gold\"},\"size\":{\"value\":5.477225575051661},\"x\":{\"field\":\"age\"},\"y\":{\"field\":\"wtsupp\"}},\"id\":\"30123\",\"type\":\"Scatter\"},{\"attributes\":{\"data\":{\"age\":[15,16,17,18,19,20,21,22,23,24,25,26,27,28,29,30,31,32,33,34,35,36,37,38,39,40,41,42,43,44,45,46,47,48,49,50,51,52,53,54,55,56,57,58,59,60,61,62,63,64,65,66,67,68,69,70,71,72,73,74,75,76,77,78,79,80,81,82,83,84,85,86,87,88,89,90],\"wtsupp\":{\"__ndarray__\":\"IJ3CyeV3vT9QhU6A4TrVP99KgMaVwNs/eVoCTu9q4j9RyOO6e7nlPyLfbIv0Nuc/jIxwwi0X6T9SznqaWTrqP4BZZQkrx+o/sIaAgPei7D/13+6e6+HsP8Rix10hfu0/ZghmoOU97T/oCtpsJx/uP6HAnuUvze0/AWGlOV3r7T+GqU3lr8jtP/3/STzS3+0/ucGxoLKA7T9UdGWst5DtP2Fz3apKde0/mqnXHPwK7T8EW3eaSK3tP3JFHsMZh+0/+pMK39VU7T9dN+nLzDntP295Sz5Le+0/jqu1Ux/g7D/1s+aY7z3tP4SNDAKtUOw/j5DZdNR27T9nPDXYSIbtP25z75UA/+w/XtkxNzOj7D+aPVAJPZDsP6yoKDGs7es/2Glvuy/B6z/g3mqaWqvrPxROrWUYM+w/eVgJKPsy6z+lH99hjkjqP68sWa7SD+o/qZXEcM0s6T+cCZkHxSrpP66lGbnPvOY/rz3y07dL5j8Yd0vZnIbjPyvL5uDMld0/UtqNAWIC3D/GfkI0hazaP3wR4ssWStY/3w5VvOK61D9ZP0TFLOvRP90gKNh8rMw/ocg7XBPDyD9PUOTo3rfKP/la1bzRVMg/uW4VwNR7wj910F9mcNrEP9xZEhYZM70/2LWHnczbwD++x5oFgd66P1cyUVWNlbo/5ggamnGdsj+DUZY090zBP3fM+rLG4aU/9FjVHFpdpz8VUwmC0SKmP4tRPxDIcqM/zbBqSYpenT9B6LAcW5OjP3MHsuTcbqc/AAAAAAAA+H/OfaWr0LyePyrfppEAuac/aCfF488dsz8=\",\"dtype\":\"float64\",\"order\":\"little\",\"shape\":[76]}},\"selected\":{\"id\":\"30111\"},\"selection_policy\":{\"id\":\"30157\"}},\"id\":\"30110\",\"type\":\"ColumnDataSource\"},{\"attributes\":{\"axis_label\":\"age\",\"coordinates\":null,\"formatter\":{\"id\":\"30087\"},\"group\":null,\"major_label_policy\":{\"id\":\"30088\"},\"ticker\":{\"id\":\"30066\"}},\"id\":\"30065\",\"type\":\"LinearAxis\"},{\"attributes\":{\"fill_alpha\":{\"value\":0.2},\"fill_color\":{\"value\":\"purple\"},\"hatch_alpha\":{\"value\":0.2},\"hatch_color\":{\"value\":\"purple\"},\"line_alpha\":{\"value\":0.2},\"line_color\":{\"value\":\"purple\"},\"size\":{\"value\":5.477225575051661},\"x\":{\"field\":\"age\"},\"y\":{\"field\":\"wtsupp\"}},\"id\":\"30133\",\"type\":\"Scatter\"},{\"attributes\":{},\"id\":\"30159\",\"type\":\"UnionRenderers\"},{\"attributes\":{},\"id\":\"30161\",\"type\":\"UnionRenderers\"},{\"attributes\":{},\"id\":\"30087\",\"type\":\"BasicTickFormatter\"},{\"attributes\":{\"data\":{\"age\":[15,16,17,18,19,20,21,22,23,24,25,26,27,28,29,30,31,32,33,34,35,36,37,38,39,40,41,42,43,44,45,46,47,48,49,50,51,52,53,54,55,56,57,58,59,60,61,62,63,64,65,66,67,68,69,70,71,72,73,74,75,76,77,78,79,80,81,82,83,84,85,86,87,88,89,90],\"wtsupp\":{\"__ndarray__\":\"/rID4P2avj+YjDNFmUjVP/NjaysEYdw/6LhVp0My4j/S7XeL9hDlPzpmG+lkmeU/WY6Ge/Yi5z918nrFXxnoPxIaWZh7Fek/EyLEaaRZ6j8WutZ/wALqP4Wr6+FmXuo/p2ApEwKv6j+8ESAeCWPrPziHwwUFYuo/K6cj8tOZ6j/Y859IKMXqP73egeAc5+o/v8Qha7tR6z9XsmmGgF7qP8r8NsBPtOo/lhE8tHW66j/M1PuO1xPrP6huNEQGNOs/sLxb8Ufv6j/ets6N89XqP9P0WzpRSOs/k+iKnITp6j8T27SHfwXrPxVRR8zhe+o/NJP3ozYJ6z/0YbdQnGDrPzTxZ4ZjQOs/I2ENkaqT6j8Gqmc0ShjqP+ZYKS0i8ek/tnMGPkPP6T9tGX3oqDjpPyEMW8y1N+k/p0NAmT916D9c2VlyNQznP+dY8NLJ9uY/BmxRAvO25T/qkuK/xGblP1szvB8e2uM/hZAzfkjt4j/7ExmwkAnhP6zeNGy5GNo/A0qjZeCE2D9a5SpsmOHVP+coxkvqudE/FSg1huFd0D8tHWNuqp7NP9tlJCJjncg/aOHdjMFmxD8ivPV8SCbDPwNf6+M2dMA/VQS+rUWQvz8aRek+BCC8P6bMOYau17Q/xJx28XshuD/F+9q+uv20P6oOtSReDbQ/B/OFh2NZrD+EMFIGoUS1P9GIuBCQA5w/Lkair74Amz903PJyJV2gP9wz1ADNKZM/Z0799nL/lD+VJ5aMfxeLPxvVGIbONZU/AAAAAAAA+H+4rVNN/JOBP1/UCiHNjYc/PiJbi1uOoD8=\",\"dtype\":\"float64\",\"order\":\"little\",\"shape\":[76]}},\"selected\":{\"id\":\"30093\"},\"selection_policy\":{\"id\":\"30153\"}},\"id\":\"30092\",\"type\":\"ColumnDataSource\"},{\"attributes\":{},\"id\":\"30157\",\"type\":\"UnionRenderers\"},{\"attributes\":{},\"id\":\"30073\",\"type\":\"SaveTool\"},{\"attributes\":{\"data\":{\"age\":[15,16,17,18,19,20,21,22,23,24,25,26,27,28,29,30,31,32,33,34,35,36,37,38,39,40,41,42,43,44,45,46,47,48,49,50,51,52,53,54,55,56,57,58,59,60,61,62,63,64,65,66,67,68,69,70,71,72,73,74,75,76,77,78,79,80,85],\"wtsupp\":{\"__ndarray__\":\"eHHTVOn5qT+lDeHUVivCP1oUtmr3cNE/t9SfINp32j9satP+ItngP0UiuD3mCuI/YV/jdmKV4z+9n9CGsPvkPybpLLY+W+c/L99/PUq55z8ItUPfvsnnPyD5be/0V+c/8/IqvEmj5z/alycSw0rnP+joPfKi0+c/h7uSFbw45z+I3bAW7efnP1+KnEpn9eY/Ufu7EzlH5z/xA9Yy3rDmPxW8bU9psOc/TZdmrIak5j9WkEQSSl/nPwVR97wI7+c/xnzkdtQm6D940IiaZrrnP1Rhp4kW1Oc/BZTeU8946D/ZUkPKwBToP85uTot1M+g/qgigWqNx6D9vuMVzu2zoP+hh5lu8kuc/8r6GzSA56D/RORp1FkrnP0zWplNyiuc/MtNkercK5z9IFmYN3AHnP8e4IWtkcOc/kKXlRXlY5j+Te7WM7ALnP7f4CCYALOY/knHH5vfP5T91qob0e+DkP7MMjvZI9uI/FGfijglr4j8W7BZYasfhP/v+6U2SbOA/+LoeEIuH3T8DWwqj6ffaP296hmE97tc/+8VSusQy1T/Jtl3Yg5LRP7IShsvZ7s0/59mUrRiizT8N66kJbjvLP2BfIW7QiMc/gV7Z2iHywT/XRum9L8/BP9i4/s7VW70/0L/1xnSGwT8qyiuNkWu3PxJwQ7+Lxbo/Eo+En9Hzsj9fl8DaNtSzPxB/2eNXq6M/ESsnlTIhmz8=\",\"dtype\":\"float64\",\"order\":\"little\",\"shape\":[67]}},\"selected\":{\"id\":\"30138\"},\"selection_policy\":{\"id\":\"30163\"}},\"id\":\"30137\",\"type\":\"ColumnDataSource\"},{\"attributes\":{\"bottom_units\":\"screen\",\"coordinates\":null,\"fill_alpha\":0.5,\"fill_color\":\"lightgrey\",\"group\":null,\"left_units\":\"screen\",\"level\":\"overlay\",\"line_alpha\":1.0,\"line_color\":\"black\",\"line_dash\":[4,4],\"line_width\":2,\"right_units\":\"screen\",\"syncable\":false,\"top_units\":\"screen\"},\"id\":\"30078\",\"type\":\"BoxAnnotation\"},{\"attributes\":{\"coordinates\":null,\"data_source\":{\"id\":\"30101\"},\"glyph\":{\"id\":\"30104\"},\"group\":null,\"hover_glyph\":null,\"muted_glyph\":{\"id\":\"30106\"},\"nonselection_glyph\":{\"id\":\"30105\"},\"selection_glyph\":{\"id\":\"30109\"},\"view\":{\"id\":\"30108\"}},\"id\":\"30107\",\"type\":\"GlyphRenderer\"},{\"attributes\":{\"fill_alpha\":{\"value\":0.1},\"fill_color\":{\"value\":\"purple\"},\"hatch_alpha\":{\"value\":0.1},\"hatch_color\":{\"value\":\"purple\"},\"line_alpha\":{\"value\":0.1},\"line_color\":{\"value\":\"purple\"},\"size\":{\"value\":5.477225575051661},\"x\":{\"field\":\"age\"},\"y\":{\"field\":\"wtsupp\"}},\"id\":\"30132\",\"type\":\"Scatter\"},{\"attributes\":{\"data\":{\"age\":[15,16,17,18,19,20,21,22,23,24,25,26,27,28,29,30,31,32,33,34,35,36,37,38,39,40,41,42,43,44,45,46,47,48,49,50,51,52,53,54,55,56,57,58,59,60,61,62,63,64,65,66,67,68,69,70,71,72,73,74,75,76,77,78,79,80,81,82,83,84,85,86,87,88,89,90],\"wtsupp\":{\"__ndarray__\":\"gE5uiybNvz+KWOF6hFbVP3HSHjKtDd0/5bkH3ob54T87LR4H02bkP39AKOsp+uM/vyMMa+8b5T8c6UMlVSzmP5vlKQH9fuc/8fqFSmgO6D9N07i87/XmP7MNSF20cOc/OmcbMjQM6D+uLPUyV8noP6Lmtc4KOOc/Yx1t0yiX5z8yNv1XHLjnP1dEq55fzuc/92g+Mag76T/grIfKomnnPwTPzkMD7+c/JCLITJ1g6D/Sb9PcR5roP9rLjeW+6ug/Z2mbdQjE6D9iBzTYoG7oP5Gb/IkSOuk/qh4IN/nz6D/kvMYOI9HoP2T4naIC1Og/7ciUMUa96D86vZDZ6VjpP8IevjxAb+k/FMRp4Sqh6D/XkKSnsNTnPzN3Fzs89uc/rGvAaa4Q6D+t9YX98ODmP+21UZ9gfeY/PFMKfgDF5T/R1xJ3pRTkP5sqDuf+D+Q//UbBADWv4j9sJMvEae/hPwL4ACVhRuE/lsNIhPbo3z/U9BNZLoTdPzdEzWZoydY/8rb+R4lw1T/hlj2h9Y7RPxDQXE/ArMs/3rsvp9LZyD/iCaSbgYLIP56Mv47NJMU/z+h5GL0mwT967NyTYXy7P2osQaJ/l7Q/aOCLtqwfuz+Cq5dBTvaxPxMIRIykJa0/QjryKuqXsD+e8sz8LXOwP8p7t11G1K4/hXgCgHfMpT8yTDEHja6qP/Yi/RztDJM/deIz13Apjz9exuMf2zyZP5efOyAP0X4/b4Y7fxuUkD+gNNRdqYleP2/nS9wko3s/AAAAAAAA+H8AAAAAAAD4fwAAAAAAAPh/4i5HFwtbjj8=\",\"dtype\":\"float64\",\"order\":\"little\",\"shape\":[76]}},\"selected\":{\"id\":\"30129\"},\"selection_policy\":{\"id\":\"30161\"}},\"id\":\"30128\",\"type\":\"ColumnDataSource\"},{\"attributes\":{},\"id\":\"30077\",\"type\":\"ResetTool\"},{\"attributes\":{},\"id\":\"30088\",\"type\":\"AllLabels\"},{\"attributes\":{},\"id\":\"30074\",\"type\":\"PanTool\"},{\"attributes\":{\"source\":{\"id\":\"30128\"}},\"id\":\"30135\",\"type\":\"CDSView\"},{\"attributes\":{\"callback\":null,\"renderers\":[{\"id\":\"30098\"},{\"id\":\"30107\"},{\"id\":\"30116\"},{\"id\":\"30125\"},{\"id\":\"30134\"},{\"id\":\"30143\"}],\"tags\":[\"hv_created\"],\"tooltips\":[[\"age\",\"@{age}\"],[\"wtsupp\",\"@{wtsupp}\"]]},\"id\":\"30050\",\"type\":\"HoverTool\"},{\"attributes\":{\"tools\":[{\"id\":\"30050\"},{\"id\":\"30073\"},{\"id\":\"30074\"},{\"id\":\"30075\"},{\"id\":\"30076\"},{\"id\":\"30077\"}]},\"id\":\"30079\",\"type\":\"Toolbar\"},{\"attributes\":{\"fill_color\":{\"value\":\"purple\"},\"hatch_color\":{\"value\":\"purple\"},\"line_color\":{\"value\":\"purple\"},\"size\":{\"value\":5.477225575051661},\"x\":{\"field\":\"age\"},\"y\":{\"field\":\"wtsupp\"}},\"id\":\"30131\",\"type\":\"Scatter\"},{\"attributes\":{\"fill_alpha\":{\"value\":0.1},\"fill_color\":{\"value\":\"green\"},\"hatch_alpha\":{\"value\":0.1},\"hatch_color\":{\"value\":\"green\"},\"line_alpha\":{\"value\":0.1},\"line_color\":{\"value\":\"green\"},\"size\":{\"value\":5.477225575051661},\"x\":{\"field\":\"age\"},\"y\":{\"field\":\"wtsupp\"}},\"id\":\"30096\",\"type\":\"Scatter\"},{\"attributes\":{\"angle\":{\"value\":0.0},\"fill_alpha\":{\"value\":1.0},\"fill_color\":{\"value\":\"purple\"},\"hatch_alpha\":{\"value\":1.0},\"hatch_color\":{\"value\":\"purple\"},\"hatch_scale\":{\"value\":12.0},\"hatch_weight\":{\"value\":1.0},\"line_alpha\":{\"value\":1.0},\"line_cap\":{\"value\":\"butt\"},\"line_color\":{\"value\":\"purple\"},\"line_dash\":{\"value\":[]},\"line_dash_offset\":{\"value\":0},\"line_join\":{\"value\":\"bevel\"},\"line_width\":{\"value\":1},\"marker\":{\"value\":\"circle\"},\"size\":{\"value\":5.477225575051661},\"x\":{\"field\":\"age\"},\"y\":{\"field\":\"wtsupp\"}},\"id\":\"30136\",\"type\":\"Scatter\"},{\"attributes\":{\"fill_alpha\":{\"value\":0.1},\"fill_color\":{\"value\":\"red\"},\"hatch_alpha\":{\"value\":0.1},\"hatch_color\":{\"value\":\"red\"},\"line_alpha\":{\"value\":0.1},\"line_color\":{\"value\":\"red\"},\"size\":{\"value\":5.477225575051661},\"x\":{\"field\":\"age\"},\"y\":{\"field\":\"wtsupp\"}},\"id\":\"30105\",\"type\":\"Scatter\"},{\"attributes\":{},\"id\":\"30155\",\"type\":\"UnionRenderers\"},{\"attributes\":{\"coordinates\":null,\"data_source\":{\"id\":\"30119\"},\"glyph\":{\"id\":\"30122\"},\"group\":null,\"hover_glyph\":null,\"muted_glyph\":{\"id\":\"30124\"},\"nonselection_glyph\":{\"id\":\"30123\"},\"selection_glyph\":{\"id\":\"30127\"},\"view\":{\"id\":\"30126\"}},\"id\":\"30125\",\"type\":\"GlyphRenderer\"},{\"attributes\":{\"margin\":[5,5,5,5],\"name\":\"HSpacer69630\",\"sizing_mode\":\"stretch_width\"},\"id\":\"30047\",\"type\":\"Spacer\"},{\"attributes\":{\"axis\":{\"id\":\"30065\"},\"coordinates\":null,\"grid_line_color\":null,\"group\":null,\"ticker\":null},\"id\":\"30068\",\"type\":\"Grid\"},{\"attributes\":{\"source\":{\"id\":\"30101\"}},\"id\":\"30108\",\"type\":\"CDSView\"},{\"attributes\":{\"source\":{\"id\":\"30110\"}},\"id\":\"30117\",\"type\":\"CDSView\"},{\"attributes\":{\"fill_color\":{\"value\":\"red\"},\"hatch_color\":{\"value\":\"red\"},\"line_color\":{\"value\":\"red\"},\"size\":{\"value\":5.477225575051661},\"x\":{\"field\":\"age\"},\"y\":{\"field\":\"wtsupp\"}},\"id\":\"30104\",\"type\":\"Scatter\"},{\"attributes\":{\"fill_alpha\":{\"value\":0.2},\"fill_color\":{\"value\":\"gold\"},\"hatch_alpha\":{\"value\":0.2},\"hatch_color\":{\"value\":\"gold\"},\"line_alpha\":{\"value\":0.2},\"line_color\":{\"value\":\"gold\"},\"size\":{\"value\":5.477225575051661},\"x\":{\"field\":\"age\"},\"y\":{\"field\":\"wtsupp\"}},\"id\":\"30124\",\"type\":\"Scatter\"},{\"attributes\":{\"coordinates\":null,\"data_source\":{\"id\":\"30128\"},\"glyph\":{\"id\":\"30131\"},\"group\":null,\"hover_glyph\":null,\"muted_glyph\":{\"id\":\"30133\"},\"nonselection_glyph\":{\"id\":\"30132\"},\"selection_glyph\":{\"id\":\"30136\"},\"view\":{\"id\":\"30135\"}},\"id\":\"30134\",\"type\":\"GlyphRenderer\"},{\"attributes\":{\"coordinates\":null,\"data_source\":{\"id\":\"30110\"},\"glyph\":{\"id\":\"30113\"},\"group\":null,\"hover_glyph\":null,\"muted_glyph\":{\"id\":\"30115\"},\"nonselection_glyph\":{\"id\":\"30114\"},\"selection_glyph\":{\"id\":\"30118\"},\"view\":{\"id\":\"30117\"}},\"id\":\"30116\",\"type\":\"GlyphRenderer\"},{\"attributes\":{},\"id\":\"30102\",\"type\":\"Selection\"},{\"attributes\":{\"fill_alpha\":{\"value\":0.2},\"fill_color\":{\"value\":\"green\"},\"hatch_alpha\":{\"value\":0.2},\"hatch_color\":{\"value\":\"green\"},\"line_alpha\":{\"value\":0.2},\"line_color\":{\"value\":\"green\"},\"size\":{\"value\":5.477225575051661},\"x\":{\"field\":\"age\"},\"y\":{\"field\":\"wtsupp\"}},\"id\":\"30097\",\"type\":\"Scatter\"},{\"attributes\":{},\"id\":\"30163\",\"type\":\"UnionRenderers\"},{\"attributes\":{\"fill_alpha\":{\"value\":0.1},\"fill_color\":{\"value\":\"blue\"},\"hatch_alpha\":{\"value\":0.1},\"hatch_color\":{\"value\":\"blue\"},\"line_alpha\":{\"value\":0.1},\"line_color\":{\"value\":\"blue\"},\"size\":{\"value\":5.477225575051661},\"x\":{\"field\":\"age\"},\"y\":{\"field\":\"wtsupp\"}},\"id\":\"30114\",\"type\":\"Scatter\"},{\"attributes\":{\"angle\":{\"value\":0.0},\"fill_alpha\":{\"value\":1.0},\"fill_color\":{\"value\":\"cyan\"},\"hatch_alpha\":{\"value\":1.0},\"hatch_color\":{\"value\":\"cyan\"},\"hatch_scale\":{\"value\":12.0},\"hatch_weight\":{\"value\":1.0},\"line_alpha\":{\"value\":1.0},\"line_cap\":{\"value\":\"butt\"},\"line_color\":{\"value\":\"cyan\"},\"line_dash\":{\"value\":[]},\"line_dash_offset\":{\"value\":0},\"line_join\":{\"value\":\"bevel\"},\"line_width\":{\"value\":1},\"marker\":{\"value\":\"circle\"},\"size\":{\"value\":5.477225575051661},\"x\":{\"field\":\"age\"},\"y\":{\"field\":\"wtsupp\"}},\"id\":\"30145\",\"type\":\"Scatter\"},{\"attributes\":{\"fill_alpha\":{\"value\":0.2},\"fill_color\":{\"value\":\"red\"},\"hatch_alpha\":{\"value\":0.2},\"hatch_color\":{\"value\":\"red\"},\"line_alpha\":{\"value\":0.2},\"line_color\":{\"value\":\"red\"},\"size\":{\"value\":5.477225575051661},\"x\":{\"field\":\"age\"},\"y\":{\"field\":\"wtsupp\"}},\"id\":\"30106\",\"type\":\"Scatter\"},{\"attributes\":{\"fill_color\":{\"value\":\"blue\"},\"hatch_color\":{\"value\":\"blue\"},\"line_color\":{\"value\":\"blue\"},\"size\":{\"value\":5.477225575051661},\"x\":{\"field\":\"age\"},\"y\":{\"field\":\"wtsupp\"}},\"id\":\"30113\",\"type\":\"Scatter\"},{\"attributes\":{},\"id\":\"30153\",\"type\":\"UnionRenderers\"},{\"attributes\":{\"children\":[{\"id\":\"30047\"},{\"id\":\"30056\"},{\"id\":\"30326\"}],\"margin\":[0,0,0,0],\"name\":\"Row69626\",\"tags\":[\"embedded\"]},\"id\":\"30046\",\"type\":\"Row\"},{\"attributes\":{\"data\":{\"age\":[15,16,17,18,19,20,21,22,23,24,25,26,27,28,29,30,31,32,33,34,35,36,37,38,39,40,41,42,43,44,45,46,47,48,49,50,51,52,53,54,55,56,57,58,59,60,61,62,63,64,65,66,67,68,69,70,71,72,73,74,75,76,77,78,79,80,85],\"wtsupp\":{\"__ndarray__\":\"NKjo270mrz8PpLLuZeXAP97zsMKras8/eZNWSDv12T9V0h5yQFPgP2mBuyzzNOQ/K3tG/hPp5D+jd7Sm1cTmP6iiV3XDS+g/idvaWmZ86j/SPV3nnsrrP0BD2cnAo+s/dqJR9b8u6z/qGoyCM+/rP+bBWzJtvew/VbioE48z7T/rbHQ69mntP+aqifhYiuw/cxiVBcIL7T+ofWucv4DsP/OmcTcr++s/nTm52lYB7T8E+B+y1w7tPzdBDxtOx+w/41n1xTVi7T8LksaXYSftP5afZovbluw/wsXSeBwM7D+fYLIWpQ7tP/0z4AJVd+w/q0j3YvUW7D9IVdWSnHXsP3AQEEGV3Os/dl2Apg3M6z9fkk+IPfbqP/xsuRHapuo/XPfH8K4a6z8W8XBmqfjqP1Q1kmwN1Oo/kY4JjJHd6T8Rla/2+ifqP2ojgzo0Fek/yGD2dZcv6T/+ISPTCn/oP4ePGLd3yOY/hmB+ahWC5z9ncV/9ElLmP0FZKyN/TOM/JuywbAwX4T+kDDMwXuDgP4DoktKmhds/7Rarhf4N2j+0ZZEuap/WP0Ss8yIbLdU/Gc89M4ER1D9Nr2l/Qi/SP+HRoYmSGNE/FPzb/fnczD9dKoMBDpvKPx+y0IqWHck/4nFQeMYcxz9kdB0PAQvJP5bTF06PEsI/XNFPOkZhwz/WQ/7yJknBP+HCDUw9/Lw/x1orS9xAsT8=\",\"dtype\":\"float64\",\"order\":\"little\",\"shape\":[67]}},\"selected\":{\"id\":\"30120\"},\"selection_policy\":{\"id\":\"30159\"}},\"id\":\"30119\",\"type\":\"ColumnDataSource\"},{\"attributes\":{\"below\":[{\"id\":\"30065\"}],\"center\":[{\"id\":\"30068\"},{\"id\":\"30072\"}],\"height\":300,\"left\":[{\"id\":\"30069\"}],\"margin\":[5,5,5,5],\"min_border_bottom\":10,\"min_border_left\":10,\"min_border_right\":10,\"min_border_top\":10,\"renderers\":[{\"id\":\"30098\"},{\"id\":\"30107\"},{\"id\":\"30116\"},{\"id\":\"30125\"},{\"id\":\"30134\"},{\"id\":\"30143\"}],\"sizing_mode\":\"fixed\",\"title\":{\"id\":\"30057\"},\"toolbar\":{\"id\":\"30079\"},\"width\":700,\"x_range\":{\"id\":\"30048\"},\"x_scale\":{\"id\":\"30061\"},\"y_range\":{\"id\":\"30049\"},\"y_scale\":{\"id\":\"30063\"}},\"id\":\"30056\",\"subtype\":\"Figure\",\"type\":\"Plot\"},{\"attributes\":{\"axis\":{\"id\":\"30069\"},\"coordinates\":null,\"dimension\":1,\"grid_line_color\":null,\"group\":null,\"ticker\":null},\"id\":\"30072\",\"type\":\"Grid\"},{\"attributes\":{\"angle\":{\"value\":0.0},\"fill_alpha\":{\"value\":1.0},\"fill_color\":{\"value\":\"gold\"},\"hatch_alpha\":{\"value\":1.0},\"hatch_color\":{\"value\":\"gold\"},\"hatch_scale\":{\"value\":12.0},\"hatch_weight\":{\"value\":1.0},\"line_alpha\":{\"value\":1.0},\"line_cap\":{\"value\":\"butt\"},\"line_color\":{\"value\":\"gold\"},\"line_dash\":{\"value\":[]},\"line_dash_offset\":{\"value\":0},\"line_join\":{\"value\":\"bevel\"},\"line_width\":{\"value\":1},\"marker\":{\"value\":\"circle\"},\"size\":{\"value\":5.477225575051661},\"x\":{\"field\":\"age\"},\"y\":{\"field\":\"wtsupp\"}},\"id\":\"30127\",\"type\":\"Scatter\"},{\"attributes\":{\"fill_color\":{\"value\":\"gold\"},\"hatch_color\":{\"value\":\"gold\"},\"line_color\":{\"value\":\"gold\"},\"size\":{\"value\":5.477225575051661},\"x\":{\"field\":\"age\"},\"y\":{\"field\":\"wtsupp\"}},\"id\":\"30122\",\"type\":\"Scatter\"},{\"attributes\":{},\"id\":\"30093\",\"type\":\"Selection\"},{\"attributes\":{\"fill_alpha\":{\"value\":0.2},\"fill_color\":{\"value\":\"cyan\"},\"hatch_alpha\":{\"value\":0.2},\"hatch_color\":{\"value\":\"cyan\"},\"line_alpha\":{\"value\":0.2},\"line_color\":{\"value\":\"cyan\"},\"size\":{\"value\":5.477225575051661},\"x\":{\"field\":\"age\"},\"y\":{\"field\":\"wtsupp\"}},\"id\":\"30142\",\"type\":\"Scatter\"},{\"attributes\":{\"fill_color\":{\"value\":\"green\"},\"hatch_color\":{\"value\":\"green\"},\"line_color\":{\"value\":\"green\"},\"size\":{\"value\":5.477225575051661},\"x\":{\"field\":\"age\"},\"y\":{\"field\":\"wtsupp\"}},\"id\":\"30095\",\"type\":\"Scatter\"},{\"attributes\":{\"data\":{\"age\":[15,16,17,18,19,20,21,22,23,24,25,26,27,28,29,30,31,32,33,34,35,36,37,38,39,40,41,42,43,44,45,46,47,48,49,50,51,52,53,54,55,56,57,58,59,60,61,62,63,64,65,66,67,68,69,70,71,72,73,74,75,76,77,78,79,80,85],\"wtsupp\":{\"__ndarray__\":\"fnNmNfOirD90bUcsPoXBP68UBZxdi9A/hwjs10A32j91zlCmQJXgP4Wkv98qLOM/Y0rhi2VC5D/Qs4A1deDlP9UzJc7c0Oc/kU8wfU0R6T/D6Z1lxtHpP00LJMbqauk/HR7iIoRm6T/AhidJ357pP1kbcttoSeo/fwZBjaJC6j+PuToZ3IjqP/SmOT1vtek/WxzkjPwR6j+LioAtMInpP2tsB60W1+k/QBSlJ2bG6T8QvvG0HTfqP4WZx4sEUeo/IhJFXd2a6j8WZQYOmGzqP26jQ1MqJeo/ZTYflAA96j8aSiKUQoDqP70VlnCdPeo/CQ5rBAc96j8Pe3JiwGDqP99QSeODoek/l2Z5E7756T916Dnc1yLpPwG7qg5AD+k/4Sw2fFkI6T/ys84GRPXoP0DMOZeXGuk/mJ/L7/kE6D9BnCLIQp3oPybXjkFlhOc/WmWCqeBs5z+sLeRJZ6/mP9AdjRaDuOQ/ewgNtXrY5D8COZ/hMQPkP/oIVD8zyeE/HlfIaqi+3z9ItHWv6T3eP44WDBAQrNk/aQJh9Fd11z8EQkU2X87TPxrUdosa79E/Pak9y5ha0T+5aWp4smTPPw9fzLkCb8w/RmMDz8u7xj+xeB38wfzFP835VB/Tr8M/qdd4RS4UxD/Zj0k+aC3CP7fLkdzlEL8/+7pfN0wauz96OlixWvq5P4Qc/mzZ77E/+hYl9ZAGpT8=\",\"dtype\":\"float64\",\"order\":\"little\",\"shape\":[67]}},\"selected\":{\"id\":\"30102\"},\"selection_policy\":{\"id\":\"30155\"}},\"id\":\"30101\",\"type\":\"ColumnDataSource\"},{\"attributes\":{\"fill_color\":{\"value\":\"cyan\"},\"hatch_color\":{\"value\":\"cyan\"},\"line_color\":{\"value\":\"cyan\"},\"size\":{\"value\":5.477225575051661},\"x\":{\"field\":\"age\"},\"y\":{\"field\":\"wtsupp\"}},\"id\":\"30140\",\"type\":\"Scatter\"},{\"attributes\":{},\"id\":\"30138\",\"type\":\"Selection\"},{\"attributes\":{},\"id\":\"30111\",\"type\":\"Selection\"},{\"attributes\":{},\"id\":\"30061\",\"type\":\"LinearScale\"},{\"attributes\":{},\"id\":\"30120\",\"type\":\"Selection\"}],\"root_ids\":[\"30046\"]},\"title\":\"Bokeh Application\",\"version\":\"2.4.2\"}};\n",
       "    var render_items = [{\"docid\":\"6f13bc72-b232-4ea6-97f6-36fea9344f86\",\"root_ids\":[\"30046\"],\"roots\":{\"30046\":\"325ef987-0e69-440c-a877-8b46767d9cca\"}}];\n",
       "    root.Bokeh.embed.embed_items_notebook(docs_json, render_items);\n",
       "  }\n",
       "  if (root.Bokeh !== undefined && root.Bokeh.Panel !== undefined) {\n",
       "    embed_document(root);\n",
       "  } else {\n",
       "    var attempts = 0;\n",
       "    var timer = setInterval(function(root) {\n",
       "      if (root.Bokeh !== undefined && root.Bokeh.Panel !== undefined) {\n",
       "        clearInterval(timer);\n",
       "        embed_document(root);\n",
       "      } else if (document.readyState == \"complete\") {\n",
       "        attempts++;\n",
       "        if (attempts > 200) {\n",
       "          clearInterval(timer);\n",
       "          console.log(\"Bokeh: ERROR: Unable to run BokehJS code because BokehJS library is missing\");\n",
       "        }\n",
       "      }\n",
       "    }, 25, root)\n",
       "  }\n",
       "})(window);</script>"
      ],
      "text/plain": [
       ":Overlay\n",
       "   .Scatter.I   :Scatter   [age]   (wtsupp)\n",
       "   .Scatter.II  :Scatter   [age]   (wtsupp)\n",
       "   .Scatter.III :Scatter   [age]   (wtsupp)\n",
       "   .Scatter.IV  :Scatter   [age]   (wtsupp)\n",
       "   .Scatter.V   :Scatter   [age]   (wtsupp)\n",
       "   .Scatter.VI  :Scatter   [age]   (wtsupp)"
      ]
     },
     "execution_count": 383,
     "metadata": {
      "application/vnd.holoviews_exec.v0+json": {
       "id": "30046"
      }
     },
     "output_type": "execute_result"
    }
   ],
   "source": [
    "total_lfpr_1995.hvplot(kind = 'scatter',ylabel = 'LFPR',color = 'green', title = '1995 Tot(Green)|2015 Tot(Red)|1995 M(Blue)|2015 M(Yellow)|1995 W(Purple)|2015 W(Light Blue) LFPR', figsize = (20,10)) * total_lfpr_2015.hvplot(kind = 'scatter',ylabel = 'LFRP',color = 'red', title = '2015', figsize = (20,10)) * male_lfrp_1995.hvplot(figsize = (20,10),kind = 'scatter', ylabel = 'LFRP', color = 'blue', title = '1995(Blue) & 2015(Yellow) Male LFRP' ) * male_lfrp_2015.hvplot(kind = 'scatter', figsize = (20,10), ylabel = 'LFRP', color = 'gold', title = '2015 Male LFRP' ) * female_lfrp_1995.hvplot(kind = 'scatter', ylabel = 'LFRP', color = 'purple', title = '1995(Purple) & 2015(Light Blue) Female LFRP', figsize = (20,10) ) * female_lfrp_2015.hvplot(kind = 'scatter', ylabel = 'LFRP', color = 'cyan', title = '2015 Female LFRP', figsize = (20,10) )  "
   ]
  },
  {
   "cell_type": "markdown",
   "id": "a0df7042-a5dc-4099-8415-85520b52917e",
   "metadata": {},
   "source": [
    "### 2. The figures from Question 1 show a consistent pattern in the relationship between age and LFPR. What explains the shape of this age profile? In two or three sentences, describe the most important factors."
   ]
  },
  {
   "cell_type": "markdown",
   "id": "fe50efaa-bdcd-4ecf-825e-bd0d673180f7",
   "metadata": {},
   "source": [
    "##### The data appears to show a curvilinear relationship between the variable age and the variable labor force. As age begins to increase so does the labor force but in their 40s labor force begins to decline and we see a steep decline in their 60s. This can be explained by people starting to join the labor force as they become adults and then leaving the labor force as they approach retirement. Another interesting note is that it appears people are staying in the labor force longer in 2015 when compared to 1995."
   ]
  },
  {
   "cell_type": "code",
   "execution_count": 384,
   "id": "37ff9d20-98ca-4122-ada3-68026b04fef0",
   "metadata": {},
   "outputs": [],
   "source": [
    "#Looking at 10 highest LFRP's for 1995 and 2015"
   ]
  },
  {
   "cell_type": "code",
   "execution_count": 385,
   "id": "8a5b8696-9bf8-4a37-99f3-fd8154ae494a",
   "metadata": {},
   "outputs": [
    {
     "data": {},
     "metadata": {},
     "output_type": "display_data"
    },
    {
     "data": {
      "application/vnd.holoviews_exec.v0+json": "",
      "text/html": [
       "<div id='30428'>\n",
       "\n",
       "\n",
       "\n",
       "\n",
       "\n",
       "  <div class=\"bk-root\" id=\"152b7238-1273-47e6-bac9-82d9efdc627e\" data-root-id=\"30428\"></div>\n",
       "</div>\n",
       "<script type=\"application/javascript\">(function(root) {\n",
       "  function embed_document(root) {\n",
       "    var docs_json = {\"09a4a1a2-b462-4ad7-9aa3-f90668063d3d\":{\"defs\":[{\"extends\":null,\"module\":null,\"name\":\"ReactiveHTML1\",\"overrides\":[],\"properties\":[]},{\"extends\":null,\"module\":null,\"name\":\"FlexBox1\",\"overrides\":[],\"properties\":[{\"default\":\"flex-start\",\"kind\":null,\"name\":\"align_content\"},{\"default\":\"flex-start\",\"kind\":null,\"name\":\"align_items\"},{\"default\":\"row\",\"kind\":null,\"name\":\"flex_direction\"},{\"default\":\"wrap\",\"kind\":null,\"name\":\"flex_wrap\"},{\"default\":\"flex-start\",\"kind\":null,\"name\":\"justify_content\"}]},{\"extends\":null,\"module\":null,\"name\":\"TemplateActions1\",\"overrides\":[],\"properties\":[{\"default\":0,\"kind\":null,\"name\":\"open_modal\"},{\"default\":0,\"kind\":null,\"name\":\"close_modal\"}]},{\"extends\":null,\"module\":null,\"name\":\"MaterialTemplateActions1\",\"overrides\":[],\"properties\":[{\"default\":0,\"kind\":null,\"name\":\"open_modal\"},{\"default\":0,\"kind\":null,\"name\":\"close_modal\"}]}],\"roots\":{\"references\":[{\"attributes\":{},\"id\":\"30440\",\"type\":\"LinearScale\"},{\"attributes\":{\"callback\":null,\"renderers\":[{\"id\":\"30468\"}],\"tags\":[\"hv_created\"],\"tooltips\":[[\"age\",\"@{age}\"],[\"wtsupp\",\"@{wtsupp}\"]]},\"id\":\"30432\",\"type\":\"HoverTool\"},{\"attributes\":{\"source\":{\"id\":\"30462\"}},\"id\":\"30469\",\"type\":\"CDSView\"},{\"attributes\":{},\"id\":\"30476\",\"type\":\"AllLabels\"},{\"attributes\":{},\"id\":\"30473\",\"type\":\"AllLabels\"},{\"attributes\":{\"data\":{\"age\":[\"28\",\"46\",\"33\",\"41\",\"47\",\"38\",\"37\",\"45\",\"43\",\"39\",\"42\",\"32\",\"40\",\"31\",\"36\",\"35\",\"27\",\"30\",\"48\",\"44\"],\"wtsupp\":{\"__ndarray__\":\"vBEgHglj6z/0YbdQnGDrP7/EIWu7Ues/0/RbOlFI6z808WeGY0DrP6huNEQGNOs/zNT7jtcT6z80k/ejNgnrPxPbtId/Bes/sLxb8Ufv6j+T6IqchOnqP73egeAc5+o/3rbOjfPV6j/Y859IKMXqP5YRPLR1uuo/yvw2wE+06j+nYCkTAq/qPyunI/LTmeo/I2ENkaqT6j8VUUfM4XvqPw==\",\"dtype\":\"float64\",\"order\":\"little\",\"shape\":[20]}},\"selected\":{\"id\":\"30463\"},\"selection_policy\":{\"id\":\"30484\"}},\"id\":\"30462\",\"type\":\"ColumnDataSource\"},{\"attributes\":{\"coordinates\":null,\"data_source\":{\"id\":\"30462\"},\"glyph\":{\"id\":\"30465\"},\"group\":null,\"hover_glyph\":null,\"muted_glyph\":{\"id\":\"30467\"},\"nonselection_glyph\":{\"id\":\"30466\"},\"selection_glyph\":{\"id\":\"30470\"},\"view\":{\"id\":\"30469\"}},\"id\":\"30468\",\"type\":\"GlyphRenderer\"},{\"attributes\":{},\"id\":\"30453\",\"type\":\"ResetTool\"},{\"attributes\":{\"bottom\":{\"value\":0},\"fill_alpha\":{\"value\":1.0},\"fill_color\":{\"value\":\"green\"},\"hatch_alpha\":{\"value\":1.0},\"hatch_color\":{\"value\":\"green\"},\"hatch_scale\":{\"value\":12.0},\"hatch_weight\":{\"value\":1.0},\"line_alpha\":{\"value\":1.0},\"line_cap\":{\"value\":\"butt\"},\"line_color\":{\"value\":\"black\"},\"line_dash\":{\"value\":[]},\"line_dash_offset\":{\"value\":0},\"line_join\":{\"value\":\"bevel\"},\"line_width\":{\"value\":1},\"top\":{\"field\":\"wtsupp\"},\"width\":{\"value\":0.8},\"x\":{\"field\":\"age\"}},\"id\":\"30470\",\"type\":\"VBar\"},{\"attributes\":{},\"id\":\"30446\",\"type\":\"BasicTicker\"},{\"attributes\":{},\"id\":\"30472\",\"type\":\"CategoricalTickFormatter\"},{\"attributes\":{\"coordinates\":null,\"group\":null,\"text\":\"1995 Total\",\"text_color\":\"black\",\"text_font_size\":\"12pt\"},\"id\":\"30434\",\"type\":\"Title\"},{\"attributes\":{},\"id\":\"30449\",\"type\":\"SaveTool\"},{\"attributes\":{\"margin\":[5,5,5,5],\"name\":\"HSpacer70565\",\"sizing_mode\":\"stretch_width\"},\"id\":\"30497\",\"type\":\"Spacer\"},{\"attributes\":{\"overlay\":{\"id\":\"30454\"}},\"id\":\"30452\",\"type\":\"BoxZoomTool\"},{\"attributes\":{},\"id\":\"30475\",\"type\":\"BasicTickFormatter\"},{\"attributes\":{},\"id\":\"30443\",\"type\":\"CategoricalTicker\"},{\"attributes\":{},\"id\":\"30451\",\"type\":\"WheelZoomTool\"},{\"attributes\":{},\"id\":\"30438\",\"type\":\"CategoricalScale\"},{\"attributes\":{},\"id\":\"30484\",\"type\":\"UnionRenderers\"},{\"attributes\":{\"children\":[{\"id\":\"30429\"},{\"id\":\"30433\"},{\"id\":\"30497\"}],\"margin\":[0,0,0,0],\"name\":\"Row70560\",\"tags\":[\"embedded\"]},\"id\":\"30428\",\"type\":\"Row\"},{\"attributes\":{\"fill_color\":{\"value\":\"green\"},\"hatch_color\":{\"value\":\"green\"},\"top\":{\"field\":\"wtsupp\"},\"width\":{\"value\":0.8},\"x\":{\"field\":\"age\"}},\"id\":\"30465\",\"type\":\"VBar\"},{\"attributes\":{\"axis\":{\"id\":\"30442\"},\"coordinates\":null,\"grid_line_color\":null,\"group\":null,\"ticker\":null},\"id\":\"30444\",\"type\":\"Grid\"},{\"attributes\":{\"axis\":{\"id\":\"30445\"},\"coordinates\":null,\"dimension\":1,\"grid_line_color\":null,\"group\":null,\"ticker\":null},\"id\":\"30448\",\"type\":\"Grid\"},{\"attributes\":{\"fill_alpha\":{\"value\":0.2},\"fill_color\":{\"value\":\"green\"},\"hatch_alpha\":{\"value\":0.2},\"hatch_color\":{\"value\":\"green\"},\"line_alpha\":{\"value\":0.2},\"top\":{\"field\":\"wtsupp\"},\"width\":{\"value\":0.8},\"x\":{\"field\":\"age\"}},\"id\":\"30467\",\"type\":\"VBar\"},{\"attributes\":{\"axis_label\":\"age\",\"coordinates\":null,\"formatter\":{\"id\":\"30472\"},\"group\":null,\"major_label_orientation\":1.3089969389957472,\"major_label_policy\":{\"id\":\"30473\"},\"ticker\":{\"id\":\"30443\"}},\"id\":\"30442\",\"type\":\"CategoricalAxis\"},{\"attributes\":{\"bottom_units\":\"screen\",\"coordinates\":null,\"fill_alpha\":0.5,\"fill_color\":\"lightgrey\",\"group\":null,\"left_units\":\"screen\",\"level\":\"overlay\",\"line_alpha\":1.0,\"line_color\":\"black\",\"line_dash\":[4,4],\"line_width\":2,\"right_units\":\"screen\",\"syncable\":false,\"top_units\":\"screen\"},\"id\":\"30454\",\"type\":\"BoxAnnotation\"},{\"attributes\":{\"tools\":[{\"id\":\"30432\"},{\"id\":\"30449\"},{\"id\":\"30450\"},{\"id\":\"30451\"},{\"id\":\"30452\"},{\"id\":\"30453\"}]},\"id\":\"30455\",\"type\":\"Toolbar\"},{\"attributes\":{\"factors\":[\"28\",\"46\",\"33\",\"41\",\"47\",\"38\",\"37\",\"45\",\"43\",\"39\",\"42\",\"32\",\"40\",\"31\",\"36\",\"35\",\"27\",\"30\",\"48\",\"44\"],\"tags\":[[[\"age\",\"age\",null]]]},\"id\":\"30430\",\"type\":\"FactorRange\"},{\"attributes\":{\"fill_alpha\":{\"value\":0.1},\"fill_color\":{\"value\":\"green\"},\"hatch_alpha\":{\"value\":0.1},\"hatch_color\":{\"value\":\"green\"},\"line_alpha\":{\"value\":0.1},\"top\":{\"field\":\"wtsupp\"},\"width\":{\"value\":0.8},\"x\":{\"field\":\"age\"}},\"id\":\"30466\",\"type\":\"VBar\"},{\"attributes\":{},\"id\":\"30450\",\"type\":\"PanTool\"},{\"attributes\":{\"end\":0.9,\"reset_end\":0.9,\"reset_start\":0.8,\"start\":0.8,\"tags\":[[[\"wtsupp\",\"wtsupp\",null]]]},\"id\":\"30431\",\"type\":\"Range1d\"},{\"attributes\":{\"axis_label\":\"LFPR\",\"coordinates\":null,\"formatter\":{\"id\":\"30475\"},\"group\":null,\"major_label_policy\":{\"id\":\"30476\"},\"ticker\":{\"id\":\"30446\"}},\"id\":\"30445\",\"type\":\"LinearAxis\"},{\"attributes\":{},\"id\":\"30463\",\"type\":\"Selection\"},{\"attributes\":{\"margin\":[5,5,5,5],\"name\":\"HSpacer70564\",\"sizing_mode\":\"stretch_width\"},\"id\":\"30429\",\"type\":\"Spacer\"},{\"attributes\":{\"below\":[{\"id\":\"30442\"}],\"center\":[{\"id\":\"30444\"},{\"id\":\"30448\"}],\"height\":300,\"left\":[{\"id\":\"30445\"}],\"margin\":[5,5,5,5],\"min_border_bottom\":10,\"min_border_left\":10,\"min_border_right\":10,\"min_border_top\":10,\"renderers\":[{\"id\":\"30468\"}],\"sizing_mode\":\"fixed\",\"title\":{\"id\":\"30434\"},\"toolbar\":{\"id\":\"30455\"},\"width\":700,\"x_range\":{\"id\":\"30430\"},\"x_scale\":{\"id\":\"30438\"},\"y_range\":{\"id\":\"30431\"},\"y_scale\":{\"id\":\"30440\"}},\"id\":\"30433\",\"subtype\":\"Figure\",\"type\":\"Plot\"}],\"root_ids\":[\"30428\"]},\"title\":\"Bokeh Application\",\"version\":\"2.4.2\"}};\n",
       "    var render_items = [{\"docid\":\"09a4a1a2-b462-4ad7-9aa3-f90668063d3d\",\"root_ids\":[\"30428\"],\"roots\":{\"30428\":\"152b7238-1273-47e6-bac9-82d9efdc627e\"}}];\n",
       "    root.Bokeh.embed.embed_items_notebook(docs_json, render_items);\n",
       "  }\n",
       "  if (root.Bokeh !== undefined && root.Bokeh.Panel !== undefined) {\n",
       "    embed_document(root);\n",
       "  } else {\n",
       "    var attempts = 0;\n",
       "    var timer = setInterval(function(root) {\n",
       "      if (root.Bokeh !== undefined && root.Bokeh.Panel !== undefined) {\n",
       "        clearInterval(timer);\n",
       "        embed_document(root);\n",
       "      } else if (document.readyState == \"complete\") {\n",
       "        attempts++;\n",
       "        if (attempts > 200) {\n",
       "          clearInterval(timer);\n",
       "          console.log(\"Bokeh: ERROR: Unable to run BokehJS code because BokehJS library is missing\");\n",
       "        }\n",
       "      }\n",
       "    }, 25, root)\n",
       "  }\n",
       "})(window);</script>"
      ],
      "text/plain": [
       ":Bars   [age]   (wtsupp)"
      ]
     },
     "execution_count": 385,
     "metadata": {
      "application/vnd.holoviews_exec.v0+json": {
       "id": "30428"
      }
     },
     "output_type": "execute_result"
    }
   ],
   "source": [
    "total_lfpr_1995['wtsupp'].nlargest(20).hvplot(kind = 'bar',ylabel = 'LFPR',color = 'green', title = '1995 Total', rot = 75, ylim = (.8,.9))"
   ]
  },
  {
   "cell_type": "code",
   "execution_count": 386,
   "id": "48e76e2a-da8a-4e96-b555-94d44505b1a8",
   "metadata": {},
   "outputs": [
    {
     "data": {},
     "metadata": {},
     "output_type": "display_data"
    },
    {
     "data": {
      "application/vnd.holoviews_exec.v0+json": "",
      "text/html": [
       "<div id='30549'>\n",
       "\n",
       "\n",
       "\n",
       "\n",
       "\n",
       "  <div class=\"bk-root\" id=\"e2127c75-25f3-4cea-90cc-b47a2ad69b65\" data-root-id=\"30549\"></div>\n",
       "</div>\n",
       "<script type=\"application/javascript\">(function(root) {\n",
       "  function embed_document(root) {\n",
       "    var docs_json = {\"d5f742a4-fc38-4dc5-a6c1-7ee26a699c63\":{\"defs\":[{\"extends\":null,\"module\":null,\"name\":\"ReactiveHTML1\",\"overrides\":[],\"properties\":[]},{\"extends\":null,\"module\":null,\"name\":\"FlexBox1\",\"overrides\":[],\"properties\":[{\"default\":\"flex-start\",\"kind\":null,\"name\":\"align_content\"},{\"default\":\"flex-start\",\"kind\":null,\"name\":\"align_items\"},{\"default\":\"row\",\"kind\":null,\"name\":\"flex_direction\"},{\"default\":\"wrap\",\"kind\":null,\"name\":\"flex_wrap\"},{\"default\":\"flex-start\",\"kind\":null,\"name\":\"justify_content\"}]},{\"extends\":null,\"module\":null,\"name\":\"TemplateActions1\",\"overrides\":[],\"properties\":[{\"default\":0,\"kind\":null,\"name\":\"open_modal\"},{\"default\":0,\"kind\":null,\"name\":\"close_modal\"}]},{\"extends\":null,\"module\":null,\"name\":\"MaterialTemplateActions1\",\"overrides\":[],\"properties\":[{\"default\":0,\"kind\":null,\"name\":\"open_modal\"},{\"default\":0,\"kind\":null,\"name\":\"close_modal\"}]}],\"roots\":{\"references\":[{\"attributes\":{\"overlay\":{\"id\":\"30575\"}},\"id\":\"30573\",\"type\":\"BoxZoomTool\"},{\"attributes\":{\"coordinates\":null,\"group\":null,\"text\":\"2015 Total\",\"text_color\":\"black\",\"text_font_size\":\"12pt\"},\"id\":\"30555\",\"type\":\"Title\"},{\"attributes\":{},\"id\":\"30572\",\"type\":\"WheelZoomTool\"},{\"attributes\":{},\"id\":\"30596\",\"type\":\"BasicTickFormatter\"},{\"attributes\":{},\"id\":\"30584\",\"type\":\"Selection\"},{\"attributes\":{\"fill_alpha\":{\"value\":0.1},\"fill_color\":{\"value\":\"red\"},\"hatch_alpha\":{\"value\":0.1},\"hatch_color\":{\"value\":\"red\"},\"line_alpha\":{\"value\":0.1},\"top\":{\"field\":\"wtsupp\"},\"width\":{\"value\":0.8},\"x\":{\"field\":\"age\"}},\"id\":\"30587\",\"type\":\"VBar\"},{\"attributes\":{},\"id\":\"30559\",\"type\":\"CategoricalScale\"},{\"attributes\":{\"children\":[{\"id\":\"30550\"},{\"id\":\"30554\"},{\"id\":\"30618\"}],\"margin\":[0,0,0,0],\"name\":\"Row70709\",\"tags\":[\"embedded\"]},\"id\":\"30549\",\"type\":\"Row\"},{\"attributes\":{\"axis_label\":\"age\",\"coordinates\":null,\"formatter\":{\"id\":\"30593\"},\"group\":null,\"major_label_orientation\":1.3089969389957472,\"major_label_policy\":{\"id\":\"30594\"},\"ticker\":{\"id\":\"30564\"}},\"id\":\"30563\",\"type\":\"CategoricalAxis\"},{\"attributes\":{\"fill_alpha\":{\"value\":0.2},\"fill_color\":{\"value\":\"red\"},\"hatch_alpha\":{\"value\":0.2},\"hatch_color\":{\"value\":\"red\"},\"line_alpha\":{\"value\":0.2},\"top\":{\"field\":\"wtsupp\"},\"width\":{\"value\":0.8},\"x\":{\"field\":\"age\"}},\"id\":\"30588\",\"type\":\"VBar\"},{\"attributes\":{\"margin\":[5,5,5,5],\"name\":\"HSpacer70713\",\"sizing_mode\":\"stretch_width\"},\"id\":\"30550\",\"type\":\"Spacer\"},{\"attributes\":{\"coordinates\":null,\"data_source\":{\"id\":\"30583\"},\"glyph\":{\"id\":\"30586\"},\"group\":null,\"hover_glyph\":null,\"muted_glyph\":{\"id\":\"30588\"},\"nonselection_glyph\":{\"id\":\"30587\"},\"selection_glyph\":{\"id\":\"30591\"},\"view\":{\"id\":\"30590\"}},\"id\":\"30589\",\"type\":\"GlyphRenderer\"},{\"attributes\":{\"callback\":null,\"renderers\":[{\"id\":\"30589\"}],\"tags\":[\"hv_created\"],\"tooltips\":[[\"age\",\"@{age}\"],[\"wtsupp\",\"@{wtsupp}\"]]},\"id\":\"30553\",\"type\":\"HoverTool\"},{\"attributes\":{},\"id\":\"30593\",\"type\":\"CategoricalTickFormatter\"},{\"attributes\":{},\"id\":\"30567\",\"type\":\"BasicTicker\"},{\"attributes\":{\"axis\":{\"id\":\"30566\"},\"coordinates\":null,\"dimension\":1,\"grid_line_color\":null,\"group\":null,\"ticker\":null},\"id\":\"30569\",\"type\":\"Grid\"},{\"attributes\":{\"tools\":[{\"id\":\"30553\"},{\"id\":\"30570\"},{\"id\":\"30571\"},{\"id\":\"30572\"},{\"id\":\"30573\"},{\"id\":\"30574\"}]},\"id\":\"30576\",\"type\":\"Toolbar\"},{\"attributes\":{\"fill_color\":{\"value\":\"red\"},\"hatch_color\":{\"value\":\"red\"},\"top\":{\"field\":\"wtsupp\"},\"width\":{\"value\":0.8},\"x\":{\"field\":\"age\"}},\"id\":\"30586\",\"type\":\"VBar\"},{\"attributes\":{},\"id\":\"30564\",\"type\":\"CategoricalTicker\"},{\"attributes\":{},\"id\":\"30594\",\"type\":\"AllLabels\"},{\"attributes\":{\"margin\":[5,5,5,5],\"name\":\"HSpacer70714\",\"sizing_mode\":\"stretch_width\"},\"id\":\"30618\",\"type\":\"Spacer\"},{\"attributes\":{\"bottom\":{\"value\":0},\"fill_alpha\":{\"value\":1.0},\"fill_color\":{\"value\":\"red\"},\"hatch_alpha\":{\"value\":1.0},\"hatch_color\":{\"value\":\"red\"},\"hatch_scale\":{\"value\":12.0},\"hatch_weight\":{\"value\":1.0},\"line_alpha\":{\"value\":1.0},\"line_cap\":{\"value\":\"butt\"},\"line_color\":{\"value\":\"black\"},\"line_dash\":{\"value\":[]},\"line_dash_offset\":{\"value\":0},\"line_join\":{\"value\":\"bevel\"},\"line_width\":{\"value\":1},\"top\":{\"field\":\"wtsupp\"},\"width\":{\"value\":0.8},\"x\":{\"field\":\"age\"}},\"id\":\"30591\",\"type\":\"VBar\"},{\"attributes\":{},\"id\":\"30561\",\"type\":\"LinearScale\"},{\"attributes\":{\"end\":0.9,\"reset_end\":0.9,\"reset_start\":0.8,\"start\":0.8,\"tags\":[[[\"wtsupp\",\"wtsupp\",null]]]},\"id\":\"30552\",\"type\":\"Range1d\"},{\"attributes\":{\"axis\":{\"id\":\"30563\"},\"coordinates\":null,\"grid_line_color\":null,\"group\":null,\"ticker\":null},\"id\":\"30565\",\"type\":\"Grid\"},{\"attributes\":{\"below\":[{\"id\":\"30563\"}],\"center\":[{\"id\":\"30565\"},{\"id\":\"30569\"}],\"height\":300,\"left\":[{\"id\":\"30566\"}],\"margin\":[5,5,5,5],\"min_border_bottom\":10,\"min_border_left\":10,\"min_border_right\":10,\"min_border_top\":10,\"renderers\":[{\"id\":\"30589\"}],\"sizing_mode\":\"fixed\",\"title\":{\"id\":\"30555\"},\"toolbar\":{\"id\":\"30576\"},\"width\":700,\"x_range\":{\"id\":\"30551\"},\"x_scale\":{\"id\":\"30559\"},\"y_range\":{\"id\":\"30552\"},\"y_scale\":{\"id\":\"30561\"}},\"id\":\"30554\",\"subtype\":\"Figure\",\"type\":\"Plot\"},{\"attributes\":{},\"id\":\"30574\",\"type\":\"ResetTool\"},{\"attributes\":{},\"id\":\"30605\",\"type\":\"UnionRenderers\"},{\"attributes\":{\"data\":{\"age\":[\"39\",\"31\",\"43\",\"40\",\"46\",\"38\",\"29\",\"30\",\"44\",\"45\",\"42\",\"37\",\"41\",\"33\",\"48\",\"35\",\"25\",\"36\",\"32\",\"47\"],\"wtsupp\":{\"__ndarray__\":\"IhJFXd2a6j+PuToZ3IjqPxpKIpRCgOo/FmUGDphs6j8Pe3JiwGDqP4WZx4sEUeo/WRty22hJ6j9/BkGNokLqP70VlnCdPeo/CQ5rBAc96j9lNh+UAD3qPxC+8bQdN+o/bqNDUyol6j9bHOSM/BHqP5dmeRO++ek/a2wHrRbX6T/D6Z1lxtHpP0AUpSdmxuk/9KY5PW+16T/fUEnjg6HpPw==\",\"dtype\":\"float64\",\"order\":\"little\",\"shape\":[20]}},\"selected\":{\"id\":\"30584\"},\"selection_policy\":{\"id\":\"30605\"}},\"id\":\"30583\",\"type\":\"ColumnDataSource\"},{\"attributes\":{\"axis_label\":\"LFPR\",\"coordinates\":null,\"formatter\":{\"id\":\"30596\"},\"group\":null,\"major_label_policy\":{\"id\":\"30597\"},\"ticker\":{\"id\":\"30567\"}},\"id\":\"30566\",\"type\":\"LinearAxis\"},{\"attributes\":{},\"id\":\"30570\",\"type\":\"SaveTool\"},{\"attributes\":{},\"id\":\"30597\",\"type\":\"AllLabels\"},{\"attributes\":{\"bottom_units\":\"screen\",\"coordinates\":null,\"fill_alpha\":0.5,\"fill_color\":\"lightgrey\",\"group\":null,\"left_units\":\"screen\",\"level\":\"overlay\",\"line_alpha\":1.0,\"line_color\":\"black\",\"line_dash\":[4,4],\"line_width\":2,\"right_units\":\"screen\",\"syncable\":false,\"top_units\":\"screen\"},\"id\":\"30575\",\"type\":\"BoxAnnotation\"},{\"attributes\":{},\"id\":\"30571\",\"type\":\"PanTool\"},{\"attributes\":{\"source\":{\"id\":\"30583\"}},\"id\":\"30590\",\"type\":\"CDSView\"},{\"attributes\":{\"factors\":[\"39\",\"31\",\"43\",\"40\",\"46\",\"38\",\"29\",\"30\",\"44\",\"45\",\"42\",\"37\",\"41\",\"33\",\"48\",\"35\",\"25\",\"36\",\"32\",\"47\"],\"tags\":[[[\"age\",\"age\",null]]]},\"id\":\"30551\",\"type\":\"FactorRange\"}],\"root_ids\":[\"30549\"]},\"title\":\"Bokeh Application\",\"version\":\"2.4.2\"}};\n",
       "    var render_items = [{\"docid\":\"d5f742a4-fc38-4dc5-a6c1-7ee26a699c63\",\"root_ids\":[\"30549\"],\"roots\":{\"30549\":\"e2127c75-25f3-4cea-90cc-b47a2ad69b65\"}}];\n",
       "    root.Bokeh.embed.embed_items_notebook(docs_json, render_items);\n",
       "  }\n",
       "  if (root.Bokeh !== undefined && root.Bokeh.Panel !== undefined) {\n",
       "    embed_document(root);\n",
       "  } else {\n",
       "    var attempts = 0;\n",
       "    var timer = setInterval(function(root) {\n",
       "      if (root.Bokeh !== undefined && root.Bokeh.Panel !== undefined) {\n",
       "        clearInterval(timer);\n",
       "        embed_document(root);\n",
       "      } else if (document.readyState == \"complete\") {\n",
       "        attempts++;\n",
       "        if (attempts > 200) {\n",
       "          clearInterval(timer);\n",
       "          console.log(\"Bokeh: ERROR: Unable to run BokehJS code because BokehJS library is missing\");\n",
       "        }\n",
       "      }\n",
       "    }, 25, root)\n",
       "  }\n",
       "})(window);</script>"
      ],
      "text/plain": [
       ":Bars   [age]   (wtsupp)"
      ]
     },
     "execution_count": 386,
     "metadata": {
      "application/vnd.holoviews_exec.v0+json": {
       "id": "30549"
      }
     },
     "output_type": "execute_result"
    }
   ],
   "source": [
    "total_lfpr_2015['wtsupp'].nlargest(20).hvplot(kind = 'bar',ylabel = 'LFPR',color = 'red', title = '2015 Total', rot = 75, ylim = (.8,.9))"
   ]
  },
  {
   "cell_type": "markdown",
   "id": "c2c6b434-acd0-469e-a527-0134436f7acf",
   "metadata": {},
   "source": [
    "### 3. Calculate the aggregate LFPRs of persons aged 15 and over in 1995 and 2015. Please calculate the value separately for men, for women, and for the full population."
   ]
  },
  {
   "cell_type": "code",
   "execution_count": 387,
   "id": "f2f7bdd1-f310-415f-aa03-5f62710c00e3",
   "metadata": {},
   "outputs": [],
   "source": [
    "#Aggregate LFPR"
   ]
  },
  {
   "cell_type": "code",
   "execution_count": 388,
   "id": "11fda87f-64c7-4623-a879-5325f9b193b2",
   "metadata": {},
   "outputs": [],
   "source": [
    "aggregate_total_1995 = df.loc[df['year'] == 1995].loc[df['labforce'] == 2][['wtsupp']].groupby(df['age']).sum()"
   ]
  },
  {
   "cell_type": "code",
   "execution_count": 389,
   "id": "6b60843d-40b4-47d8-92d9-2d4fcc30868d",
   "metadata": {},
   "outputs": [],
   "source": [
    "aggregate_total_2015 = df.loc[df['year'] == 2015].loc[df['labforce'] == 2][['wtsupp']].groupby(df['age']).sum()"
   ]
  },
  {
   "cell_type": "code",
   "execution_count": 390,
   "id": "47527a26-fb0e-4e44-b4a8-b2c5143ae64c",
   "metadata": {},
   "outputs": [],
   "source": [
    "aggregate_male_1995 = df.loc[df['year'] == 1995].loc[df['labforce'] == 2].loc[df['sex'] == 1][['wtsupp']].groupby(df['age']).sum()"
   ]
  },
  {
   "cell_type": "code",
   "execution_count": 391,
   "id": "049c1fb4-9680-4dc6-b528-81d3ae8c9868",
   "metadata": {},
   "outputs": [],
   "source": [
    "aggregate_male_2015 = df.loc[df['year'] == 2015].loc[df['labforce'] == 2].loc[df['sex'] == 1][['wtsupp']].groupby(df['age']).sum()"
   ]
  },
  {
   "cell_type": "code",
   "execution_count": 392,
   "id": "e0933eac-8aa6-40ad-807b-b85d749b776c",
   "metadata": {},
   "outputs": [],
   "source": [
    "aggregate_female_1995 = df.loc[df['year'] == 1995].loc[df['labforce'] == 2].loc[df['sex'] == 2][['wtsupp']].groupby(df['age']).sum()"
   ]
  },
  {
   "cell_type": "code",
   "execution_count": 393,
   "id": "ffb3b96c-58e3-4990-a74a-18a824bc79b2",
   "metadata": {},
   "outputs": [],
   "source": [
    "aggregate_female_2015 = df.loc[df['year'] == 2015].loc[df['labforce'] == 2].loc[df['sex'] == 2][['wtsupp']].groupby(df['age']).sum()"
   ]
  },
  {
   "cell_type": "code",
   "execution_count": 394,
   "id": "f1fbd8ab-305f-4c27-a912-880c3b384aff",
   "metadata": {},
   "outputs": [
    {
     "name": "stdout",
     "output_type": "stream",
     "text": [
      "1995 Aggregate Total: 131559896.840000\n",
      "2015 Aggregate Total: 156721796.850000\n",
      "1995 Aggregate Male Total: 70793350.150000\n",
      "2015 Aggregate Male Total: 83238834.480000\n",
      "1995 Aggregate Female Total: 60766546.690000\n",
      "2015 Aggregate Female Total: 73482962.370000\n"
     ]
    }
   ],
   "source": [
    "print(f\"1995 Aggregate Total: {aggregate_total_1995.sum().apply(lambda x: format(x, 'f'))[0]}\")\n",
    "print(f\"2015 Aggregate Total: {aggregate_total_2015.sum().apply(lambda x: format(x, 'f'))[0]}\")\n",
    "print(f\"1995 Aggregate Male Total: {aggregate_male_1995.sum().apply(lambda x: format(x, 'f'))[0]}\")\n",
    "print(f\"2015 Aggregate Male Total: {aggregate_male_2015.sum().apply(lambda x: format(x, 'f'))[0]}\")\n",
    "print(f\"1995 Aggregate Female Total: {aggregate_female_1995.sum().apply(lambda x: format(x, 'f'))[0]}\")\n",
    "print(f\"2015 Aggregate Female Total: {aggregate_female_2015.sum().apply(lambda x: format(x, 'f'))[0]}\")"
   ]
  },
  {
   "cell_type": "code",
   "execution_count": null,
   "id": "053b0fdd-8a1e-42a4-a8a8-29e19994edfa",
   "metadata": {},
   "outputs": [],
   "source": [
    "# Looking at percent changes between sexes "
   ]
  },
  {
   "cell_type": "code",
   "execution_count": 395,
   "id": "0a0cd02c-889a-4a2f-b12d-1f4bdd8558fc",
   "metadata": {},
   "outputs": [
    {
     "data": {
      "text/plain": [
       "wtsupp    0.149515\n",
       "dtype: float64"
      ]
     },
     "execution_count": 395,
     "metadata": {},
     "output_type": "execute_result"
    }
   ],
   "source": [
    "(aggregate_male_2015.sum() - aggregate_male_1995.sum()) / aggregate_male_2015.sum()"
   ]
  },
  {
   "cell_type": "code",
   "execution_count": 396,
   "id": "9c35bd4a-70d1-41a0-a02b-60f10734fbe2",
   "metadata": {},
   "outputs": [
    {
     "data": {
      "text/plain": [
       "wtsupp    0.173053\n",
       "dtype: float64"
      ]
     },
     "execution_count": 396,
     "metadata": {},
     "output_type": "execute_result"
    }
   ],
   "source": [
    "(aggregate_female_2015.sum() - aggregate_female_1995.sum()) / aggregate_female_2015.sum()"
   ]
  },
  {
   "cell_type": "markdown",
   "id": "aa8bbb5b-d0f4-425a-bf32-a69e0e09f7a9",
   "metadata": {},
   "source": [
    "##### Interesting to note we see a greater percent increase in Women in the labor from 1995 to 2015 than men "
   ]
  },
  {
   "cell_type": "code",
   "execution_count": null,
   "id": "2f1e56fd-2b5a-4f73-91e2-016110c65ca5",
   "metadata": {},
   "outputs": [],
   "source": [
    "#plotting 1995 aggregate total vs 2015 aggregate total"
   ]
  },
  {
   "cell_type": "code",
   "execution_count": 536,
   "id": "6487dcb0-8ff0-4280-8aae-ecbad7f66610",
   "metadata": {},
   "outputs": [
    {
     "data": {},
     "metadata": {},
     "output_type": "display_data"
    },
    {
     "data": {
      "application/vnd.holoviews_exec.v0+json": "",
      "text/html": [
       "<div id='39406'>\n",
       "\n",
       "\n",
       "\n",
       "\n",
       "\n",
       "  <div class=\"bk-root\" id=\"8a0ab56c-7eee-4ce9-9be3-c36d66ea7356\" data-root-id=\"39406\"></div>\n",
       "</div>\n",
       "<script type=\"application/javascript\">(function(root) {\n",
       "  function embed_document(root) {\n",
       "    var docs_json = {\"7aef5a28-e880-4ddb-864e-a93874a210ed\":{\"defs\":[{\"extends\":null,\"module\":null,\"name\":\"ReactiveHTML1\",\"overrides\":[],\"properties\":[]},{\"extends\":null,\"module\":null,\"name\":\"FlexBox1\",\"overrides\":[],\"properties\":[{\"default\":\"flex-start\",\"kind\":null,\"name\":\"align_content\"},{\"default\":\"flex-start\",\"kind\":null,\"name\":\"align_items\"},{\"default\":\"row\",\"kind\":null,\"name\":\"flex_direction\"},{\"default\":\"wrap\",\"kind\":null,\"name\":\"flex_wrap\"},{\"default\":\"flex-start\",\"kind\":null,\"name\":\"justify_content\"}]},{\"extends\":null,\"module\":null,\"name\":\"TemplateActions1\",\"overrides\":[],\"properties\":[{\"default\":0,\"kind\":null,\"name\":\"open_modal\"},{\"default\":0,\"kind\":null,\"name\":\"close_modal\"}]},{\"extends\":null,\"module\":null,\"name\":\"MaterialTemplateActions1\",\"overrides\":[],\"properties\":[{\"default\":0,\"kind\":null,\"name\":\"open_modal\"},{\"default\":0,\"kind\":null,\"name\":\"close_modal\"}]}],\"roots\":{\"references\":[{\"attributes\":{},\"id\":\"39422\",\"type\":\"BasicTicker\"},{\"attributes\":{\"source\":{\"id\":\"39457\"}},\"id\":\"39464\",\"type\":\"CDSView\"},{\"attributes\":{\"tools\":[{\"id\":\"39410\"},{\"id\":\"39429\"},{\"id\":\"39430\"},{\"id\":\"39431\"},{\"id\":\"39432\"},{\"id\":\"39433\"}]},\"id\":\"39435\",\"type\":\"Toolbar\"},{\"attributes\":{\"callback\":null,\"renderers\":[{\"id\":\"39454\"},{\"id\":\"39463\"}],\"tags\":[\"hv_created\"],\"tooltips\":[[\"age\",\"@{age}\"],[\"wtsupp\",\"@{wtsupp}\"]]},\"id\":\"39410\",\"type\":\"HoverTool\"},{\"attributes\":{},\"id\":\"39458\",\"type\":\"Selection\"},{\"attributes\":{\"line_alpha\":0.1,\"line_color\":\"#30a2da\",\"line_width\":2,\"x\":{\"field\":\"age\"},\"y\":{\"field\":\"wtsupp\"}},\"id\":\"39452\",\"type\":\"Line\"},{\"attributes\":{\"bottom_units\":\"screen\",\"coordinates\":null,\"fill_alpha\":0.5,\"fill_color\":\"lightgrey\",\"group\":null,\"left_units\":\"screen\",\"level\":\"overlay\",\"line_alpha\":1.0,\"line_color\":\"black\",\"line_dash\":[4,4],\"line_width\":2,\"right_units\":\"screen\",\"syncable\":false,\"top_units\":\"screen\"},\"id\":\"39434\",\"type\":\"BoxAnnotation\"},{\"attributes\":{},\"id\":\"39429\",\"type\":\"SaveTool\"},{\"attributes\":{\"end\":4247346.401000006,\"reset_end\":4247346.401000006,\"reset_start\":-383171.97100000054,\"start\":-383171.97100000054,\"tags\":[[[\"wtsupp\",\"wtsupp\",null]]]},\"id\":\"39409\",\"type\":\"Range1d\"},{\"attributes\":{\"data\":{\"age\":[15,16,17,18,19,20,21,22,23,24,25,26,27,28,29,30,31,32,33,34,35,36,37,38,39,40,41,42,43,44,45,46,47,48,49,50,51,52,53,54,55,56,57,58,59,60,61,62,63,64,65,66,67,68,69,70,71,72,73,74,75,76,77,78,79,80,85],\"wtsupp\":{\"__ndarray__\":\"W4/C9YaVDEFmZmbmZiIiQdWjcH17ZTFBtkfhev82OkExXI9CBBc9QSeF65Etd0NBAClcL27YREFF4XrUvnhHQRuuR+GOIUhBamZmBu5CTEFN4Xp0yA1MQWRmZubgCUpBvR6FyxPfSUEAAAAg2IZKQZLC9cjdNEpBw6NwvVDaSkFSCtfDU45JQXtmZqaBIkpB+HoUzpprSUHXo3CdvAJKQe8oXG+jYktBJIXrcTiXR0H/KFwPu6NIQcL1KHzXq0dBUmZmhlbwR0GV61G4DnNIQfb//5803kdBT+F61B08SEGWmZl5Wh1JQQ4AAKDNR0tBANejUO1eSkEbrkchYqpJQTUK18ODqEhBWGZm5no7SUGccD2qGIlIQfR6FE69mUtBmML1KJW2SkHvKFyvYnVJQWZmZmazwklBdT0K9xjtSUGhmZl5gFxJQZxwPWoK7EdBrEfh+sZYSEF7PQrXSy1HQUbhenQIpURBLIXrcVrtQ0GXmZl5vRtDQXg9CrcqDUBBDdej8Cz+OkF0FK7HAys6QaNwPUo3YzVBhetROPXLMkFVj8L1xr8vQdWjcL3RRCtBJVyPQjI4I0EoXI/CJcYiQQjXo3A4CSBBqkfheikvGUEI16NwgvAWQRWuR+E1IBFBZ2ZmZr6lEUHtUbgedzwMQZmZmZlTHQhB9ihcj/RyA0HMzMzMKE8BQWNmZmbhbhdBmJmZmRnyC0E=\",\"dtype\":\"float64\",\"order\":\"little\",\"shape\":[67]}},\"selected\":{\"id\":\"39458\"},\"selection_policy\":{\"id\":\"39475\"}},\"id\":\"39457\",\"type\":\"ColumnDataSource\"},{\"attributes\":{},\"id\":\"39430\",\"type\":\"PanTool\"},{\"attributes\":{\"coordinates\":null,\"data_source\":{\"id\":\"39448\"},\"glyph\":{\"id\":\"39451\"},\"group\":null,\"hover_glyph\":null,\"muted_glyph\":{\"id\":\"39453\"},\"nonselection_glyph\":{\"id\":\"39452\"},\"selection_glyph\":{\"id\":\"39456\"},\"view\":{\"id\":\"39455\"}},\"id\":\"39454\",\"type\":\"GlyphRenderer\"},{\"attributes\":{},\"id\":\"39433\",\"type\":\"ResetTool\"},{\"attributes\":{},\"id\":\"39431\",\"type\":\"WheelZoomTool\"},{\"attributes\":{},\"id\":\"39446\",\"type\":\"BasicTickFormatter\"},{\"attributes\":{\"coordinates\":null,\"group\":null,\"text\":\"1995 aggregate total(blue) vs 2015 aggregate total(green)\",\"text_color\":\"black\",\"text_font_size\":\"12pt\"},\"id\":\"39413\",\"type\":\"Title\"},{\"attributes\":{\"coordinates\":null,\"data_source\":{\"id\":\"39457\"},\"glyph\":{\"id\":\"39460\"},\"group\":null,\"hover_glyph\":null,\"muted_glyph\":{\"id\":\"39462\"},\"nonselection_glyph\":{\"id\":\"39461\"},\"selection_glyph\":{\"id\":\"39465\"},\"view\":{\"id\":\"39464\"}},\"id\":\"39463\",\"type\":\"GlyphRenderer\"},{\"attributes\":{\"source\":{\"id\":\"39448\"}},\"id\":\"39455\",\"type\":\"CDSView\"},{\"attributes\":{\"overlay\":{\"id\":\"39434\"}},\"id\":\"39432\",\"type\":\"BoxZoomTool\"},{\"attributes\":{\"line_alpha\":0.2,\"line_color\":\"#30a2da\",\"line_width\":2,\"x\":{\"field\":\"age\"},\"y\":{\"field\":\"wtsupp\"}},\"id\":\"39453\",\"type\":\"Line\"},{\"attributes\":{},\"id\":\"39447\",\"type\":\"AllLabels\"},{\"attributes\":{\"line_color\":\"#30a2da\",\"line_width\":2,\"x\":{\"field\":\"age\"},\"y\":{\"field\":\"wtsupp\"}},\"id\":\"39456\",\"type\":\"Line\"},{\"attributes\":{},\"id\":\"39426\",\"type\":\"BasicTicker\"},{\"attributes\":{},\"id\":\"39417\",\"type\":\"LinearScale\"},{\"attributes\":{\"line_color\":\"green\",\"line_width\":2,\"x\":{\"field\":\"age\"},\"y\":{\"field\":\"wtsupp\"}},\"id\":\"39465\",\"type\":\"Line\"},{\"attributes\":{\"margin\":[5,5,5,5],\"name\":\"HSpacer88482\",\"sizing_mode\":\"stretch_width\"},\"id\":\"39574\",\"type\":\"Spacer\"},{\"attributes\":{\"line_color\":\"green\",\"line_width\":2,\"x\":{\"field\":\"age\"},\"y\":{\"field\":\"wtsupp\"}},\"id\":\"39460\",\"type\":\"Line\"},{\"attributes\":{\"axis\":{\"id\":\"39421\"},\"coordinates\":null,\"grid_line_color\":null,\"group\":null,\"ticker\":null},\"id\":\"39424\",\"type\":\"Grid\"},{\"attributes\":{},\"id\":\"39443\",\"type\":\"BasicTickFormatter\"},{\"attributes\":{},\"id\":\"39475\",\"type\":\"UnionRenderers\"},{\"attributes\":{},\"id\":\"39473\",\"type\":\"UnionRenderers\"},{\"attributes\":{},\"id\":\"39419\",\"type\":\"LinearScale\"},{\"attributes\":{\"end\":90.0,\"reset_end\":90.0,\"reset_start\":15.0,\"start\":15.0,\"tags\":[[[\"age\",\"age\",null]]]},\"id\":\"39408\",\"type\":\"Range1d\"},{\"attributes\":{\"axis_label\":\"Agg LFPR\",\"coordinates\":null,\"formatter\":{\"id\":\"39446\"},\"group\":null,\"major_label_policy\":{\"id\":\"39447\"},\"ticker\":{\"id\":\"39426\"}},\"id\":\"39425\",\"type\":\"LinearAxis\"},{\"attributes\":{\"data\":{\"age\":[15,16,17,18,19,20,21,22,23,24,25,26,27,28,29,30,31,32,33,34,35,36,37,38,39,40,41,42,43,44,45,46,47,48,49,50,51,52,53,54,55,56,57,58,59,60,61,62,63,64,65,66,67,68,69,70,71,72,73,74,75,76,77,78,79,80,81,82,83,84,85,86,88,89,90],\"wtsupp\":{\"__ndarray__\":\"OwrXoxGSG0H0UbheYogyQf///3/zCjlBDAAAgIEKPkHjo3A9aslBQdujcH2NNUFBIFyPwrSJQkG29Si8vRdEQZ9wPWpi+EVBg8L1CErtSUF961F43wxIQYnrURiYsEdBdhSuR1dLR0FC4XqUkc1JQboehcuEtUhBWI/C9ZcMS0GawvUIJu9LQc96FI6LjkpB08zMTDNgTEFxZmbmji1NQQEpXO/udU1BfxSup77QSkHgUbi+4xJNQc3MzOzfRExBmML1CEn/S0GW61GY27pKQXM9CrdBk0pB1aNwPWceSkF1FK4ncrpIQW49Cnf9FEhBCNej8DI8R0HkehSuMcdHQRVcj0JRcEhBSOF69E9zRkG0HoXr4PJAQQAAAIBDTUFBEq5HgakZQUFnPQq3GSVBQdDMzIyYZz5BkZmZGcYQPEE6CtejpE46QdajcL3ivTlBH4XrkYMJNkHwUbhe2v8zQQAAAEDuCTNBgOtROKH/MUEjhetR5GIuQXE9ClfP/yhBonA9Cos2J0GwR+F6RFslQboehesq6iFBSuF6FPVYHkHMzMzM2rwaQXE9Ctc7hhVBEa5H4a0pEkEK16NwHyEQQSlcj8IDVgxBuB6F6wNuCUFuPQrXwRsHQaRwPQrDNP9AhutRuL5zAEGkcD0KzyD6QMP1KFybYfhAULgehfPm7EBwPQrX7yf1QO5RuB7FH9pAhOtRuL4F2UApXI/CVWPZQD0K16Ow0MdACtejcJ0WykDrUbgeBVq9QOJ6FK4nzMBAhetRuB4hpUAfhetROOyoQNijcD3q89tA\",\"dtype\":\"float64\",\"order\":\"little\",\"shape\":[75]}},\"selected\":{\"id\":\"39449\"},\"selection_policy\":{\"id\":\"39473\"}},\"id\":\"39448\",\"type\":\"ColumnDataSource\"},{\"attributes\":{\"axis_label\":\"age\",\"coordinates\":null,\"formatter\":{\"id\":\"39443\"},\"group\":null,\"major_label_policy\":{\"id\":\"39444\"},\"ticker\":{\"id\":\"39422\"}},\"id\":\"39421\",\"type\":\"LinearAxis\"},{\"attributes\":{},\"id\":\"39444\",\"type\":\"AllLabels\"},{\"attributes\":{},\"id\":\"39449\",\"type\":\"Selection\"},{\"attributes\":{\"children\":[{\"id\":\"39407\"},{\"id\":\"39412\"},{\"id\":\"39574\"}],\"margin\":[0,0,0,0],\"name\":\"Row88477\",\"tags\":[\"embedded\"]},\"id\":\"39406\",\"type\":\"Row\"},{\"attributes\":{\"margin\":[5,5,5,5],\"name\":\"HSpacer88481\",\"sizing_mode\":\"stretch_width\"},\"id\":\"39407\",\"type\":\"Spacer\"},{\"attributes\":{\"line_alpha\":0.1,\"line_color\":\"green\",\"line_width\":2,\"x\":{\"field\":\"age\"},\"y\":{\"field\":\"wtsupp\"}},\"id\":\"39461\",\"type\":\"Line\"},{\"attributes\":{\"below\":[{\"id\":\"39421\"}],\"center\":[{\"id\":\"39424\"},{\"id\":\"39428\"}],\"height\":300,\"left\":[{\"id\":\"39425\"}],\"margin\":[5,5,5,5],\"min_border_bottom\":10,\"min_border_left\":10,\"min_border_right\":10,\"min_border_top\":10,\"renderers\":[{\"id\":\"39454\"},{\"id\":\"39463\"}],\"sizing_mode\":\"fixed\",\"title\":{\"id\":\"39413\"},\"toolbar\":{\"id\":\"39435\"},\"width\":700,\"x_range\":{\"id\":\"39408\"},\"x_scale\":{\"id\":\"39417\"},\"y_range\":{\"id\":\"39409\"},\"y_scale\":{\"id\":\"39419\"}},\"id\":\"39412\",\"subtype\":\"Figure\",\"type\":\"Plot\"},{\"attributes\":{\"axis\":{\"id\":\"39425\"},\"coordinates\":null,\"dimension\":1,\"grid_line_color\":null,\"group\":null,\"ticker\":null},\"id\":\"39428\",\"type\":\"Grid\"},{\"attributes\":{\"line_alpha\":0.2,\"line_color\":\"green\",\"line_width\":2,\"x\":{\"field\":\"age\"},\"y\":{\"field\":\"wtsupp\"}},\"id\":\"39462\",\"type\":\"Line\"},{\"attributes\":{\"line_color\":\"#30a2da\",\"line_width\":2,\"x\":{\"field\":\"age\"},\"y\":{\"field\":\"wtsupp\"}},\"id\":\"39451\",\"type\":\"Line\"}],\"root_ids\":[\"39406\"]},\"title\":\"Bokeh Application\",\"version\":\"2.4.2\"}};\n",
       "    var render_items = [{\"docid\":\"7aef5a28-e880-4ddb-864e-a93874a210ed\",\"root_ids\":[\"39406\"],\"roots\":{\"39406\":\"8a0ab56c-7eee-4ce9-9be3-c36d66ea7356\"}}];\n",
       "    root.Bokeh.embed.embed_items_notebook(docs_json, render_items);\n",
       "  }\n",
       "  if (root.Bokeh !== undefined && root.Bokeh.Panel !== undefined) {\n",
       "    embed_document(root);\n",
       "  } else {\n",
       "    var attempts = 0;\n",
       "    var timer = setInterval(function(root) {\n",
       "      if (root.Bokeh !== undefined && root.Bokeh.Panel !== undefined) {\n",
       "        clearInterval(timer);\n",
       "        embed_document(root);\n",
       "      } else if (document.readyState == \"complete\") {\n",
       "        attempts++;\n",
       "        if (attempts > 200) {\n",
       "          clearInterval(timer);\n",
       "          console.log(\"Bokeh: ERROR: Unable to run BokehJS code because BokehJS library is missing\");\n",
       "        }\n",
       "      }\n",
       "    }, 25, root)\n",
       "  }\n",
       "})(window);</script>"
      ],
      "text/plain": [
       ":Overlay\n",
       "   .Curve.I  :Curve   [age]   (wtsupp)\n",
       "   .Curve.II :Curve   [age]   (wtsupp)"
      ]
     },
     "execution_count": 536,
     "metadata": {
      "application/vnd.holoviews_exec.v0+json": {
       "id": "39406"
      }
     },
     "output_type": "execute_result"
    }
   ],
   "source": [
    "aggregate_total_1995.hvplot(title = '1995 aggregate total(blue) vs 2015 aggregate total(green)', ylabel = 'Agg LFPR') * aggregate_total_2015.hvplot(color = 'green')"
   ]
  },
  {
   "cell_type": "markdown",
   "id": "fb2eb70f-477a-471e-a0ed-d09e345bad71",
   "metadata": {
    "tags": []
   },
   "source": [
    "### 4. Calculate the effect of population aging on the aggregate (full population) LFPR. Specifically, what would the aggregate participation rate of persons aged 15 and over have been in 2015 if the age distribution of the population were the same as it was in 1995?"
   ]
  },
  {
   "cell_type": "code",
   "execution_count": null,
   "id": "4b550f42-5761-42cb-834b-dad223c926d0",
   "metadata": {},
   "outputs": [],
   "source": [
    "#looking at 1995 population vs 2015 population for people over 15"
   ]
  },
  {
   "cell_type": "code",
   "execution_count": 517,
   "id": "83b6a2c9-6fbf-4e96-9cc3-3b167900d773",
   "metadata": {},
   "outputs": [],
   "source": [
    "x2015_total_pop = df.loc[df['year'] == 2015].loc[df['age'] > 14].groupby('age').sum()[['wtsupp']]\n",
    "x1995_total_pop = df.loc[df['year'] == 1995].loc[df['age'] > 14].loc[df['labforce'] > 0].groupby('age').sum()[['wtsupp']]"
   ]
  },
  {
   "cell_type": "code",
   "execution_count": 518,
   "id": "ece65a60-6396-47b6-b53e-c0767d669e92",
   "metadata": {},
   "outputs": [
    {
     "name": "stdout",
     "output_type": "stream",
     "text": [
      " 1995 Total Population Over 15: 201800190.89999995\n",
      " 2015 Total Population Over 15: 255187775.37000006\n"
     ]
    }
   ],
   "source": [
    "print(f\" 1995 Total Population Over 15: {float(x1995_total_pop.sum())}\")\n",
    "print(f\" 2015 Total Population Over 15: {float(x2015_total_pop.sum())}\")"
   ]
  },
  {
   "cell_type": "code",
   "execution_count": null,
   "id": "828aeffc-386b-4d4b-a1f7-f6bf7cb8934e",
   "metadata": {},
   "outputs": [],
   "source": []
  },
  {
   "cell_type": "code",
   "execution_count": 519,
   "id": "4f39300c-3aea-43d1-965c-907a9ae4d9e3",
   "metadata": {},
   "outputs": [],
   "source": [
    "# take 1995 population and multiply it by the particpation rate of 2015 to get 2015 data with 1995 age distribution "
   ]
  },
  {
   "cell_type": "code",
   "execution_count": 520,
   "id": "a0953075-60af-47bb-bc7b-a0e424d25392",
   "metadata": {},
   "outputs": [],
   "source": [
    "x1995_total_pop = df.loc[df['year'] == 1995].loc[df['age'] > 14].loc[df['labforce'] > 0].groupby('age').sum()[['wtsupp']]"
   ]
  },
  {
   "cell_type": "code",
   "execution_count": 521,
   "id": "73fc0b3c-c466-431a-ab8c-8efd57f93558",
   "metadata": {},
   "outputs": [],
   "source": [
    "total_lfpr_2015 = df.loc[df['labforce'] == 2].loc[df['year'] == 2015][['wtsupp']].groupby(df['age']).sum() / df.loc[df['labforce'] > 0].loc[df['year'] == 2015][['wtsupp']].groupby(df['age']).sum()"
   ]
  },
  {
   "cell_type": "code",
   "execution_count": 522,
   "id": "7371f0dd-fdca-47a0-a8fb-b14b537dd730",
   "metadata": {},
   "outputs": [],
   "source": [
    "modified_2015_age_dist = (x1995_total_pop * total_lfpr_2015).dropna().round(2)"
   ]
  },
  {
   "cell_type": "code",
   "execution_count": 531,
   "id": "16bbb230-8186-4753-82f5-697d8ae314c5",
   "metadata": {},
   "outputs": [
    {
     "data": {},
     "metadata": {},
     "output_type": "display_data"
    },
    {
     "data": {
      "application/vnd.holoviews_exec.v0+json": "",
      "text/html": [
       "<div id='38244'>\n",
       "\n",
       "\n",
       "\n",
       "\n",
       "\n",
       "  <div class=\"bk-root\" id=\"fd3bc76c-e9e2-40ed-ad11-4c76099dd9ab\" data-root-id=\"38244\"></div>\n",
       "</div>\n",
       "<script type=\"application/javascript\">(function(root) {\n",
       "  function embed_document(root) {\n",
       "    var docs_json = {\"c036db5f-864a-4f59-b431-9e848e215977\":{\"defs\":[{\"extends\":null,\"module\":null,\"name\":\"ReactiveHTML1\",\"overrides\":[],\"properties\":[]},{\"extends\":null,\"module\":null,\"name\":\"FlexBox1\",\"overrides\":[],\"properties\":[{\"default\":\"flex-start\",\"kind\":null,\"name\":\"align_content\"},{\"default\":\"flex-start\",\"kind\":null,\"name\":\"align_items\"},{\"default\":\"row\",\"kind\":null,\"name\":\"flex_direction\"},{\"default\":\"wrap\",\"kind\":null,\"name\":\"flex_wrap\"},{\"default\":\"flex-start\",\"kind\":null,\"name\":\"justify_content\"}]},{\"extends\":null,\"module\":null,\"name\":\"TemplateActions1\",\"overrides\":[],\"properties\":[{\"default\":0,\"kind\":null,\"name\":\"open_modal\"},{\"default\":0,\"kind\":null,\"name\":\"close_modal\"}]},{\"extends\":null,\"module\":null,\"name\":\"MaterialTemplateActions1\",\"overrides\":[],\"properties\":[{\"default\":0,\"kind\":null,\"name\":\"open_modal\"},{\"default\":0,\"kind\":null,\"name\":\"close_modal\"}]}],\"roots\":{\"references\":[{\"attributes\":{\"source\":{\"id\":\"38309\"}},\"id\":\"38316\",\"type\":\"CDSView\"},{\"attributes\":{},\"id\":\"38286\",\"type\":\"AllLabels\"},{\"attributes\":{},\"id\":\"38325\",\"type\":\"UnionRenderers\"},{\"attributes\":{\"tools\":[{\"id\":\"38248\"},{\"id\":\"38267\"},{\"id\":\"38268\"},{\"id\":\"38269\"},{\"id\":\"38270\"},{\"id\":\"38271\"}]},\"id\":\"38273\",\"type\":\"Toolbar\"},{\"attributes\":{\"fill_alpha\":{\"value\":0.7},\"fill_color\":{\"value\":\"#fc4f30\"},\"hatch_alpha\":{\"value\":0.1},\"hatch_color\":{\"value\":\"#fc4f30\"},\"line_alpha\":{\"value\":0.7},\"line_color\":{\"value\":\"#fc4f30\"},\"size\":{\"value\":5.477225575051661},\"x\":{\"field\":\"age\"},\"y\":{\"field\":\"value\"}},\"id\":\"38313\",\"type\":\"Scatter\"},{\"attributes\":{\"bottom_units\":\"screen\",\"coordinates\":null,\"fill_alpha\":0.5,\"fill_color\":\"lightgrey\",\"group\":null,\"left_units\":\"screen\",\"level\":\"overlay\",\"line_alpha\":1.0,\"line_color\":\"black\",\"line_dash\":[4,4],\"line_width\":2,\"right_units\":\"screen\",\"syncable\":false,\"top_units\":\"screen\"},\"id\":\"38272\",\"type\":\"BoxAnnotation\"},{\"attributes\":{},\"id\":\"38255\",\"type\":\"LinearScale\"},{\"attributes\":{\"angle\":{\"value\":0.0},\"fill_alpha\":{\"value\":0.7},\"fill_color\":{\"value\":\"#30a2da\"},\"hatch_alpha\":{\"value\":0.7},\"hatch_color\":{\"value\":\"#30a2da\"},\"hatch_scale\":{\"value\":12.0},\"hatch_weight\":{\"value\":1.0},\"line_alpha\":{\"value\":0.7},\"line_cap\":{\"value\":\"butt\"},\"line_color\":{\"value\":\"#30a2da\"},\"line_dash\":{\"value\":[]},\"line_dash_offset\":{\"value\":0},\"line_join\":{\"value\":\"bevel\"},\"line_width\":{\"value\":1},\"marker\":{\"value\":\"circle\"},\"size\":{\"value\":5.477225575051661},\"x\":{\"field\":\"age\"},\"y\":{\"field\":\"value\"}},\"id\":\"38308\",\"type\":\"Scatter\"},{\"attributes\":{},\"id\":\"38267\",\"type\":\"SaveTool\"},{\"attributes\":{},\"id\":\"38268\",\"type\":\"PanTool\"},{\"attributes\":{},\"id\":\"38260\",\"type\":\"BasicTicker\"},{\"attributes\":{\"coordinates\":null,\"group\":null,\"text\":\"2015 Aggregate Total VS 2015 Modified Age Distribution\",\"text_color\":\"black\",\"text_font_size\":\"12pt\"},\"id\":\"38251\",\"type\":\"Title\"},{\"attributes\":{\"click_policy\":\"mute\",\"coordinates\":null,\"group\":null,\"items\":[{\"id\":\"38307\"},{\"id\":\"38328\"}],\"location\":[0,0],\"title\":\"Variable\"},\"id\":\"38306\",\"type\":\"Legend\"},{\"attributes\":{\"data\":{\"Variable\":[\"2015_normal_total\",\"2015_normal_total\",\"2015_normal_total\",\"2015_normal_total\",\"2015_normal_total\",\"2015_normal_total\",\"2015_normal_total\",\"2015_normal_total\",\"2015_normal_total\",\"2015_normal_total\",\"2015_normal_total\",\"2015_normal_total\",\"2015_normal_total\",\"2015_normal_total\",\"2015_normal_total\",\"2015_normal_total\",\"2015_normal_total\",\"2015_normal_total\",\"2015_normal_total\",\"2015_normal_total\",\"2015_normal_total\",\"2015_normal_total\",\"2015_normal_total\",\"2015_normal_total\",\"2015_normal_total\",\"2015_normal_total\",\"2015_normal_total\",\"2015_normal_total\",\"2015_normal_total\",\"2015_normal_total\",\"2015_normal_total\",\"2015_normal_total\",\"2015_normal_total\",\"2015_normal_total\",\"2015_normal_total\",\"2015_normal_total\",\"2015_normal_total\",\"2015_normal_total\",\"2015_normal_total\",\"2015_normal_total\",\"2015_normal_total\",\"2015_normal_total\",\"2015_normal_total\",\"2015_normal_total\",\"2015_normal_total\",\"2015_normal_total\",\"2015_normal_total\",\"2015_normal_total\",\"2015_normal_total\",\"2015_normal_total\",\"2015_normal_total\",\"2015_normal_total\",\"2015_normal_total\",\"2015_normal_total\",\"2015_normal_total\",\"2015_normal_total\",\"2015_normal_total\",\"2015_normal_total\",\"2015_normal_total\",\"2015_normal_total\",\"2015_normal_total\",\"2015_normal_total\",\"2015_normal_total\",\"2015_normal_total\",\"2015_normal_total\",\"2015_normal_total\",\"2015_normal_total\"],\"age\":[15,16,17,18,19,20,21,22,23,24,25,26,27,28,29,30,31,32,33,34,35,36,37,38,39,40,41,42,43,44,45,46,47,48,49,50,51,52,53,54,55,56,57,58,59,60,61,62,63,64,65,66,67,68,69,70,71,72,73,74,75,76,77,78,79,80,85],\"value\":{\"__ndarray__\":\"W4/C9YaVDEFmZmbmZiIiQdWjcH17ZTFBtkfhev82OkExXI9CBBc9QSeF65Etd0NBAClcL27YREFF4XrUvnhHQRuuR+GOIUhBamZmBu5CTEFN4Xp0yA1MQWRmZubgCUpBvR6FyxPfSUEAAAAg2IZKQZLC9cjdNEpBw6NwvVDaSkFSCtfDU45JQXtmZqaBIkpB+HoUzpprSUHXo3CdvAJKQe8oXG+jYktBJIXrcTiXR0H/KFwPu6NIQcL1KHzXq0dBUmZmhlbwR0GV61G4DnNIQfb//5803kdBT+F61B08SEGWmZl5Wh1JQQ4AAKDNR0tBANejUO1eSkEbrkchYqpJQTUK18ODqEhBWGZm5no7SUGccD2qGIlIQfR6FE69mUtBmML1KJW2SkHvKFyvYnVJQWZmZmazwklBdT0K9xjtSUGhmZl5gFxJQZxwPWoK7EdBrEfh+sZYSEF7PQrXSy1HQUbhenQIpURBLIXrcVrtQ0GXmZl5vRtDQXg9CrcqDUBBDdej8Cz+OkF0FK7HAys6QaNwPUo3YzVBhetROPXLMkFVj8L1xr8vQdWjcL3RRCtBJVyPQjI4I0EoXI/CJcYiQQjXo3A4CSBBqkfheikvGUEI16NwgvAWQRWuR+E1IBFBZ2ZmZr6lEUHtUbgedzwMQZmZmZlTHQhB9ihcj/RyA0HMzMzMKE8BQWNmZmbhbhdBmJmZmRnyC0E=\",\"dtype\":\"float64\",\"order\":\"little\",\"shape\":[67]}},\"selected\":{\"id\":\"38310\"},\"selection_policy\":{\"id\":\"38325\"}},\"id\":\"38309\",\"type\":\"ColumnDataSource\"},{\"attributes\":{},\"id\":\"38271\",\"type\":\"ResetTool\"},{\"attributes\":{},\"id\":\"38269\",\"type\":\"WheelZoomTool\"},{\"attributes\":{},\"id\":\"38310\",\"type\":\"Selection\"},{\"attributes\":{\"margin\":[5,5,5,5],\"name\":\"HSpacer86076\",\"sizing_mode\":\"stretch_width\"},\"id\":\"38245\",\"type\":\"Spacer\"},{\"attributes\":{\"source\":{\"id\":\"38289\"}},\"id\":\"38296\",\"type\":\"CDSView\"},{\"attributes\":{},\"id\":\"38282\",\"type\":\"BasicTickFormatter\"},{\"attributes\":{\"overlay\":{\"id\":\"38272\"}},\"id\":\"38270\",\"type\":\"BoxZoomTool\"},{\"attributes\":{\"angle\":{\"value\":0.0},\"fill_alpha\":{\"value\":0.7},\"fill_color\":{\"value\":\"#fc4f30\"},\"hatch_alpha\":{\"value\":0.7},\"hatch_color\":{\"value\":\"#fc4f30\"},\"hatch_scale\":{\"value\":12.0},\"hatch_weight\":{\"value\":1.0},\"line_alpha\":{\"value\":0.7},\"line_cap\":{\"value\":\"butt\"},\"line_color\":{\"value\":\"#fc4f30\"},\"line_dash\":{\"value\":[]},\"line_dash_offset\":{\"value\":0},\"line_join\":{\"value\":\"bevel\"},\"line_width\":{\"value\":1},\"marker\":{\"value\":\"circle\"},\"size\":{\"value\":5.477225575051661},\"x\":{\"field\":\"age\"},\"y\":{\"field\":\"value\"}},\"id\":\"38329\",\"type\":\"Scatter\"},{\"attributes\":{\"label\":{\"value\":\"2015_normal_total\"},\"renderers\":[{\"id\":\"38315\"}]},\"id\":\"38328\",\"type\":\"LegendItem\"},{\"attributes\":{},\"id\":\"38264\",\"type\":\"BasicTicker\"},{\"attributes\":{\"fill_alpha\":{\"value\":0.2},\"fill_color\":{\"value\":\"#fc4f30\"},\"hatch_alpha\":{\"value\":0.2},\"hatch_color\":{\"value\":\"#fc4f30\"},\"line_alpha\":{\"value\":0.2},\"line_color\":{\"value\":\"#fc4f30\"},\"size\":{\"value\":5.477225575051661},\"x\":{\"field\":\"age\"},\"y\":{\"field\":\"value\"}},\"id\":\"38314\",\"type\":\"Scatter\"},{\"attributes\":{\"format\":\"%0f\"},\"id\":\"38280\",\"type\":\"PrintfTickFormatter\"},{\"attributes\":{\"axis\":{\"id\":\"38259\"},\"coordinates\":null,\"grid_line_color\":null,\"group\":null,\"ticker\":null},\"id\":\"38262\",\"type\":\"Grid\"},{\"attributes\":{\"data\":{\"Variable\":[\"2015_modified_total\",\"2015_modified_total\",\"2015_modified_total\",\"2015_modified_total\",\"2015_modified_total\",\"2015_modified_total\",\"2015_modified_total\",\"2015_modified_total\",\"2015_modified_total\",\"2015_modified_total\",\"2015_modified_total\",\"2015_modified_total\",\"2015_modified_total\",\"2015_modified_total\",\"2015_modified_total\",\"2015_modified_total\",\"2015_modified_total\",\"2015_modified_total\",\"2015_modified_total\",\"2015_modified_total\",\"2015_modified_total\",\"2015_modified_total\",\"2015_modified_total\",\"2015_modified_total\",\"2015_modified_total\",\"2015_modified_total\",\"2015_modified_total\",\"2015_modified_total\",\"2015_modified_total\",\"2015_modified_total\",\"2015_modified_total\",\"2015_modified_total\",\"2015_modified_total\",\"2015_modified_total\",\"2015_modified_total\",\"2015_modified_total\",\"2015_modified_total\",\"2015_modified_total\",\"2015_modified_total\",\"2015_modified_total\",\"2015_modified_total\",\"2015_modified_total\",\"2015_modified_total\",\"2015_modified_total\",\"2015_modified_total\",\"2015_modified_total\",\"2015_modified_total\",\"2015_modified_total\",\"2015_modified_total\",\"2015_modified_total\",\"2015_modified_total\",\"2015_modified_total\",\"2015_modified_total\",\"2015_modified_total\",\"2015_modified_total\",\"2015_modified_total\",\"2015_modified_total\",\"2015_modified_total\",\"2015_modified_total\",\"2015_modified_total\",\"2015_modified_total\",\"2015_modified_total\",\"2015_modified_total\",\"2015_modified_total\",\"2015_modified_total\",\"2015_modified_total\",\"2015_modified_total\"],\"age\":[15,16,17,18,19,20,21,22,23,24,25,26,27,28,29,30,31,32,33,34,35,36,37,38,39,40,41,42,43,44,45,46,47,48,49,50,51,52,53,54,55,56,57,58,59,60,61,62,63,64,65,66,67,68,69,70,71,72,73,74,75,76,77,78,79,80,85],\"value\":{\"__ndarray__\":\"j8L1KALMCUGkcD0KFIMeQfYoXI/sMi1BpHA9iu6jNUHXo3B9vwA8QaRwPcotjT5BhetReIo7QEFSuB6lZz1CQbgehSsP3ERBKVyPQjmqSEEUrkdhlt9HQQAAAKDY1UZBw/Uo3JIsRkGamZkZjiNIQVyPwlV4nkhBKVyPYu6zSkFmZmamOrBLQQAAAEDMYElBw/Uo3BYUS0GuR+G6hUFMQRSuR2HggUxB7FG4nuPbSUFSuB4F5CVMQfYoXE/5WEtBcT0K94mnS0FxPQp36lFKQbgehQund0lB16NwPfl2SUGuR+Hag0BIQbgehcte3EdBPQrX47eMRkGamZn5+OhGQVK4HuVD/EZBFK5HgUnxRUGuR+G6dVNAQYXrUbictkBBPQrXI9+VQEEfheuRSfdAQR+F6xF9RD5BSOF6FPGPO0EK16PwaRg8QT0K1yOfXDpBcT0KV/LFN0EAAACA9TI1Qa5H4fo23zNBexSux7vSM0GF61H4odgxQYXrUbi+CTFBSOF6FMwNLkEK16NwQoQtQR+F69Hx8SlBUrgehZy/JUHNzMxMA+EhQdejcD1cXR9BhetRuD/mHkEUrkfhMXEaQaRwPQq7exhB9ihcj9JQEkHsUbgewxASQQrXo3DLeQ1Bw/UoXAthC0EUrkfhNKAGQbgehevr4gJBFK5H4aKh+0AUrkfhTtf5QArXo3AVuvBAzczMzIzH1kA=\",\"dtype\":\"float64\",\"order\":\"little\",\"shape\":[67]}},\"selected\":{\"id\":\"38290\"},\"selection_policy\":{\"id\":\"38303\"}},\"id\":\"38289\",\"type\":\"ColumnDataSource\"},{\"attributes\":{\"fill_alpha\":{\"value\":0.2},\"fill_color\":{\"value\":\"#30a2da\"},\"hatch_alpha\":{\"value\":0.2},\"hatch_color\":{\"value\":\"#30a2da\"},\"line_alpha\":{\"value\":0.2},\"line_color\":{\"value\":\"#30a2da\"},\"size\":{\"value\":5.477225575051661},\"x\":{\"field\":\"age\"},\"y\":{\"field\":\"value\"}},\"id\":\"38294\",\"type\":\"Scatter\"},{\"attributes\":{\"end\":87.8,\"reset_end\":87.8,\"reset_start\":12.2,\"start\":12.2,\"tags\":[[[\"age\",\"age\",null]]]},\"id\":\"38246\",\"type\":\"Range1d\"},{\"attributes\":{},\"id\":\"38283\",\"type\":\"AllLabels\"},{\"attributes\":{},\"id\":\"38257\",\"type\":\"LinearScale\"},{\"attributes\":{\"fill_alpha\":{\"value\":0.7},\"fill_color\":{\"value\":\"#fc4f30\"},\"hatch_alpha\":{\"value\":0.7},\"hatch_color\":{\"value\":\"#fc4f30\"},\"line_alpha\":{\"value\":0.7},\"line_color\":{\"value\":\"#fc4f30\"},\"size\":{\"value\":5.477225575051661},\"x\":{\"field\":\"age\"},\"y\":{\"field\":\"value\"}},\"id\":\"38312\",\"type\":\"Scatter\"},{\"attributes\":{},\"id\":\"38303\",\"type\":\"UnionRenderers\"},{\"attributes\":{\"axis_label\":\"\",\"coordinates\":null,\"formatter\":{\"id\":\"38280\"},\"group\":null,\"major_label_policy\":{\"id\":\"38286\"},\"ticker\":{\"id\":\"38264\"}},\"id\":\"38263\",\"type\":\"LinearAxis\"},{\"attributes\":{\"axis_label\":\"age\",\"coordinates\":null,\"formatter\":{\"id\":\"38282\"},\"group\":null,\"major_label_policy\":{\"id\":\"38283\"},\"ticker\":{\"id\":\"38260\"}},\"id\":\"38259\",\"type\":\"LinearAxis\"},{\"attributes\":{\"below\":[{\"id\":\"38259\"}],\"center\":[{\"id\":\"38262\"},{\"id\":\"38266\"}],\"height\":400,\"left\":[{\"id\":\"38263\"}],\"margin\":[5,5,5,5],\"min_border_bottom\":10,\"min_border_left\":10,\"min_border_right\":10,\"min_border_top\":10,\"renderers\":[{\"id\":\"38295\"},{\"id\":\"38315\"}],\"right\":[{\"id\":\"38306\"}],\"sizing_mode\":\"fixed\",\"title\":{\"id\":\"38251\"},\"toolbar\":{\"id\":\"38273\"},\"width\":1000,\"x_range\":{\"id\":\"38246\"},\"x_scale\":{\"id\":\"38255\"},\"y_range\":{\"id\":\"38247\"},\"y_scale\":{\"id\":\"38257\"}},\"id\":\"38250\",\"subtype\":\"Figure\",\"type\":\"Plot\"},{\"attributes\":{\"label\":{\"value\":\"2015_modified_total\"},\"renderers\":[{\"id\":\"38295\"}]},\"id\":\"38307\",\"type\":\"LegendItem\"},{\"attributes\":{\"fill_alpha\":{\"value\":0.7},\"fill_color\":{\"value\":\"#30a2da\"},\"hatch_alpha\":{\"value\":0.7},\"hatch_color\":{\"value\":\"#30a2da\"},\"line_alpha\":{\"value\":0.7},\"line_color\":{\"value\":\"#30a2da\"},\"size\":{\"value\":5.477225575051661},\"x\":{\"field\":\"age\"},\"y\":{\"field\":\"value\"}},\"id\":\"38292\",\"type\":\"Scatter\"},{\"attributes\":{\"margin\":[5,5,5,5],\"name\":\"HSpacer86077\",\"sizing_mode\":\"stretch_width\"},\"id\":\"38429\",\"type\":\"Spacer\"},{\"attributes\":{\"coordinates\":null,\"data_source\":{\"id\":\"38309\"},\"glyph\":{\"id\":\"38312\"},\"group\":null,\"hover_glyph\":null,\"muted_glyph\":{\"id\":\"38314\"},\"nonselection_glyph\":{\"id\":\"38313\"},\"selection_glyph\":{\"id\":\"38329\"},\"view\":{\"id\":\"38316\"}},\"id\":\"38315\",\"type\":\"GlyphRenderer\"},{\"attributes\":{},\"id\":\"38290\",\"type\":\"Selection\"},{\"attributes\":{\"axis\":{\"id\":\"38263\"},\"coordinates\":null,\"dimension\":1,\"grid_line_color\":null,\"group\":null,\"ticker\":null},\"id\":\"38266\",\"type\":\"Grid\"},{\"attributes\":{\"coordinates\":null,\"data_source\":{\"id\":\"38289\"},\"glyph\":{\"id\":\"38292\"},\"group\":null,\"hover_glyph\":null,\"muted_glyph\":{\"id\":\"38294\"},\"nonselection_glyph\":{\"id\":\"38293\"},\"selection_glyph\":{\"id\":\"38308\"},\"view\":{\"id\":\"38296\"}},\"id\":\"38295\",\"type\":\"GlyphRenderer\"},{\"attributes\":{\"callback\":null,\"renderers\":[{\"id\":\"38295\"},{\"id\":\"38315\"}],\"tags\":[\"hv_created\"],\"tooltips\":[[\"Variable\",\"@{Variable}\"],[\"age\",\"@{age}\"],[\"value\",\"@{value}\"]]},\"id\":\"38248\",\"type\":\"HoverTool\"},{\"attributes\":{\"end\":4107831.4159999997,\"reset_end\":4107831.4159999997,\"reset_start\":-347992.45599999995,\"start\":-347992.45599999995,\"tags\":[[[\"value\",\"value\",null]]]},\"id\":\"38247\",\"type\":\"Range1d\"},{\"attributes\":{\"fill_alpha\":{\"value\":0.7},\"fill_color\":{\"value\":\"#30a2da\"},\"hatch_alpha\":{\"value\":0.1},\"hatch_color\":{\"value\":\"#30a2da\"},\"line_alpha\":{\"value\":0.7},\"line_color\":{\"value\":\"#30a2da\"},\"size\":{\"value\":5.477225575051661},\"x\":{\"field\":\"age\"},\"y\":{\"field\":\"value\"}},\"id\":\"38293\",\"type\":\"Scatter\"},{\"attributes\":{\"children\":[{\"id\":\"38245\"},{\"id\":\"38250\"},{\"id\":\"38429\"}],\"margin\":[0,0,0,0],\"name\":\"Row86072\",\"tags\":[\"embedded\"]},\"id\":\"38244\",\"type\":\"Row\"}],\"root_ids\":[\"38244\"]},\"title\":\"Bokeh Application\",\"version\":\"2.4.2\"}};\n",
       "    var render_items = [{\"docid\":\"c036db5f-864a-4f59-b431-9e848e215977\",\"root_ids\":[\"38244\"],\"roots\":{\"38244\":\"fd3bc76c-e9e2-40ed-ad11-4c76099dd9ab\"}}];\n",
       "    root.Bokeh.embed.embed_items_notebook(docs_json, render_items);\n",
       "  }\n",
       "  if (root.Bokeh !== undefined && root.Bokeh.Panel !== undefined) {\n",
       "    embed_document(root);\n",
       "  } else {\n",
       "    var attempts = 0;\n",
       "    var timer = setInterval(function(root) {\n",
       "      if (root.Bokeh !== undefined && root.Bokeh.Panel !== undefined) {\n",
       "        clearInterval(timer);\n",
       "        embed_document(root);\n",
       "      } else if (document.readyState == \"complete\") {\n",
       "        attempts++;\n",
       "        if (attempts > 200) {\n",
       "          clearInterval(timer);\n",
       "          console.log(\"Bokeh: ERROR: Unable to run BokehJS code because BokehJS library is missing\");\n",
       "        }\n",
       "      }\n",
       "    }, 25, root)\n",
       "  }\n",
       "})(window);</script>"
      ],
      "text/plain": [
       ":NdOverlay   [Variable]\n",
       "   :Scatter   [age]   (value)"
      ]
     },
     "execution_count": 531,
     "metadata": {
      "application/vnd.holoviews_exec.v0+json": {
       "id": "38244"
      }
     },
     "output_type": "execute_result"
    }
   ],
   "source": [
    "x2015_normal_modified = pd.DataFrame(modified_2015_age_dist).copy()\n",
    "x2015_normal_modified.rename(columns={'wtsupp': '2015_modified_total'}, inplace=True)\n",
    "x2015_normal_modified['2015_normal_total'] = df.loc[df['year'] == 2015].loc[df['labforce'] == 2][['wtsupp']].groupby(df['age']).sum()\n",
    "x2015_normal_modified.hvplot(alpha = .7,kind = 'scatter', title = '2015 Aggregate Total VS 2015 Modified Age Distribution', width = 1000, height = 400).opts(yformatter='%0f')"
   ]
  },
  {
   "cell_type": "code",
   "execution_count": 537,
   "id": "bbe5499a-03f8-4d4a-a2bd-f371064b6721",
   "metadata": {},
   "outputs": [
    {
     "name": "stdout",
     "output_type": "stream",
     "text": [
      " 2015 Aggregate Total with 1995 Age Distribution: 128430332.90000002\n",
      " 2015 Aggregate Total with Normal Age Distribution: 156721796.85000002\n"
     ]
    }
   ],
   "source": [
    "print(f\" 2015 Aggregate Total with 1995 Age Distribution: {x2015_normal_modified['2015_modified_total'].sum()}\")\n",
    "print(f\" 2015 Aggregate Total with Normal Age Distribution: {x2015_normal_modified['2015_normal_total'].sum()}\")"
   ]
  },
  {
   "cell_type": "code",
   "execution_count": 400,
   "id": "de1caeb0-902d-4349-8cef-c928448729c3",
   "metadata": {},
   "outputs": [],
   "source": [
    "#Creating DF of aggregate age totals "
   ]
  },
  {
   "cell_type": "code",
   "execution_count": 401,
   "id": "1c0919c3-c6ad-4e9d-a14b-a7581d2e3ffc",
   "metadata": {},
   "outputs": [],
   "source": [
    "age_distribution_df = pd.DataFrame(df.loc[df['year'] == 1995].loc[df['labforce'] == 2][['wtsupp']].groupby(df['age']).sum())\n",
    "age_distribution_df.rename(columns={'wtsupp': '1995_total_age'}, inplace=True)\n",
    "age_distribution_df['2015_total_age'] = df.loc[df['year'] == 2015].loc[df['labforce'] == 2][['wtsupp']].groupby(df['age']).sum()\n",
    "age_distribution_df['1995_total_male_age'] = df.loc[df['year'] == 1995].loc[df['labforce'] == 2].loc[df['sex'] == 1][['wtsupp']].groupby(df['age']).sum()\n",
    "age_distribution_df['2015_total_male_age'] = df.loc[df['year'] == 2015].loc[df['labforce'] == 2].loc[df['sex'] == 1][['wtsupp']].groupby(df['age']).sum()\n",
    "age_distribution_df['1995_total_female_age'] = df.loc[df['year'] == 1995].loc[df['labforce'] == 2].loc[df['sex'] == 2][['wtsupp']].groupby(df['age']).sum()\n",
    "age_distribution_df['2015_total_female_age'] = df.loc[df['year'] == 2015].loc[df['labforce'] == 2].loc[df['sex'] == 2][['wtsupp']].groupby(df['age']).sum()"
   ]
  },
  {
   "cell_type": "code",
   "execution_count": 528,
   "id": "28a9919d-5d5f-46e6-9c84-42b7fd585640",
   "metadata": {},
   "outputs": [
    {
     "data": {
      "text/html": [
       "<div>\n",
       "<style scoped>\n",
       "    .dataframe tbody tr th:only-of-type {\n",
       "        vertical-align: middle;\n",
       "    }\n",
       "\n",
       "    .dataframe tbody tr th {\n",
       "        vertical-align: top;\n",
       "    }\n",
       "\n",
       "    .dataframe thead th {\n",
       "        text-align: right;\n",
       "    }\n",
       "</style>\n",
       "<table border=\"1\" class=\"dataframe\">\n",
       "  <thead>\n",
       "    <tr style=\"text-align: right;\">\n",
       "      <th></th>\n",
       "      <th>1995_total_age</th>\n",
       "      <th>2015_total_age</th>\n",
       "      <th>1995_total_male_age</th>\n",
       "      <th>2015_total_male_age</th>\n",
       "      <th>1995_total_female_age</th>\n",
       "      <th>2015_total_female_age</th>\n",
       "    </tr>\n",
       "    <tr>\n",
       "      <th>age</th>\n",
       "      <th></th>\n",
       "      <th></th>\n",
       "      <th></th>\n",
       "      <th></th>\n",
       "      <th></th>\n",
       "      <th></th>\n",
       "    </tr>\n",
       "  </thead>\n",
       "  <tbody>\n",
       "    <tr>\n",
       "      <th>15</th>\n",
       "      <td>451716.41</td>\n",
       "      <td>234160.87</td>\n",
       "      <td>222952.14</td>\n",
       "      <td>130942.97</td>\n",
       "      <td>228764.27</td>\n",
       "      <td>103217.90</td>\n",
       "    </tr>\n",
       "    <tr>\n",
       "      <th>16</th>\n",
       "      <td>1214562.37</td>\n",
       "      <td>594227.45</td>\n",
       "      <td>610156.53</td>\n",
       "      <td>292020.84</td>\n",
       "      <td>604405.84</td>\n",
       "      <td>302206.61</td>\n",
       "    </tr>\n",
       "    <tr>\n",
       "      <th>17</th>\n",
       "      <td>1641203.50</td>\n",
       "      <td>1140091.49</td>\n",
       "      <td>831942.70</td>\n",
       "      <td>560235.50</td>\n",
       "      <td>809260.80</td>\n",
       "      <td>579855.99</td>\n",
       "    </tr>\n",
       "    <tr>\n",
       "      <th>18</th>\n",
       "      <td>1968769.50</td>\n",
       "      <td>1718015.48</td>\n",
       "      <td>996948.43</td>\n",
       "      <td>841291.46</td>\n",
       "      <td>971821.07</td>\n",
       "      <td>876724.02</td>\n",
       "    </tr>\n",
       "    <tr>\n",
       "      <th>19</th>\n",
       "      <td>2331348.48</td>\n",
       "      <td>1906436.26</td>\n",
       "      <td>1207844.38</td>\n",
       "      <td>951598.98</td>\n",
       "      <td>1123504.10</td>\n",
       "      <td>954837.28</td>\n",
       "    </tr>\n",
       "  </tbody>\n",
       "</table>\n",
       "</div>"
      ],
      "text/plain": [
       "     1995_total_age  2015_total_age  1995_total_male_age  2015_total_male_age  \\\n",
       "age                                                                             \n",
       "15        451716.41       234160.87            222952.14            130942.97   \n",
       "16       1214562.37       594227.45            610156.53            292020.84   \n",
       "17       1641203.50      1140091.49            831942.70            560235.50   \n",
       "18       1968769.50      1718015.48            996948.43            841291.46   \n",
       "19       2331348.48      1906436.26           1207844.38            951598.98   \n",
       "\n",
       "     1995_total_female_age  2015_total_female_age  \n",
       "age                                                \n",
       "15               228764.27              103217.90  \n",
       "16               604405.84              302206.61  \n",
       "17               809260.80              579855.99  \n",
       "18               971821.07              876724.02  \n",
       "19              1123504.10              954837.28  "
      ]
     },
     "execution_count": 528,
     "metadata": {},
     "output_type": "execute_result"
    }
   ],
   "source": [
    "age_distribution_df.head()"
   ]
  },
  {
   "cell_type": "code",
   "execution_count": 402,
   "id": "9132e5af-f6f8-4846-8e42-f26004f8f04c",
   "metadata": {},
   "outputs": [],
   "source": [
    "#visualizing age distribution"
   ]
  },
  {
   "cell_type": "code",
   "execution_count": 403,
   "id": "371dcd0f-045c-4f66-8268-fe1448cca239",
   "metadata": {},
   "outputs": [
    {
     "data": {},
     "metadata": {},
     "output_type": "display_data"
    },
    {
     "data": {
      "application/vnd.holoviews_exec.v0+json": "",
      "text/html": [
       "<div id='30670'>\n",
       "\n",
       "\n",
       "\n",
       "\n",
       "\n",
       "  <div class=\"bk-root\" id=\"ef30769b-da19-43e3-96b4-0be10c6ce451\" data-root-id=\"30670\"></div>\n",
       "</div>\n",
       "<script type=\"application/javascript\">(function(root) {\n",
       "  function embed_document(root) {\n",
       "    var docs_json = {\"41cbc32a-0b9b-4aa6-a112-9a4ac63225c6\":{\"defs\":[{\"extends\":null,\"module\":null,\"name\":\"ReactiveHTML1\",\"overrides\":[],\"properties\":[]},{\"extends\":null,\"module\":null,\"name\":\"FlexBox1\",\"overrides\":[],\"properties\":[{\"default\":\"flex-start\",\"kind\":null,\"name\":\"align_content\"},{\"default\":\"flex-start\",\"kind\":null,\"name\":\"align_items\"},{\"default\":\"row\",\"kind\":null,\"name\":\"flex_direction\"},{\"default\":\"wrap\",\"kind\":null,\"name\":\"flex_wrap\"},{\"default\":\"flex-start\",\"kind\":null,\"name\":\"justify_content\"}]},{\"extends\":null,\"module\":null,\"name\":\"TemplateActions1\",\"overrides\":[],\"properties\":[{\"default\":0,\"kind\":null,\"name\":\"open_modal\"},{\"default\":0,\"kind\":null,\"name\":\"close_modal\"}]},{\"extends\":null,\"module\":null,\"name\":\"MaterialTemplateActions1\",\"overrides\":[],\"properties\":[{\"default\":0,\"kind\":null,\"name\":\"open_modal\"},{\"default\":0,\"kind\":null,\"name\":\"close_modal\"}]}],\"roots\":{\"references\":[{\"attributes\":{\"data\":{\"Variable\":[\"1995_total_female_age\",\"1995_total_female_age\",\"1995_total_female_age\",\"1995_total_female_age\",\"1995_total_female_age\",\"1995_total_female_age\",\"1995_total_female_age\",\"1995_total_female_age\",\"1995_total_female_age\",\"1995_total_female_age\",\"1995_total_female_age\",\"1995_total_female_age\",\"1995_total_female_age\",\"1995_total_female_age\",\"1995_total_female_age\",\"1995_total_female_age\",\"1995_total_female_age\",\"1995_total_female_age\",\"1995_total_female_age\",\"1995_total_female_age\",\"1995_total_female_age\",\"1995_total_female_age\",\"1995_total_female_age\",\"1995_total_female_age\",\"1995_total_female_age\",\"1995_total_female_age\",\"1995_total_female_age\",\"1995_total_female_age\",\"1995_total_female_age\",\"1995_total_female_age\",\"1995_total_female_age\",\"1995_total_female_age\",\"1995_total_female_age\",\"1995_total_female_age\",\"1995_total_female_age\",\"1995_total_female_age\",\"1995_total_female_age\",\"1995_total_female_age\",\"1995_total_female_age\",\"1995_total_female_age\",\"1995_total_female_age\",\"1995_total_female_age\",\"1995_total_female_age\",\"1995_total_female_age\",\"1995_total_female_age\",\"1995_total_female_age\",\"1995_total_female_age\",\"1995_total_female_age\",\"1995_total_female_age\",\"1995_total_female_age\",\"1995_total_female_age\",\"1995_total_female_age\",\"1995_total_female_age\",\"1995_total_female_age\",\"1995_total_female_age\",\"1995_total_female_age\",\"1995_total_female_age\",\"1995_total_female_age\",\"1995_total_female_age\",\"1995_total_female_age\",\"1995_total_female_age\",\"1995_total_female_age\",\"1995_total_female_age\",\"1995_total_female_age\",\"1995_total_female_age\",\"1995_total_female_age\",\"1995_total_female_age\",\"1995_total_female_age\",\"1995_total_female_age\",\"1995_total_female_age\",\"1995_total_female_age\",\"1995_total_female_age\",\"1995_total_female_age\",\"1995_total_female_age\",\"1995_total_female_age\"],\"age\":[15,16,17,18,19,20,21,22,23,24,25,26,27,28,29,30,31,32,33,34,35,36,37,38,39,40,41,42,43,44,45,46,47,48,49,50,51,52,53,54,55,56,57,58,59,60,61,62,63,64,65,66,67,68,69,70,71,72,73,74,75,76,77,78,79,80,81,82,83,84,85,86,88,89,90],\"value\":{\"__ndarray__\":\"jsL1KOLsC0HgehSu63EiQZiZmZlZsihBNgrXI1qoLUGXmZkZsCQxQfUoXA8FxS9B4noUbu2ZMEEP16Owc2kzQRauRyHZPjVBOzMzc52hN0H///+/Qpc0QbsehesjvTVBGq5H4cGtNEHXzMyMDPE3QQ7Xo3BJljZBwfUoHN0nOUHfUbgeTZk4QdbMzIz0AzdBG4XrEULOOkGMmZnZY+o6QU3helTIUjpBjetR+BREOEEkheuRlhA7Qcn1KFyvGzpBehSuB+MGO0FP4XqUUkQ4Qe9RuB7LZjlBqXA9SjA+OEHKzMzM5so2QZuZmZlotjdB2qNwvXXaNUFcj8I1zqE2Qd16FG6NWDZBMlyPQu9kNUHPzMyMoiUwQZmZmVnNATBBMTMz86jPMEEvMzMz/8kvQVqPwnWNUixBP+F6FA85KUGL61G41eknQSWF61GVOSdBMVyPwu43JEG9HoVrQnQhQVC4HoWtgCFBpHA9ClYfIEHYo3A9BnobQcL1KFwMZxZB9ihcjxyRFUFcj8L1UAUSQUrhehRcMw5BZ2ZmZtQ1CEHB9Shcw0kIQbkehevJ7gNBaGZmZlp/AUE+CtejNAL7QKRwPQon5/NAhutRuCr+90D1KFyPDuLwQHI9Ctdj7+hAmZmZmXlV6UB5FK5HSRrnQB2F61HQ6+VAw/UoXH+U2UCamZmZIaXgQCpcj8LVpMZAkML1KJxJwkCvR+F6dL/HQFK4HoVrOqhA4noUrkf2ukAzMzMzM7+GQOxRuB6FG5xAAAAAAAAA+H8AAAAAAAD4f2dmZmaGIMJA\",\"dtype\":\"float64\",\"order\":\"little\",\"shape\":[75]}},\"selected\":{\"id\":\"30809\"},\"selection_policy\":{\"id\":\"30830\"}},\"id\":\"30808\",\"type\":\"ColumnDataSource\"},{\"attributes\":{\"click_policy\":\"mute\",\"coordinates\":null,\"group\":null,\"items\":[{\"id\":\"30737\"},{\"id\":\"30758\"},{\"id\":\"30781\"},{\"id\":\"30806\"},{\"id\":\"30833\"},{\"id\":\"30862\"}],\"location\":[0,0],\"title\":\"Variable\"},\"id\":\"30736\",\"type\":\"Legend\"},{\"attributes\":{\"axis\":{\"id\":\"30693\"},\"coordinates\":null,\"dimension\":1,\"grid_line_color\":null,\"group\":null,\"ticker\":null},\"id\":\"30696\",\"type\":\"Grid\"},{\"attributes\":{\"coordinates\":null,\"data_source\":{\"id\":\"30835\"},\"glyph\":{\"id\":\"30838\"},\"group\":null,\"hover_glyph\":null,\"muted_glyph\":{\"id\":\"30840\"},\"nonselection_glyph\":{\"id\":\"30839\"},\"selection_glyph\":{\"id\":\"30863\"},\"view\":{\"id\":\"30842\"}},\"id\":\"30841\",\"type\":\"GlyphRenderer\"},{\"attributes\":{\"source\":{\"id\":\"30719\"}},\"id\":\"30726\",\"type\":\"CDSView\"},{\"attributes\":{\"source\":{\"id\":\"30835\"}},\"id\":\"30842\",\"type\":\"CDSView\"},{\"attributes\":{},\"id\":\"30687\",\"type\":\"LinearScale\"},{\"attributes\":{},\"id\":\"30761\",\"type\":\"Selection\"},{\"attributes\":{\"line_alpha\":0.2,\"line_color\":\"#17becf\",\"line_width\":2,\"x\":{\"field\":\"age\"},\"y\":{\"field\":\"value\"}},\"id\":\"30840\",\"type\":\"Line\"},{\"attributes\":{},\"id\":\"30803\",\"type\":\"UnionRenderers\"},{\"attributes\":{\"line_color\":\"#fc4f30\",\"line_width\":2,\"x\":{\"field\":\"age\"},\"y\":{\"field\":\"value\"}},\"id\":\"30759\",\"type\":\"Line\"},{\"attributes\":{\"axis_label\":\"age\",\"coordinates\":null,\"formatter\":{\"id\":\"30712\"},\"group\":null,\"major_label_policy\":{\"id\":\"30713\"},\"ticker\":{\"id\":\"30690\"}},\"id\":\"30689\",\"type\":\"LinearAxis\"},{\"attributes\":{},\"id\":\"30701\",\"type\":\"ResetTool\"},{\"attributes\":{\"line_color\":\"#fc4f30\",\"line_width\":2,\"x\":{\"field\":\"age\"},\"y\":{\"field\":\"value\"}},\"id\":\"30742\",\"type\":\"Line\"},{\"attributes\":{},\"id\":\"30778\",\"type\":\"UnionRenderers\"},{\"attributes\":{\"label\":{\"value\":\"2015_total_male_age\"},\"renderers\":[{\"id\":\"30789\"}]},\"id\":\"30806\",\"type\":\"LegendItem\"},{\"attributes\":{},\"id\":\"30690\",\"type\":\"BasicTicker\"},{\"attributes\":{\"coordinates\":null,\"data_source\":{\"id\":\"30783\"},\"glyph\":{\"id\":\"30786\"},\"group\":null,\"hover_glyph\":null,\"muted_glyph\":{\"id\":\"30788\"},\"nonselection_glyph\":{\"id\":\"30787\"},\"selection_glyph\":{\"id\":\"30807\"},\"view\":{\"id\":\"30790\"}},\"id\":\"30789\",\"type\":\"GlyphRenderer\"},{\"attributes\":{\"line_alpha\":0.1,\"line_color\":\"#30a2da\",\"line_width\":2,\"x\":{\"field\":\"age\"},\"y\":{\"field\":\"value\"}},\"id\":\"30723\",\"type\":\"Line\"},{\"attributes\":{\"line_color\":\"#17becf\",\"line_width\":2,\"x\":{\"field\":\"age\"},\"y\":{\"field\":\"value\"}},\"id\":\"30863\",\"type\":\"Line\"},{\"attributes\":{\"axis_label\":\"\",\"coordinates\":null,\"formatter\":{\"id\":\"30710\"},\"group\":null,\"major_label_policy\":{\"id\":\"30716\"},\"ticker\":{\"id\":\"30694\"}},\"id\":\"30693\",\"type\":\"LinearAxis\"},{\"attributes\":{\"label\":{\"value\":\"1995_total_female_age\"},\"renderers\":[{\"id\":\"30814\"}]},\"id\":\"30833\",\"type\":\"LegendItem\"},{\"attributes\":{\"margin\":[5,5,5,5],\"name\":\"HSpacer71022\",\"sizing_mode\":\"stretch_width\"},\"id\":\"31035\",\"type\":\"Spacer\"},{\"attributes\":{\"coordinates\":null,\"data_source\":{\"id\":\"30739\"},\"glyph\":{\"id\":\"30742\"},\"group\":null,\"hover_glyph\":null,\"muted_glyph\":{\"id\":\"30744\"},\"nonselection_glyph\":{\"id\":\"30743\"},\"selection_glyph\":{\"id\":\"30759\"},\"view\":{\"id\":\"30746\"}},\"id\":\"30745\",\"type\":\"GlyphRenderer\"},{\"attributes\":{\"end\":90.0,\"reset_end\":90.0,\"reset_start\":15.0,\"start\":15.0,\"tags\":[[[\"age\",\"age\",null]]]},\"id\":\"30672\",\"type\":\"Range1d\"},{\"attributes\":{\"coordinates\":null,\"group\":null,\"text_color\":\"black\",\"text_font_size\":\"12pt\"},\"id\":\"30681\",\"type\":\"Title\"},{\"attributes\":{},\"id\":\"30830\",\"type\":\"UnionRenderers\"},{\"attributes\":{\"label\":{\"value\":\"2015_total_female_age\"},\"renderers\":[{\"id\":\"30841\"}]},\"id\":\"30862\",\"type\":\"LegendItem\"},{\"attributes\":{\"line_alpha\":0.2,\"line_color\":\"#30a2da\",\"line_width\":2,\"x\":{\"field\":\"age\"},\"y\":{\"field\":\"value\"}},\"id\":\"30724\",\"type\":\"Line\"},{\"attributes\":{\"line_color\":\"#30a2da\",\"line_width\":2,\"x\":{\"field\":\"age\"},\"y\":{\"field\":\"value\"}},\"id\":\"30722\",\"type\":\"Line\"},{\"attributes\":{\"source\":{\"id\":\"30808\"}},\"id\":\"30815\",\"type\":\"CDSView\"},{\"attributes\":{},\"id\":\"30694\",\"type\":\"BasicTicker\"},{\"attributes\":{\"line_color\":\"#6d904f\",\"line_width\":2,\"x\":{\"field\":\"age\"},\"y\":{\"field\":\"value\"}},\"id\":\"30807\",\"type\":\"Line\"},{\"attributes\":{\"source\":{\"id\":\"30760\"}},\"id\":\"30767\",\"type\":\"CDSView\"},{\"attributes\":{\"line_color\":\"#8b8b8b\",\"line_width\":2,\"x\":{\"field\":\"age\"},\"y\":{\"field\":\"value\"}},\"id\":\"30811\",\"type\":\"Line\"},{\"attributes\":{\"line_alpha\":0.1,\"line_color\":\"#e5ae38\",\"line_width\":2,\"x\":{\"field\":\"age\"},\"y\":{\"field\":\"value\"}},\"id\":\"30764\",\"type\":\"Line\"},{\"attributes\":{\"margin\":[5,5,5,5],\"name\":\"HSpacer71021\",\"sizing_mode\":\"stretch_width\"},\"id\":\"30671\",\"type\":\"Spacer\"},{\"attributes\":{\"label\":{\"value\":\"2015_total_age\"},\"renderers\":[{\"id\":\"30745\"}]},\"id\":\"30758\",\"type\":\"LegendItem\"},{\"attributes\":{\"line_color\":\"#30a2da\",\"line_width\":2,\"x\":{\"field\":\"age\"},\"y\":{\"field\":\"value\"}},\"id\":\"30738\",\"type\":\"Line\"},{\"attributes\":{},\"id\":\"30720\",\"type\":\"Selection\"},{\"attributes\":{\"line_alpha\":0.2,\"line_color\":\"#fc4f30\",\"line_width\":2,\"x\":{\"field\":\"age\"},\"y\":{\"field\":\"value\"}},\"id\":\"30744\",\"type\":\"Line\"},{\"attributes\":{\"data\":{\"Variable\":[\"1995_total_age\",\"1995_total_age\",\"1995_total_age\",\"1995_total_age\",\"1995_total_age\",\"1995_total_age\",\"1995_total_age\",\"1995_total_age\",\"1995_total_age\",\"1995_total_age\",\"1995_total_age\",\"1995_total_age\",\"1995_total_age\",\"1995_total_age\",\"1995_total_age\",\"1995_total_age\",\"1995_total_age\",\"1995_total_age\",\"1995_total_age\",\"1995_total_age\",\"1995_total_age\",\"1995_total_age\",\"1995_total_age\",\"1995_total_age\",\"1995_total_age\",\"1995_total_age\",\"1995_total_age\",\"1995_total_age\",\"1995_total_age\",\"1995_total_age\",\"1995_total_age\",\"1995_total_age\",\"1995_total_age\",\"1995_total_age\",\"1995_total_age\",\"1995_total_age\",\"1995_total_age\",\"1995_total_age\",\"1995_total_age\",\"1995_total_age\",\"1995_total_age\",\"1995_total_age\",\"1995_total_age\",\"1995_total_age\",\"1995_total_age\",\"1995_total_age\",\"1995_total_age\",\"1995_total_age\",\"1995_total_age\",\"1995_total_age\",\"1995_total_age\",\"1995_total_age\",\"1995_total_age\",\"1995_total_age\",\"1995_total_age\",\"1995_total_age\",\"1995_total_age\",\"1995_total_age\",\"1995_total_age\",\"1995_total_age\",\"1995_total_age\",\"1995_total_age\",\"1995_total_age\",\"1995_total_age\",\"1995_total_age\",\"1995_total_age\",\"1995_total_age\",\"1995_total_age\",\"1995_total_age\",\"1995_total_age\",\"1995_total_age\",\"1995_total_age\",\"1995_total_age\",\"1995_total_age\",\"1995_total_age\"],\"age\":[15,16,17,18,19,20,21,22,23,24,25,26,27,28,29,30,31,32,33,34,35,36,37,38,39,40,41,42,43,44,45,46,47,48,49,50,51,52,53,54,55,56,57,58,59,60,61,62,63,64,65,66,67,68,69,70,71,72,73,74,75,76,77,78,79,80,81,82,83,84,85,86,88,89,90],\"value\":{\"__ndarray__\":\"OwrXoxGSG0H0UbheYogyQf///3/zCjlBDAAAgIEKPkHjo3A9aslBQdujcH2NNUFBIFyPwrSJQkG29Si8vRdEQZ9wPWpi+EVBg8L1CErtSUF961F43wxIQYnrURiYsEdBdhSuR1dLR0FC4XqUkc1JQboehcuEtUhBWI/C9ZcMS0GawvUIJu9LQc96FI6LjkpB08zMTDNgTEFxZmbmji1NQQEpXO/udU1BfxSup77QSkHgUbi+4xJNQc3MzOzfRExBmML1CEn/S0GW61GY27pKQXM9CrdBk0pB1aNwPWceSkF1FK4ncrpIQW49Cnf9FEhBCNej8DI8R0HkehSuMcdHQRVcj0JRcEhBSOF69E9zRkG0HoXr4PJAQQAAAIBDTUFBEq5HgakZQUFnPQq3GSVBQdDMzIyYZz5BkZmZGcYQPEE6CtejpE46QdajcL3ivTlBH4XrkYMJNkHwUbhe2v8zQQAAAEDuCTNBgOtROKH/MUEjhetR5GIuQXE9ClfP/yhBonA9Cos2J0GwR+F6RFslQboehesq6iFBSuF6FPVYHkHMzMzM2rwaQXE9Ctc7hhVBEa5H4a0pEkEK16NwHyEQQSlcj8IDVgxBuB6F6wNuCUFuPQrXwRsHQaRwPQrDNP9AhutRuL5zAEGkcD0KzyD6QMP1KFybYfhAULgehfPm7EBwPQrX7yf1QO5RuB7FH9pAhOtRuL4F2UApXI/CVWPZQD0K16Ow0MdACtejcJ0WykDrUbgeBVq9QOJ6FK4nzMBAhetRuB4hpUAfhetROOyoQNijcD3q89tA\",\"dtype\":\"float64\",\"order\":\"little\",\"shape\":[75]}},\"selected\":{\"id\":\"30720\"},\"selection_policy\":{\"id\":\"30733\"}},\"id\":\"30719\",\"type\":\"ColumnDataSource\"},{\"attributes\":{\"line_alpha\":0.2,\"line_color\":\"#e5ae38\",\"line_width\":2,\"x\":{\"field\":\"age\"},\"y\":{\"field\":\"value\"}},\"id\":\"30765\",\"type\":\"Line\"},{\"attributes\":{},\"id\":\"30713\",\"type\":\"AllLabels\"},{\"attributes\":{},\"id\":\"30859\",\"type\":\"UnionRenderers\"},{\"attributes\":{\"tools\":[{\"id\":\"30674\"},{\"id\":\"30697\"},{\"id\":\"30698\"},{\"id\":\"30699\"},{\"id\":\"30700\"},{\"id\":\"30701\"}]},\"id\":\"30703\",\"type\":\"Toolbar\"},{\"attributes\":{\"source\":{\"id\":\"30783\"}},\"id\":\"30790\",\"type\":\"CDSView\"},{\"attributes\":{\"end\":4247544.067000005,\"reset_end\":4247544.067000005,\"reset_start\":-385346.29700000054,\"start\":-385346.29700000054,\"tags\":[[[\"value\",\"value\",null]]]},\"id\":\"30673\",\"type\":\"Range1d\"},{\"attributes\":{\"label\":{\"value\":\"1995_total_male_age\"},\"renderers\":[{\"id\":\"30766\"}]},\"id\":\"30781\",\"type\":\"LegendItem\"},{\"attributes\":{\"label\":{\"value\":\"1995_total_age\"},\"renderers\":[{\"id\":\"30725\"}]},\"id\":\"30737\",\"type\":\"LegendItem\"},{\"attributes\":{},\"id\":\"30784\",\"type\":\"Selection\"},{\"attributes\":{},\"id\":\"30699\",\"type\":\"WheelZoomTool\"},{\"attributes\":{\"line_color\":\"#e5ae38\",\"line_width\":2,\"x\":{\"field\":\"age\"},\"y\":{\"field\":\"value\"}},\"id\":\"30763\",\"type\":\"Line\"},{\"attributes\":{},\"id\":\"30809\",\"type\":\"Selection\"},{\"attributes\":{\"overlay\":{\"id\":\"30702\"}},\"id\":\"30700\",\"type\":\"BoxZoomTool\"},{\"attributes\":{\"axis\":{\"id\":\"30689\"},\"coordinates\":null,\"grid_line_color\":null,\"group\":null,\"ticker\":null},\"id\":\"30692\",\"type\":\"Grid\"},{\"attributes\":{\"line_alpha\":0.1,\"line_color\":\"#17becf\",\"line_width\":2,\"x\":{\"field\":\"age\"},\"y\":{\"field\":\"value\"}},\"id\":\"30839\",\"type\":\"Line\"},{\"attributes\":{},\"id\":\"30685\",\"type\":\"LinearScale\"},{\"attributes\":{\"line_alpha\":0.2,\"line_color\":\"#8b8b8b\",\"line_width\":2,\"x\":{\"field\":\"age\"},\"y\":{\"field\":\"value\"}},\"id\":\"30813\",\"type\":\"Line\"},{\"attributes\":{\"callback\":null,\"renderers\":[{\"id\":\"30725\"},{\"id\":\"30745\"},{\"id\":\"30766\"},{\"id\":\"30789\"},{\"id\":\"30814\"},{\"id\":\"30841\"}],\"tags\":[\"hv_created\"],\"tooltips\":[[\"Variable\",\"@{Variable}\"],[\"age\",\"@{age}\"],[\"value\",\"@{value}\"]]},\"id\":\"30674\",\"type\":\"HoverTool\"},{\"attributes\":{},\"id\":\"30836\",\"type\":\"Selection\"},{\"attributes\":{\"data\":{\"Variable\":[\"2015_total_female_age\",\"2015_total_female_age\",\"2015_total_female_age\",\"2015_total_female_age\",\"2015_total_female_age\",\"2015_total_female_age\",\"2015_total_female_age\",\"2015_total_female_age\",\"2015_total_female_age\",\"2015_total_female_age\",\"2015_total_female_age\",\"2015_total_female_age\",\"2015_total_female_age\",\"2015_total_female_age\",\"2015_total_female_age\",\"2015_total_female_age\",\"2015_total_female_age\",\"2015_total_female_age\",\"2015_total_female_age\",\"2015_total_female_age\",\"2015_total_female_age\",\"2015_total_female_age\",\"2015_total_female_age\",\"2015_total_female_age\",\"2015_total_female_age\",\"2015_total_female_age\",\"2015_total_female_age\",\"2015_total_female_age\",\"2015_total_female_age\",\"2015_total_female_age\",\"2015_total_female_age\",\"2015_total_female_age\",\"2015_total_female_age\",\"2015_total_female_age\",\"2015_total_female_age\",\"2015_total_female_age\",\"2015_total_female_age\",\"2015_total_female_age\",\"2015_total_female_age\",\"2015_total_female_age\",\"2015_total_female_age\",\"2015_total_female_age\",\"2015_total_female_age\",\"2015_total_female_age\",\"2015_total_female_age\",\"2015_total_female_age\",\"2015_total_female_age\",\"2015_total_female_age\",\"2015_total_female_age\",\"2015_total_female_age\",\"2015_total_female_age\",\"2015_total_female_age\",\"2015_total_female_age\",\"2015_total_female_age\",\"2015_total_female_age\",\"2015_total_female_age\",\"2015_total_female_age\",\"2015_total_female_age\",\"2015_total_female_age\",\"2015_total_female_age\",\"2015_total_female_age\",\"2015_total_female_age\",\"2015_total_female_age\",\"2015_total_female_age\",\"2015_total_female_age\",\"2015_total_female_age\",\"2015_total_female_age\",\"2015_total_female_age\",\"2015_total_female_age\",\"2015_total_female_age\",\"2015_total_female_age\",\"2015_total_female_age\",\"2015_total_female_age\",\"2015_total_female_age\",\"2015_total_female_age\"],\"age\":[15,16,17,18,19,20,21,22,23,24,25,26,27,28,29,30,31,32,33,34,35,36,37,38,39,40,41,42,43,44,45,46,47,48,49,50,51,52,53,54,55,56,57,58,59,60,61,62,63,64,65,66,67,68,69,70,71,72,73,74,75,76,77,78,79,80,81,82,83,84,85,86,88,89,90],\"value\":{\"__ndarray__\":\"Y2ZmZh4z+UAN16Nw+nESQbJH4fofsiFBo3A9CmjBKkHnKFyPqiMtQa9H4fo9gjFBDdejsEfGM0FLCtfjXH42Qb0ehat3LzhB/ihcj+J3O0HqehTuuHY5QZiZmZnHvDhBaz0KF3s1OEHeehQuAgo4QSdcj4KGuDdBlML16K5bN0FyPQrXchI4QYfrUfgerjdB7yhcz6ZrN0GfR+F6G5k3QQkAAMDXCzlB63oULvMKNUE7MzOzQ/c1QcT1KBxk4TVBmZmZGUcVN0HGzMxMOBc2QcfMzMzOVTZBkcL1KHffNkG4HoWrNXI3QYrrUTiFQTpB26NwvTXzOEGcmZmZToU4Qf///3/vlzdBH1yPQjb8N0EjXI/Cd5o2Qe0oXE8uijpBS7gexQgUOUFvPQpXodY3Qc/MzMyleThBBdej8LFMOUEOrkfh9j83QdujcL3MQjhBDa5HYa2pN0GgcD0KlVg1QexRuF7GZDRB2XoUbmVrMkERrkchL0ExQet6FK7TMy9BgBSuRw5MKkGqR+F6GicoQadwPYruiSRBLlyPQmspIkFP4XoULGsfQehRuB5wwxdB9Shcj4v2EEFnZmZmz7wRQR6F61GUrwxBULgehelSBkEzMzMzu4IDQdOjcD0SkvpAjsL1KOq5AEGkcD0Ky7vyQITrUbhOhfZAE65H4R4C8EBxPQrXS87uQC1cj8JFpv1AAAAAAAAA+H8AAAAAAAD4fwAAAAAAAPh/AAAAAAAA+H+QwvUoXDb3QAAAAAAAAPh/AAAAAAAA+H8AAAAAAAD4fwAAAAAAAPh/\",\"dtype\":\"float64\",\"order\":\"little\",\"shape\":[75]}},\"selected\":{\"id\":\"30836\"},\"selection_policy\":{\"id\":\"30859\"}},\"id\":\"30835\",\"type\":\"ColumnDataSource\"},{\"attributes\":{},\"id\":\"30697\",\"type\":\"SaveTool\"},{\"attributes\":{},\"id\":\"30712\",\"type\":\"BasicTickFormatter\"},{\"attributes\":{\"data\":{\"Variable\":[\"1995_total_male_age\",\"1995_total_male_age\",\"1995_total_male_age\",\"1995_total_male_age\",\"1995_total_male_age\",\"1995_total_male_age\",\"1995_total_male_age\",\"1995_total_male_age\",\"1995_total_male_age\",\"1995_total_male_age\",\"1995_total_male_age\",\"1995_total_male_age\",\"1995_total_male_age\",\"1995_total_male_age\",\"1995_total_male_age\",\"1995_total_male_age\",\"1995_total_male_age\",\"1995_total_male_age\",\"1995_total_male_age\",\"1995_total_male_age\",\"1995_total_male_age\",\"1995_total_male_age\",\"1995_total_male_age\",\"1995_total_male_age\",\"1995_total_male_age\",\"1995_total_male_age\",\"1995_total_male_age\",\"1995_total_male_age\",\"1995_total_male_age\",\"1995_total_male_age\",\"1995_total_male_age\",\"1995_total_male_age\",\"1995_total_male_age\",\"1995_total_male_age\",\"1995_total_male_age\",\"1995_total_male_age\",\"1995_total_male_age\",\"1995_total_male_age\",\"1995_total_male_age\",\"1995_total_male_age\",\"1995_total_male_age\",\"1995_total_male_age\",\"1995_total_male_age\",\"1995_total_male_age\",\"1995_total_male_age\",\"1995_total_male_age\",\"1995_total_male_age\",\"1995_total_male_age\",\"1995_total_male_age\",\"1995_total_male_age\",\"1995_total_male_age\",\"1995_total_male_age\",\"1995_total_male_age\",\"1995_total_male_age\",\"1995_total_male_age\",\"1995_total_male_age\",\"1995_total_male_age\",\"1995_total_male_age\",\"1995_total_male_age\",\"1995_total_male_age\",\"1995_total_male_age\",\"1995_total_male_age\",\"1995_total_male_age\",\"1995_total_male_age\",\"1995_total_male_age\",\"1995_total_male_age\",\"1995_total_male_age\",\"1995_total_male_age\",\"1995_total_male_age\",\"1995_total_male_age\",\"1995_total_male_age\",\"1995_total_male_age\",\"1995_total_male_age\",\"1995_total_male_age\",\"1995_total_male_age\"],\"age\":[15,16,17,18,19,20,21,22,23,24,25,26,27,28,29,30,31,32,33,34,35,36,37,38,39,40,41,42,43,44,45,46,47,48,49,50,51,52,53,54,55,56,57,58,59,60,61,62,63,64,65,66,67,68,69,70,71,72,73,74,75,76,77,78,79,80,81,82,83,84,85,86,88,89,90],\"value\":{\"__ndarray__\":\"71G4HkE3C0H2KFwP2Z4iQWhmZmaNYylBvvUo3KhsLkEWrkdhJG4yQTIzM3OYiDJBcj0KF3x5NEGCFK7HB8Y0QSszM7PrsTZB71G4nvY4PEEM16MwfII7QVG4HkUMpDlB6HoUruzoOUHJ9SicFqo7QWhmZibA1DpB+yhcz1LxPEExMzPz/kQ/Qf4oXI8iGT5BexSuhyTyPUEvMzPzuXA/QVK4HsWKTEBBbz0KV2hdPUG3HoXrMBU/QdCjcH0Qbj5BoHA9Cq/3PEHH9SicZDE9QQApXE+4vztBEdejMJ7+O0E6XI+C/ak6QU3helSSczhBOwrXI/CdOEFpZmYmlew4QXA9ChcViDpBZGZmprCBN0GocD1KH8AxQWhmZqa5mDJB9ShcD6pjMUFK4XrUM2UyQR2F69FRPjBB7lG4Hn3oLkH2KFyPc7MsQY7C9SgwQixBFK5HYRjbJ0EahetRcosmQbJH4foukyRBZ2ZmZuzfI0E1MzMz4aUgQRuF61GSmBtBVrgehfnbGEH8////N7EYQc/MzMynuhRBFq5H4Qo+EkHZo3A98i8NQSdcj8KtHQdBxPUoXAHUAkH1KFyPJMECQdajcD1wYgJB6lG4Ht3d+kDsUbgedVX9QOxRuB4RvfJAPgrXo8A89EDNzMzMVCftQGdmZmZm1+pAcT0K17Mc4EBJ4XoUvqrpQK1H4Xq0ms1AexSuR+HBz0CjcD0KNwfLQClcj8IVwsFAMzMzM/M2uUCF61G4HoK6QEjhehRukbpAhetRuB4hpUAfhetROOyoQKNwPQqn49JA\",\"dtype\":\"float64\",\"order\":\"little\",\"shape\":[75]}},\"selected\":{\"id\":\"30761\"},\"selection_policy\":{\"id\":\"30778\"}},\"id\":\"30760\",\"type\":\"ColumnDataSource\"},{\"attributes\":{\"coordinates\":null,\"data_source\":{\"id\":\"30808\"},\"glyph\":{\"id\":\"30811\"},\"group\":null,\"hover_glyph\":null,\"muted_glyph\":{\"id\":\"30813\"},\"nonselection_glyph\":{\"id\":\"30812\"},\"selection_glyph\":{\"id\":\"30834\"},\"view\":{\"id\":\"30815\"}},\"id\":\"30814\",\"type\":\"GlyphRenderer\"},{\"attributes\":{\"line_color\":\"#6d904f\",\"line_width\":2,\"x\":{\"field\":\"age\"},\"y\":{\"field\":\"value\"}},\"id\":\"30786\",\"type\":\"Line\"},{\"attributes\":{},\"id\":\"30740\",\"type\":\"Selection\"},{\"attributes\":{\"bottom_units\":\"screen\",\"coordinates\":null,\"fill_alpha\":0.5,\"fill_color\":\"lightgrey\",\"group\":null,\"left_units\":\"screen\",\"level\":\"overlay\",\"line_alpha\":1.0,\"line_color\":\"black\",\"line_dash\":[4,4],\"line_width\":2,\"right_units\":\"screen\",\"syncable\":false,\"top_units\":\"screen\"},\"id\":\"30702\",\"type\":\"BoxAnnotation\"},{\"attributes\":{\"format\":\"%0f\"},\"id\":\"30710\",\"type\":\"PrintfTickFormatter\"},{\"attributes\":{\"data\":{\"Variable\":[\"2015_total_age\",\"2015_total_age\",\"2015_total_age\",\"2015_total_age\",\"2015_total_age\",\"2015_total_age\",\"2015_total_age\",\"2015_total_age\",\"2015_total_age\",\"2015_total_age\",\"2015_total_age\",\"2015_total_age\",\"2015_total_age\",\"2015_total_age\",\"2015_total_age\",\"2015_total_age\",\"2015_total_age\",\"2015_total_age\",\"2015_total_age\",\"2015_total_age\",\"2015_total_age\",\"2015_total_age\",\"2015_total_age\",\"2015_total_age\",\"2015_total_age\",\"2015_total_age\",\"2015_total_age\",\"2015_total_age\",\"2015_total_age\",\"2015_total_age\",\"2015_total_age\",\"2015_total_age\",\"2015_total_age\",\"2015_total_age\",\"2015_total_age\",\"2015_total_age\",\"2015_total_age\",\"2015_total_age\",\"2015_total_age\",\"2015_total_age\",\"2015_total_age\",\"2015_total_age\",\"2015_total_age\",\"2015_total_age\",\"2015_total_age\",\"2015_total_age\",\"2015_total_age\",\"2015_total_age\",\"2015_total_age\",\"2015_total_age\",\"2015_total_age\",\"2015_total_age\",\"2015_total_age\",\"2015_total_age\",\"2015_total_age\",\"2015_total_age\",\"2015_total_age\",\"2015_total_age\",\"2015_total_age\",\"2015_total_age\",\"2015_total_age\",\"2015_total_age\",\"2015_total_age\",\"2015_total_age\",\"2015_total_age\",\"2015_total_age\",\"2015_total_age\",\"2015_total_age\",\"2015_total_age\",\"2015_total_age\",\"2015_total_age\",\"2015_total_age\",\"2015_total_age\",\"2015_total_age\",\"2015_total_age\"],\"age\":[15,16,17,18,19,20,21,22,23,24,25,26,27,28,29,30,31,32,33,34,35,36,37,38,39,40,41,42,43,44,45,46,47,48,49,50,51,52,53,54,55,56,57,58,59,60,61,62,63,64,65,66,67,68,69,70,71,72,73,74,75,76,77,78,79,80,81,82,83,84,85,86,88,89,90],\"value\":{\"__ndarray__\":\"W4/C9YaVDEFmZmbmZiIiQdWjcH17ZTFBtkfhev82OkExXI9CBBc9QSeF65Etd0NBAClcL27YREFF4XrUvnhHQRuuR+GOIUhBamZmBu5CTEFN4Xp0yA1MQWRmZubgCUpBvR6FyxPfSUEAAAAg2IZKQZLC9cjdNEpBw6NwvVDaSkFSCtfDU45JQXtmZqaBIkpB+HoUzpprSUHXo3CdvAJKQe8oXG+jYktBJIXrcTiXR0H/KFwPu6NIQcL1KHzXq0dBUmZmhlbwR0GV61G4DnNIQfb//5803kdBT+F61B08SEGWmZl5Wh1JQQ4AAKDNR0tBANejUO1eSkEbrkchYqpJQTUK18ODqEhBWGZm5no7SUGccD2qGIlIQfR6FE69mUtBmML1KJW2SkHvKFyvYnVJQWZmZmazwklBdT0K9xjtSUGhmZl5gFxJQZxwPWoK7EdBrEfh+sZYSEF7PQrXSy1HQUbhenQIpURBLIXrcVrtQ0GXmZl5vRtDQXg9CrcqDUBBDdej8Cz+OkF0FK7HAys6QaNwPUo3YzVBhetROPXLMkFVj8L1xr8vQdWjcL3RRCtBJVyPQjI4I0EoXI/CJcYiQQjXo3A4CSBBqkfheikvGUEI16NwgvAWQRWuR+E1IBFBZ2ZmZr6lEUHtUbgedzwMQZmZmZlTHQhB9ihcj/RyA0HMzMzMKE8BQWNmZmbhbhdBAAAAAAAA+H8AAAAAAAD4fwAAAAAAAPh/AAAAAAAA+H+YmZmZGfILQQAAAAAAAPh/AAAAAAAA+H8AAAAAAAD4fwAAAAAAAPh/\",\"dtype\":\"float64\",\"order\":\"little\",\"shape\":[75]}},\"selected\":{\"id\":\"30740\"},\"selection_policy\":{\"id\":\"30755\"}},\"id\":\"30739\",\"type\":\"ColumnDataSource\"},{\"attributes\":{\"line_color\":\"#e5ae38\",\"line_width\":2,\"x\":{\"field\":\"age\"},\"y\":{\"field\":\"value\"}},\"id\":\"30782\",\"type\":\"Line\"},{\"attributes\":{\"coordinates\":null,\"data_source\":{\"id\":\"30760\"},\"glyph\":{\"id\":\"30763\"},\"group\":null,\"hover_glyph\":null,\"muted_glyph\":{\"id\":\"30765\"},\"nonselection_glyph\":{\"id\":\"30764\"},\"selection_glyph\":{\"id\":\"30782\"},\"view\":{\"id\":\"30767\"}},\"id\":\"30766\",\"type\":\"GlyphRenderer\"},{\"attributes\":{\"line_alpha\":0.1,\"line_color\":\"#6d904f\",\"line_width\":2,\"x\":{\"field\":\"age\"},\"y\":{\"field\":\"value\"}},\"id\":\"30787\",\"type\":\"Line\"},{\"attributes\":{\"line_color\":\"#17becf\",\"line_width\":2,\"x\":{\"field\":\"age\"},\"y\":{\"field\":\"value\"}},\"id\":\"30838\",\"type\":\"Line\"},{\"attributes\":{},\"id\":\"30698\",\"type\":\"PanTool\"},{\"attributes\":{\"line_color\":\"#8b8b8b\",\"line_width\":2,\"x\":{\"field\":\"age\"},\"y\":{\"field\":\"value\"}},\"id\":\"30834\",\"type\":\"Line\"},{\"attributes\":{\"source\":{\"id\":\"30739\"}},\"id\":\"30746\",\"type\":\"CDSView\"},{\"attributes\":{},\"id\":\"30755\",\"type\":\"UnionRenderers\"},{\"attributes\":{\"line_alpha\":0.2,\"line_color\":\"#6d904f\",\"line_width\":2,\"x\":{\"field\":\"age\"},\"y\":{\"field\":\"value\"}},\"id\":\"30788\",\"type\":\"Line\"},{\"attributes\":{},\"id\":\"30716\",\"type\":\"AllLabels\"},{\"attributes\":{},\"id\":\"30733\",\"type\":\"UnionRenderers\"},{\"attributes\":{\"below\":[{\"id\":\"30689\"}],\"center\":[{\"id\":\"30692\"},{\"id\":\"30696\"}],\"height\":300,\"left\":[{\"id\":\"30693\"}],\"margin\":[5,5,5,5],\"min_border_bottom\":10,\"min_border_left\":10,\"min_border_right\":10,\"min_border_top\":10,\"renderers\":[{\"id\":\"30725\"},{\"id\":\"30745\"},{\"id\":\"30766\"},{\"id\":\"30789\"},{\"id\":\"30814\"},{\"id\":\"30841\"}],\"right\":[{\"id\":\"30736\"}],\"sizing_mode\":\"fixed\",\"title\":{\"id\":\"30681\"},\"toolbar\":{\"id\":\"30703\"},\"width\":1000,\"x_range\":{\"id\":\"30672\"},\"x_scale\":{\"id\":\"30685\"},\"y_range\":{\"id\":\"30673\"},\"y_scale\":{\"id\":\"30687\"}},\"id\":\"30680\",\"subtype\":\"Figure\",\"type\":\"Plot\"},{\"attributes\":{\"data\":{\"Variable\":[\"2015_total_male_age\",\"2015_total_male_age\",\"2015_total_male_age\",\"2015_total_male_age\",\"2015_total_male_age\",\"2015_total_male_age\",\"2015_total_male_age\",\"2015_total_male_age\",\"2015_total_male_age\",\"2015_total_male_age\",\"2015_total_male_age\",\"2015_total_male_age\",\"2015_total_male_age\",\"2015_total_male_age\",\"2015_total_male_age\",\"2015_total_male_age\",\"2015_total_male_age\",\"2015_total_male_age\",\"2015_total_male_age\",\"2015_total_male_age\",\"2015_total_male_age\",\"2015_total_male_age\",\"2015_total_male_age\",\"2015_total_male_age\",\"2015_total_male_age\",\"2015_total_male_age\",\"2015_total_male_age\",\"2015_total_male_age\",\"2015_total_male_age\",\"2015_total_male_age\",\"2015_total_male_age\",\"2015_total_male_age\",\"2015_total_male_age\",\"2015_total_male_age\",\"2015_total_male_age\",\"2015_total_male_age\",\"2015_total_male_age\",\"2015_total_male_age\",\"2015_total_male_age\",\"2015_total_male_age\",\"2015_total_male_age\",\"2015_total_male_age\",\"2015_total_male_age\",\"2015_total_male_age\",\"2015_total_male_age\",\"2015_total_male_age\",\"2015_total_male_age\",\"2015_total_male_age\",\"2015_total_male_age\",\"2015_total_male_age\",\"2015_total_male_age\",\"2015_total_male_age\",\"2015_total_male_age\",\"2015_total_male_age\",\"2015_total_male_age\",\"2015_total_male_age\",\"2015_total_male_age\",\"2015_total_male_age\",\"2015_total_male_age\",\"2015_total_male_age\",\"2015_total_male_age\",\"2015_total_male_age\",\"2015_total_male_age\",\"2015_total_male_age\",\"2015_total_male_age\",\"2015_total_male_age\",\"2015_total_male_age\",\"2015_total_male_age\",\"2015_total_male_age\",\"2015_total_male_age\",\"2015_total_male_age\",\"2015_total_male_age\",\"2015_total_male_age\",\"2015_total_male_age\",\"2015_total_male_age\"],\"age\":[15,16,17,18,19,20,21,22,23,24,25,26,27,28,29,30,31,32,33,34,35,36,37,38,39,40,41,42,43,44,45,46,47,48,49,50,51,52,53,54,55,56,57,58,59,60,61,62,63,64,65,66,67,68,69,70,71,72,73,74,75,76,77,78,79,80,81,82,83,84,85,86,88,89,90],\"value\":{\"__ndarray__\":\"Ubgehe/3/0DA9Shc09IRQQIAAADXGCFBvB6F65asKUFbj8L1XQotQZDC9SgdbDVB5XoUrpTqNUFQuB7FIHM4QXA9ChemEzhB4KNwffkNPUGwR+H616Q+QTYzMzP6VjtBAgAAgKyIO0EYhesRrgM9QQUpXA81sTxBKYXrkfJYPkEI16OwNAo7QTzhelTkljxBw8zMzI5rO0H1//+/XWw8Qe5RuB5vuT1Bao/CtX0jOkG4HoVrMlA7QcT1KNxKdjlBJzMz82XLOEE/Ctcj5c46QTYzM3OaZjlBAQAAgMSYOUF6FK5Hf8g6QXoUrgcWTjxBNwrX46TKO0GYwvWodc86QX8UrgcYuTlBsnA9ir96OkEgheuRuXc6QcXMzExMqTxBzczMjCFZPEF2FK4HJBQ7QQEAAADBCztB06Nw/X+NOkEVhesRCnk7QXg9ChdIlTdBPuF6lOAHOUE4CtejAgI5QaFwPYpK5TRBV4/CdU9vNUEShevRS/Y0QXE9CpdrgDBBm5mZmUuwK0FQ4XoU7S4sQaRwPQqAPCZB43oULn9uI0G6HoXrMAogQcj1KFwzxh5BW4/C9dh5FUHtUbgefM8TQYfrUbimuhFBCtejcGkLDEHfehSuSV4KQUAK16Ni9wRBPQrXo5KRAkGamZmZkd4CQaxH4XpYtflA2aNwPcrj9kDiehSuKzfzQFuPwvVPBRBBAAAAAAAA+H8AAAAAAAD4fwAAAAAAAPh/AAAAAAAA+H9SuB6F61YAQQAAAAAAAPh/AAAAAAAA+H8AAAAAAAD4fwAAAAAAAPh/\",\"dtype\":\"float64\",\"order\":\"little\",\"shape\":[75]}},\"selected\":{\"id\":\"30784\"},\"selection_policy\":{\"id\":\"30803\"}},\"id\":\"30783\",\"type\":\"ColumnDataSource\"},{\"attributes\":{\"line_alpha\":0.1,\"line_color\":\"#8b8b8b\",\"line_width\":2,\"x\":{\"field\":\"age\"},\"y\":{\"field\":\"value\"}},\"id\":\"30812\",\"type\":\"Line\"},{\"attributes\":{\"coordinates\":null,\"data_source\":{\"id\":\"30719\"},\"glyph\":{\"id\":\"30722\"},\"group\":null,\"hover_glyph\":null,\"muted_glyph\":{\"id\":\"30724\"},\"nonselection_glyph\":{\"id\":\"30723\"},\"selection_glyph\":{\"id\":\"30738\"},\"view\":{\"id\":\"30726\"}},\"id\":\"30725\",\"type\":\"GlyphRenderer\"},{\"attributes\":{\"children\":[{\"id\":\"30671\"},{\"id\":\"30680\"},{\"id\":\"31035\"}],\"margin\":[0,0,0,0],\"name\":\"Row71017\",\"tags\":[\"embedded\"]},\"id\":\"30670\",\"type\":\"Row\"},{\"attributes\":{\"line_alpha\":0.1,\"line_color\":\"#fc4f30\",\"line_width\":2,\"x\":{\"field\":\"age\"},\"y\":{\"field\":\"value\"}},\"id\":\"30743\",\"type\":\"Line\"}],\"root_ids\":[\"30670\"]},\"title\":\"Bokeh Application\",\"version\":\"2.4.2\"}};\n",
       "    var render_items = [{\"docid\":\"41cbc32a-0b9b-4aa6-a112-9a4ac63225c6\",\"root_ids\":[\"30670\"],\"roots\":{\"30670\":\"ef30769b-da19-43e3-96b4-0be10c6ce451\"}}];\n",
       "    root.Bokeh.embed.embed_items_notebook(docs_json, render_items);\n",
       "  }\n",
       "  if (root.Bokeh !== undefined && root.Bokeh.Panel !== undefined) {\n",
       "    embed_document(root);\n",
       "  } else {\n",
       "    var attempts = 0;\n",
       "    var timer = setInterval(function(root) {\n",
       "      if (root.Bokeh !== undefined && root.Bokeh.Panel !== undefined) {\n",
       "        clearInterval(timer);\n",
       "        embed_document(root);\n",
       "      } else if (document.readyState == \"complete\") {\n",
       "        attempts++;\n",
       "        if (attempts > 200) {\n",
       "          clearInterval(timer);\n",
       "          console.log(\"Bokeh: ERROR: Unable to run BokehJS code because BokehJS library is missing\");\n",
       "        }\n",
       "      }\n",
       "    }, 25, root)\n",
       "  }\n",
       "})(window);</script>"
      ],
      "text/plain": [
       ":NdOverlay   [Variable]\n",
       "   :Curve   [age]   (value)"
      ]
     },
     "execution_count": 403,
     "metadata": {
      "application/vnd.holoviews_exec.v0+json": {
       "id": "30670"
      }
     },
     "output_type": "execute_result"
    }
   ],
   "source": [
    "age_distribution_df.hvplot(width = 1000).opts(yformatter='%0f')"
   ]
  },
  {
   "cell_type": "code",
   "execution_count": 404,
   "id": "fe67577d-4c97-49eb-8ba0-fbb15f4bbc1c",
   "metadata": {},
   "outputs": [
    {
     "data": {},
     "metadata": {},
     "output_type": "display_data"
    },
    {
     "data": {
      "application/vnd.holoviews_exec.v0+json": "",
      "text/html": [
       "<div id='31132'>\n",
       "\n",
       "\n",
       "\n",
       "\n",
       "\n",
       "  <div class=\"bk-root\" id=\"9aa7624e-b3c0-4c3c-8481-a8ede311957e\" data-root-id=\"31132\"></div>\n",
       "</div>\n",
       "<script type=\"application/javascript\">(function(root) {\n",
       "  function embed_document(root) {\n",
       "    var docs_json = {\"6867f2ae-9179-48bb-a463-d3d56b514f7a\":{\"defs\":[{\"extends\":null,\"module\":null,\"name\":\"ReactiveHTML1\",\"overrides\":[],\"properties\":[]},{\"extends\":null,\"module\":null,\"name\":\"FlexBox1\",\"overrides\":[],\"properties\":[{\"default\":\"flex-start\",\"kind\":null,\"name\":\"align_content\"},{\"default\":\"flex-start\",\"kind\":null,\"name\":\"align_items\"},{\"default\":\"row\",\"kind\":null,\"name\":\"flex_direction\"},{\"default\":\"wrap\",\"kind\":null,\"name\":\"flex_wrap\"},{\"default\":\"flex-start\",\"kind\":null,\"name\":\"justify_content\"}]},{\"extends\":null,\"module\":null,\"name\":\"TemplateActions1\",\"overrides\":[],\"properties\":[{\"default\":0,\"kind\":null,\"name\":\"open_modal\"},{\"default\":0,\"kind\":null,\"name\":\"close_modal\"}]},{\"extends\":null,\"module\":null,\"name\":\"MaterialTemplateActions1\",\"overrides\":[],\"properties\":[{\"default\":0,\"kind\":null,\"name\":\"open_modal\"},{\"default\":0,\"kind\":null,\"name\":\"close_modal\"}]}],\"roots\":{\"references\":[{\"attributes\":{\"axis\":{\"id\":\"31146\"},\"coordinates\":null,\"grid_line_color\":null,\"group\":null,\"ticker\":null},\"id\":\"31148\",\"type\":\"Grid\"},{\"attributes\":{\"margin\":[5,5,5,5],\"name\":\"HSpacer71999\",\"sizing_mode\":\"stretch_width\"},\"id\":\"31133\",\"type\":\"Spacer\"},{\"attributes\":{\"children\":[{\"id\":\"31133\"},{\"id\":\"31137\"},{\"id\":\"31203\"}],\"margin\":[0,0,0,0],\"name\":\"Row71995\",\"tags\":[\"embedded\"]},\"id\":\"31132\",\"type\":\"Row\"},{\"attributes\":{},\"id\":\"31155\",\"type\":\"WheelZoomTool\"},{\"attributes\":{},\"id\":\"31154\",\"type\":\"PanTool\"},{\"attributes\":{},\"id\":\"31178\",\"type\":\"CategoricalTickFormatter\"},{\"attributes\":{\"bottom\":{\"value\":0},\"fill_alpha\":{\"value\":1.0},\"fill_color\":{\"field\":\"Variable\",\"transform\":{\"id\":\"31166\"}},\"hatch_alpha\":{\"value\":1.0},\"hatch_color\":{\"field\":\"Variable\",\"transform\":{\"id\":\"31166\"}},\"hatch_scale\":{\"value\":12.0},\"hatch_weight\":{\"value\":1.0},\"line_alpha\":{\"value\":1.0},\"line_cap\":{\"value\":\"butt\"},\"line_color\":{\"value\":\"black\"},\"line_dash\":{\"value\":[]},\"line_dash_offset\":{\"value\":0},\"line_join\":{\"value\":\"bevel\"},\"line_width\":{\"value\":1},\"top\":{\"field\":\"value\"},\"width\":{\"value\":0.8},\"x\":{\"field\":\"xoffsets\"}},\"id\":\"31175\",\"type\":\"VBar\"},{\"attributes\":{\"below\":[{\"id\":\"31146\"}],\"center\":[{\"id\":\"31148\"},{\"id\":\"31152\"}],\"height\":300,\"left\":[{\"id\":\"31149\"}],\"margin\":[5,5,5,5],\"min_border_bottom\":10,\"min_border_left\":10,\"min_border_right\":10,\"min_border_top\":10,\"renderers\":[{\"id\":\"31173\"}],\"sizing_mode\":\"fixed\",\"title\":{\"id\":\"31138\"},\"toolbar\":{\"id\":\"31159\"},\"width\":1800,\"x_range\":{\"id\":\"31134\"},\"x_scale\":{\"id\":\"31142\"},\"y_range\":{\"id\":\"31135\"},\"y_scale\":{\"id\":\"31144\"}},\"id\":\"31137\",\"subtype\":\"Figure\",\"type\":\"Plot\"},{\"attributes\":{\"fill_alpha\":{\"value\":0.2},\"fill_color\":{\"field\":\"Variable\",\"transform\":{\"id\":\"31166\"}},\"hatch_alpha\":{\"value\":0.2},\"hatch_color\":{\"field\":\"Variable\",\"transform\":{\"id\":\"31166\"}},\"line_alpha\":{\"value\":0.2},\"top\":{\"field\":\"value\"},\"width\":{\"value\":0.8},\"x\":{\"field\":\"xoffsets\"}},\"id\":\"31172\",\"type\":\"VBar\"},{\"attributes\":{},\"id\":\"31191\",\"type\":\"UnionRenderers\"},{\"attributes\":{\"source\":{\"id\":\"31167\"}},\"id\":\"31174\",\"type\":\"CDSView\"},{\"attributes\":{},\"id\":\"31150\",\"type\":\"BasicTicker\"},{\"attributes\":{\"margin\":[5,5,5,5],\"name\":\"HSpacer72000\",\"sizing_mode\":\"stretch_width\"},\"id\":\"31203\",\"type\":\"Spacer\"},{\"attributes\":{\"format\":\"%0f\"},\"id\":\"31176\",\"type\":\"PrintfTickFormatter\"},{\"attributes\":{\"axis\":{\"id\":\"31149\"},\"coordinates\":null,\"dimension\":1,\"grid_line_color\":null,\"group\":null,\"ticker\":null},\"id\":\"31152\",\"type\":\"Grid\"},{\"attributes\":{\"fill_color\":{\"field\":\"Variable\",\"transform\":{\"id\":\"31166\"}},\"hatch_color\":{\"field\":\"Variable\",\"transform\":{\"id\":\"31166\"}},\"top\":{\"field\":\"value\"},\"width\":{\"value\":0.8},\"x\":{\"field\":\"xoffsets\"}},\"id\":\"31170\",\"type\":\"VBar\"},{\"attributes\":{},\"id\":\"31147\",\"type\":\"CategoricalTicker\"},{\"attributes\":{\"end\":4234834.838000006,\"reset_end\":4234834.838000006,\"reset_start\":0.0,\"tags\":[[[\"value\",\"value\",null]]]},\"id\":\"31135\",\"type\":\"Range1d\"},{\"attributes\":{},\"id\":\"31157\",\"type\":\"ResetTool\"},{\"attributes\":{\"coordinates\":null,\"data_source\":{\"id\":\"31167\"},\"glyph\":{\"id\":\"31170\"},\"group\":null,\"hover_glyph\":null,\"muted_glyph\":{\"id\":\"31172\"},\"nonselection_glyph\":{\"id\":\"31171\"},\"selection_glyph\":{\"id\":\"31175\"},\"view\":{\"id\":\"31174\"}},\"id\":\"31173\",\"type\":\"GlyphRenderer\"},{\"attributes\":{\"tools\":[{\"id\":\"31136\"},{\"id\":\"31153\"},{\"id\":\"31154\"},{\"id\":\"31155\"},{\"id\":\"31156\"},{\"id\":\"31157\"}]},\"id\":\"31159\",\"type\":\"Toolbar\"},{\"attributes\":{\"axis_label\":\"\",\"coordinates\":null,\"formatter\":{\"id\":\"31176\"},\"group\":null,\"major_label_policy\":{\"id\":\"31182\"},\"ticker\":{\"id\":\"31150\"}},\"id\":\"31149\",\"type\":\"LinearAxis\"},{\"attributes\":{\"fill_alpha\":{\"value\":0.1},\"fill_color\":{\"field\":\"Variable\",\"transform\":{\"id\":\"31166\"}},\"hatch_alpha\":{\"value\":0.1},\"hatch_color\":{\"field\":\"Variable\",\"transform\":{\"id\":\"31166\"}},\"line_alpha\":{\"value\":0.1},\"top\":{\"field\":\"value\"},\"width\":{\"value\":0.8},\"x\":{\"field\":\"xoffsets\"}},\"id\":\"31171\",\"type\":\"VBar\"},{\"attributes\":{},\"id\":\"31144\",\"type\":\"LinearScale\"},{\"attributes\":{\"factors\":[[\"15\",\"1995_total_age\"],[\"15\",\"2015_total_age\"],[\"16\",\"1995_total_age\"],[\"16\",\"2015_total_age\"],[\"17\",\"1995_total_age\"],[\"17\",\"2015_total_age\"],[\"18\",\"1995_total_age\"],[\"18\",\"2015_total_age\"],[\"19\",\"1995_total_age\"],[\"19\",\"2015_total_age\"],[\"20\",\"1995_total_age\"],[\"20\",\"2015_total_age\"],[\"21\",\"1995_total_age\"],[\"21\",\"2015_total_age\"],[\"22\",\"1995_total_age\"],[\"22\",\"2015_total_age\"],[\"23\",\"1995_total_age\"],[\"23\",\"2015_total_age\"],[\"24\",\"1995_total_age\"],[\"24\",\"2015_total_age\"],[\"25\",\"1995_total_age\"],[\"25\",\"2015_total_age\"],[\"26\",\"1995_total_age\"],[\"26\",\"2015_total_age\"],[\"27\",\"1995_total_age\"],[\"27\",\"2015_total_age\"],[\"28\",\"1995_total_age\"],[\"28\",\"2015_total_age\"],[\"29\",\"1995_total_age\"],[\"29\",\"2015_total_age\"],[\"30\",\"1995_total_age\"],[\"30\",\"2015_total_age\"],[\"31\",\"1995_total_age\"],[\"31\",\"2015_total_age\"],[\"32\",\"1995_total_age\"],[\"32\",\"2015_total_age\"],[\"33\",\"1995_total_age\"],[\"33\",\"2015_total_age\"],[\"34\",\"1995_total_age\"],[\"34\",\"2015_total_age\"],[\"35\",\"1995_total_age\"],[\"35\",\"2015_total_age\"],[\"36\",\"1995_total_age\"],[\"36\",\"2015_total_age\"],[\"37\",\"1995_total_age\"],[\"37\",\"2015_total_age\"],[\"38\",\"1995_total_age\"],[\"38\",\"2015_total_age\"],[\"39\",\"1995_total_age\"],[\"39\",\"2015_total_age\"],[\"40\",\"1995_total_age\"],[\"40\",\"2015_total_age\"],[\"41\",\"1995_total_age\"],[\"41\",\"2015_total_age\"],[\"42\",\"1995_total_age\"],[\"42\",\"2015_total_age\"],[\"43\",\"1995_total_age\"],[\"43\",\"2015_total_age\"],[\"44\",\"1995_total_age\"],[\"44\",\"2015_total_age\"],[\"45\",\"1995_total_age\"],[\"45\",\"2015_total_age\"],[\"46\",\"1995_total_age\"],[\"46\",\"2015_total_age\"],[\"47\",\"1995_total_age\"],[\"47\",\"2015_total_age\"],[\"48\",\"1995_total_age\"],[\"48\",\"2015_total_age\"],[\"49\",\"1995_total_age\"],[\"49\",\"2015_total_age\"],[\"50\",\"1995_total_age\"],[\"50\",\"2015_total_age\"],[\"51\",\"1995_total_age\"],[\"51\",\"2015_total_age\"],[\"52\",\"1995_total_age\"],[\"52\",\"2015_total_age\"],[\"53\",\"1995_total_age\"],[\"53\",\"2015_total_age\"],[\"54\",\"1995_total_age\"],[\"54\",\"2015_total_age\"],[\"55\",\"1995_total_age\"],[\"55\",\"2015_total_age\"],[\"56\",\"1995_total_age\"],[\"56\",\"2015_total_age\"],[\"57\",\"1995_total_age\"],[\"57\",\"2015_total_age\"],[\"58\",\"1995_total_age\"],[\"58\",\"2015_total_age\"],[\"59\",\"1995_total_age\"],[\"59\",\"2015_total_age\"],[\"60\",\"1995_total_age\"],[\"60\",\"2015_total_age\"],[\"61\",\"1995_total_age\"],[\"61\",\"2015_total_age\"],[\"62\",\"1995_total_age\"],[\"62\",\"2015_total_age\"],[\"63\",\"1995_total_age\"],[\"63\",\"2015_total_age\"],[\"64\",\"1995_total_age\"],[\"64\",\"2015_total_age\"],[\"65\",\"1995_total_age\"],[\"65\",\"2015_total_age\"],[\"66\",\"1995_total_age\"],[\"66\",\"2015_total_age\"],[\"67\",\"1995_total_age\"],[\"67\",\"2015_total_age\"],[\"68\",\"1995_total_age\"],[\"68\",\"2015_total_age\"],[\"69\",\"1995_total_age\"],[\"69\",\"2015_total_age\"],[\"70\",\"1995_total_age\"],[\"70\",\"2015_total_age\"],[\"71\",\"1995_total_age\"],[\"71\",\"2015_total_age\"],[\"72\",\"1995_total_age\"],[\"72\",\"2015_total_age\"],[\"73\",\"1995_total_age\"],[\"73\",\"2015_total_age\"],[\"74\",\"1995_total_age\"],[\"74\",\"2015_total_age\"]],\"tags\":[[[\"age\",\"age\",null],[\"Variable\",\"Variable\",null]]]},\"id\":\"31134\",\"type\":\"FactorRange\"},{\"attributes\":{},\"id\":\"31142\",\"type\":\"CategoricalScale\"},{\"attributes\":{},\"id\":\"31182\",\"type\":\"AllLabels\"},{\"attributes\":{\"factors\":[\"1995_total_age\",\"2015_total_age\"],\"palette\":[\"#30a2da\",\"#fc4f30\"]},\"id\":\"31166\",\"type\":\"CategoricalColorMapper\"},{\"attributes\":{\"axis_label\":\"age, Variable\",\"coordinates\":null,\"formatter\":{\"id\":\"31178\"},\"group\":null,\"major_label_orientation\":1.5707963267948966,\"major_label_policy\":{\"id\":\"31179\"},\"ticker\":{\"id\":\"31147\"}},\"id\":\"31146\",\"type\":\"CategoricalAxis\"},{\"attributes\":{\"data\":{\"Variable\":[\"1995_total_age\",\"1995_total_age\",\"1995_total_age\",\"1995_total_age\",\"1995_total_age\",\"1995_total_age\",\"1995_total_age\",\"1995_total_age\",\"1995_total_age\",\"1995_total_age\",\"1995_total_age\",\"1995_total_age\",\"1995_total_age\",\"1995_total_age\",\"1995_total_age\",\"1995_total_age\",\"1995_total_age\",\"1995_total_age\",\"1995_total_age\",\"1995_total_age\",\"1995_total_age\",\"1995_total_age\",\"1995_total_age\",\"1995_total_age\",\"1995_total_age\",\"1995_total_age\",\"1995_total_age\",\"1995_total_age\",\"1995_total_age\",\"1995_total_age\",\"1995_total_age\",\"1995_total_age\",\"1995_total_age\",\"1995_total_age\",\"1995_total_age\",\"1995_total_age\",\"1995_total_age\",\"1995_total_age\",\"1995_total_age\",\"1995_total_age\",\"1995_total_age\",\"1995_total_age\",\"1995_total_age\",\"1995_total_age\",\"1995_total_age\",\"1995_total_age\",\"1995_total_age\",\"1995_total_age\",\"1995_total_age\",\"1995_total_age\",\"1995_total_age\",\"1995_total_age\",\"1995_total_age\",\"1995_total_age\",\"1995_total_age\",\"1995_total_age\",\"1995_total_age\",\"1995_total_age\",\"1995_total_age\",\"1995_total_age\",\"2015_total_age\",\"2015_total_age\",\"2015_total_age\",\"2015_total_age\",\"2015_total_age\",\"2015_total_age\",\"2015_total_age\",\"2015_total_age\",\"2015_total_age\",\"2015_total_age\",\"2015_total_age\",\"2015_total_age\",\"2015_total_age\",\"2015_total_age\",\"2015_total_age\",\"2015_total_age\",\"2015_total_age\",\"2015_total_age\",\"2015_total_age\",\"2015_total_age\",\"2015_total_age\",\"2015_total_age\",\"2015_total_age\",\"2015_total_age\",\"2015_total_age\",\"2015_total_age\",\"2015_total_age\",\"2015_total_age\",\"2015_total_age\",\"2015_total_age\",\"2015_total_age\",\"2015_total_age\",\"2015_total_age\",\"2015_total_age\",\"2015_total_age\",\"2015_total_age\",\"2015_total_age\",\"2015_total_age\",\"2015_total_age\",\"2015_total_age\",\"2015_total_age\",\"2015_total_age\",\"2015_total_age\",\"2015_total_age\",\"2015_total_age\",\"2015_total_age\",\"2015_total_age\",\"2015_total_age\",\"2015_total_age\",\"2015_total_age\",\"2015_total_age\",\"2015_total_age\",\"2015_total_age\",\"2015_total_age\",\"2015_total_age\",\"2015_total_age\",\"2015_total_age\",\"2015_total_age\",\"2015_total_age\",\"2015_total_age\"],\"age\":[\"15\",\"16\",\"17\",\"18\",\"19\",\"20\",\"21\",\"22\",\"23\",\"24\",\"25\",\"26\",\"27\",\"28\",\"29\",\"30\",\"31\",\"32\",\"33\",\"34\",\"35\",\"36\",\"37\",\"38\",\"39\",\"40\",\"41\",\"42\",\"43\",\"44\",\"45\",\"46\",\"47\",\"48\",\"49\",\"50\",\"51\",\"52\",\"53\",\"54\",\"55\",\"56\",\"57\",\"58\",\"59\",\"60\",\"61\",\"62\",\"63\",\"64\",\"65\",\"66\",\"67\",\"68\",\"69\",\"70\",\"71\",\"72\",\"73\",\"74\",\"15\",\"16\",\"17\",\"18\",\"19\",\"20\",\"21\",\"22\",\"23\",\"24\",\"25\",\"26\",\"27\",\"28\",\"29\",\"30\",\"31\",\"32\",\"33\",\"34\",\"35\",\"36\",\"37\",\"38\",\"39\",\"40\",\"41\",\"42\",\"43\",\"44\",\"45\",\"46\",\"47\",\"48\",\"49\",\"50\",\"51\",\"52\",\"53\",\"54\",\"55\",\"56\",\"57\",\"58\",\"59\",\"60\",\"61\",\"62\",\"63\",\"64\",\"65\",\"66\",\"67\",\"68\",\"69\",\"70\",\"71\",\"72\",\"73\",\"74\"],\"value\":{\"__ndarray__\":\"OwrXoxGSG0H0UbheYogyQf///3/zCjlBDAAAgIEKPkHjo3A9aslBQdujcH2NNUFBIFyPwrSJQkG29Si8vRdEQZ9wPWpi+EVBg8L1CErtSUF961F43wxIQYnrURiYsEdBdhSuR1dLR0FC4XqUkc1JQboehcuEtUhBWI/C9ZcMS0GawvUIJu9LQc96FI6LjkpB08zMTDNgTEFxZmbmji1NQQEpXO/udU1BfxSup77QSkHgUbi+4xJNQc3MzOzfRExBmML1CEn/S0GW61GY27pKQXM9CrdBk0pB1aNwPWceSkF1FK4ncrpIQW49Cnf9FEhBCNej8DI8R0HkehSuMcdHQRVcj0JRcEhBSOF69E9zRkG0HoXr4PJAQQAAAIBDTUFBEq5HgakZQUFnPQq3GSVBQdDMzIyYZz5BkZmZGcYQPEE6CtejpE46QdajcL3ivTlBH4XrkYMJNkHwUbhe2v8zQQAAAEDuCTNBgOtROKH/MUEjhetR5GIuQXE9ClfP/yhBonA9Cos2J0GwR+F6RFslQboehesq6iFBSuF6FPVYHkHMzMzM2rwaQXE9Ctc7hhVBEa5H4a0pEkEK16NwHyEQQSlcj8IDVgxBuB6F6wNuCUFuPQrXwRsHQaRwPQrDNP9AW4/C9YaVDEFmZmbmZiIiQdWjcH17ZTFBtkfhev82OkExXI9CBBc9QSeF65Etd0NBAClcL27YREFF4XrUvnhHQRuuR+GOIUhBamZmBu5CTEFN4Xp0yA1MQWRmZubgCUpBvR6FyxPfSUEAAAAg2IZKQZLC9cjdNEpBw6NwvVDaSkFSCtfDU45JQXtmZqaBIkpB+HoUzpprSUHXo3CdvAJKQe8oXG+jYktBJIXrcTiXR0H/KFwPu6NIQcL1KHzXq0dBUmZmhlbwR0GV61G4DnNIQfb//5803kdBT+F61B08SEGWmZl5Wh1JQQ4AAKDNR0tBANejUO1eSkEbrkchYqpJQTUK18ODqEhBWGZm5no7SUGccD2qGIlIQfR6FE69mUtBmML1KJW2SkHvKFyvYnVJQWZmZmazwklBdT0K9xjtSUGhmZl5gFxJQZxwPWoK7EdBrEfh+sZYSEF7PQrXSy1HQUbhenQIpURBLIXrcVrtQ0GXmZl5vRtDQXg9CrcqDUBBDdej8Cz+OkF0FK7HAys6QaNwPUo3YzVBhetROPXLMkFVj8L1xr8vQdWjcL3RRCtBJVyPQjI4I0EoXI/CJcYiQQjXo3A4CSBBqkfheikvGUEI16NwgvAWQRWuR+E1IBFB\",\"dtype\":\"float64\",\"order\":\"little\",\"shape\":[120]},\"xoffsets\":[[\"15\",\"1995_total_age\"],[\"16\",\"1995_total_age\"],[\"17\",\"1995_total_age\"],[\"18\",\"1995_total_age\"],[\"19\",\"1995_total_age\"],[\"20\",\"1995_total_age\"],[\"21\",\"1995_total_age\"],[\"22\",\"1995_total_age\"],[\"23\",\"1995_total_age\"],[\"24\",\"1995_total_age\"],[\"25\",\"1995_total_age\"],[\"26\",\"1995_total_age\"],[\"27\",\"1995_total_age\"],[\"28\",\"1995_total_age\"],[\"29\",\"1995_total_age\"],[\"30\",\"1995_total_age\"],[\"31\",\"1995_total_age\"],[\"32\",\"1995_total_age\"],[\"33\",\"1995_total_age\"],[\"34\",\"1995_total_age\"],[\"35\",\"1995_total_age\"],[\"36\",\"1995_total_age\"],[\"37\",\"1995_total_age\"],[\"38\",\"1995_total_age\"],[\"39\",\"1995_total_age\"],[\"40\",\"1995_total_age\"],[\"41\",\"1995_total_age\"],[\"42\",\"1995_total_age\"],[\"43\",\"1995_total_age\"],[\"44\",\"1995_total_age\"],[\"45\",\"1995_total_age\"],[\"46\",\"1995_total_age\"],[\"47\",\"1995_total_age\"],[\"48\",\"1995_total_age\"],[\"49\",\"1995_total_age\"],[\"50\",\"1995_total_age\"],[\"51\",\"1995_total_age\"],[\"52\",\"1995_total_age\"],[\"53\",\"1995_total_age\"],[\"54\",\"1995_total_age\"],[\"55\",\"1995_total_age\"],[\"56\",\"1995_total_age\"],[\"57\",\"1995_total_age\"],[\"58\",\"1995_total_age\"],[\"59\",\"1995_total_age\"],[\"60\",\"1995_total_age\"],[\"61\",\"1995_total_age\"],[\"62\",\"1995_total_age\"],[\"63\",\"1995_total_age\"],[\"64\",\"1995_total_age\"],[\"65\",\"1995_total_age\"],[\"66\",\"1995_total_age\"],[\"67\",\"1995_total_age\"],[\"68\",\"1995_total_age\"],[\"69\",\"1995_total_age\"],[\"70\",\"1995_total_age\"],[\"71\",\"1995_total_age\"],[\"72\",\"1995_total_age\"],[\"73\",\"1995_total_age\"],[\"74\",\"1995_total_age\"],[\"15\",\"2015_total_age\"],[\"16\",\"2015_total_age\"],[\"17\",\"2015_total_age\"],[\"18\",\"2015_total_age\"],[\"19\",\"2015_total_age\"],[\"20\",\"2015_total_age\"],[\"21\",\"2015_total_age\"],[\"22\",\"2015_total_age\"],[\"23\",\"2015_total_age\"],[\"24\",\"2015_total_age\"],[\"25\",\"2015_total_age\"],[\"26\",\"2015_total_age\"],[\"27\",\"2015_total_age\"],[\"28\",\"2015_total_age\"],[\"29\",\"2015_total_age\"],[\"30\",\"2015_total_age\"],[\"31\",\"2015_total_age\"],[\"32\",\"2015_total_age\"],[\"33\",\"2015_total_age\"],[\"34\",\"2015_total_age\"],[\"35\",\"2015_total_age\"],[\"36\",\"2015_total_age\"],[\"37\",\"2015_total_age\"],[\"38\",\"2015_total_age\"],[\"39\",\"2015_total_age\"],[\"40\",\"2015_total_age\"],[\"41\",\"2015_total_age\"],[\"42\",\"2015_total_age\"],[\"43\",\"2015_total_age\"],[\"44\",\"2015_total_age\"],[\"45\",\"2015_total_age\"],[\"46\",\"2015_total_age\"],[\"47\",\"2015_total_age\"],[\"48\",\"2015_total_age\"],[\"49\",\"2015_total_age\"],[\"50\",\"2015_total_age\"],[\"51\",\"2015_total_age\"],[\"52\",\"2015_total_age\"],[\"53\",\"2015_total_age\"],[\"54\",\"2015_total_age\"],[\"55\",\"2015_total_age\"],[\"56\",\"2015_total_age\"],[\"57\",\"2015_total_age\"],[\"58\",\"2015_total_age\"],[\"59\",\"2015_total_age\"],[\"60\",\"2015_total_age\"],[\"61\",\"2015_total_age\"],[\"62\",\"2015_total_age\"],[\"63\",\"2015_total_age\"],[\"64\",\"2015_total_age\"],[\"65\",\"2015_total_age\"],[\"66\",\"2015_total_age\"],[\"67\",\"2015_total_age\"],[\"68\",\"2015_total_age\"],[\"69\",\"2015_total_age\"],[\"70\",\"2015_total_age\"],[\"71\",\"2015_total_age\"],[\"72\",\"2015_total_age\"],[\"73\",\"2015_total_age\"],[\"74\",\"2015_total_age\"]]},\"selected\":{\"id\":\"31168\"},\"selection_policy\":{\"id\":\"31191\"}},\"id\":\"31167\",\"type\":\"ColumnDataSource\"},{\"attributes\":{\"coordinates\":null,\"group\":null,\"text_color\":\"black\",\"text_font_size\":\"12pt\"},\"id\":\"31138\",\"type\":\"Title\"},{\"attributes\":{\"callback\":null,\"renderers\":[{\"id\":\"31173\"}],\"tags\":[\"hv_created\"],\"tooltips\":[[\"age\",\"@{age}\"],[\"Variable\",\"@{Variable}\"],[\"value\",\"@{value}\"]]},\"id\":\"31136\",\"type\":\"HoverTool\"},{\"attributes\":{\"overlay\":{\"id\":\"31158\"}},\"id\":\"31156\",\"type\":\"BoxZoomTool\"},{\"attributes\":{},\"id\":\"31179\",\"type\":\"AllLabels\"},{\"attributes\":{},\"id\":\"31168\",\"type\":\"Selection\"},{\"attributes\":{\"bottom_units\":\"screen\",\"coordinates\":null,\"fill_alpha\":0.5,\"fill_color\":\"lightgrey\",\"group\":null,\"left_units\":\"screen\",\"level\":\"overlay\",\"line_alpha\":1.0,\"line_color\":\"black\",\"line_dash\":[4,4],\"line_width\":2,\"right_units\":\"screen\",\"syncable\":false,\"top_units\":\"screen\"},\"id\":\"31158\",\"type\":\"BoxAnnotation\"},{\"attributes\":{},\"id\":\"31153\",\"type\":\"SaveTool\"}],\"root_ids\":[\"31132\"]},\"title\":\"Bokeh Application\",\"version\":\"2.4.2\"}};\n",
       "    var render_items = [{\"docid\":\"6867f2ae-9179-48bb-a463-d3d56b514f7a\",\"root_ids\":[\"31132\"],\"roots\":{\"31132\":\"9aa7624e-b3c0-4c3c-8481-a8ede311957e\"}}];\n",
       "    root.Bokeh.embed.embed_items_notebook(docs_json, render_items);\n",
       "  }\n",
       "  if (root.Bokeh !== undefined && root.Bokeh.Panel !== undefined) {\n",
       "    embed_document(root);\n",
       "  } else {\n",
       "    var attempts = 0;\n",
       "    var timer = setInterval(function(root) {\n",
       "      if (root.Bokeh !== undefined && root.Bokeh.Panel !== undefined) {\n",
       "        clearInterval(timer);\n",
       "        embed_document(root);\n",
       "      } else if (document.readyState == \"complete\") {\n",
       "        attempts++;\n",
       "        if (attempts > 200) {\n",
       "          clearInterval(timer);\n",
       "          console.log(\"Bokeh: ERROR: Unable to run BokehJS code because BokehJS library is missing\");\n",
       "        }\n",
       "      }\n",
       "    }, 25, root)\n",
       "  }\n",
       "})(window);</script>"
      ],
      "text/plain": [
       ":Bars   [age,Variable]   (value)"
      ]
     },
     "execution_count": 404,
     "metadata": {
      "application/vnd.holoviews_exec.v0+json": {
       "id": "31132"
      }
     },
     "output_type": "execute_result"
    }
   ],
   "source": [
    "age_distribution_df[:60].hvplot(kind = 'bar', y = ['1995_total_age','2015_total_age'],rot = 90, width = 1800, height = 300).opts(yformatter='%0f')"
   ]
  },
  {
   "cell_type": "markdown",
   "id": "a6520c32-4bdb-43eb-90da-e7ebeb3f3189",
   "metadata": {},
   "source": [
    "### 5. From Question 4, it is clear that changes in the population’s age structure account for some of the changes in LFPR. Write a paragraph or two describing some of the other major factors that might have contributed to changes in LFPR. Note: The answer to this question is not found in the data that we provided but involves doing some quick online research to understand the drivers of labor force participation."
   ]
  },
  {
   "cell_type": "markdown",
   "id": "17b7cc21-3016-494b-b5d1-8e3e2ff53e3f",
   "metadata": {},
   "source": [
    "##### Labor force percentage rates can be affected by economic, social, and demographic trends. From this data I notice some distinct age trends. Young people in 1995 joined the Labor Force in greater numbers when compared to young people in 2015. This could be the result of a couple of things. The United States average real income has gone up increasingly over the years and the number of children per family has gone down. This means that families have more money and there is less pressure on young people to get jobs while they are still living at home. Another factor is the increase in the importance of education. The percentage of people who go to college has risen and that means fewer young people in the labor force and more in school. \n",
    "##### Another noticeable trend is that people in 2015 are working later in their lives than people in 1995. This could also be due to several factors. Health strikes me as the biggest one as the average life expectancy in the United States has risen year by year. This means that people are in better physical and mental shape and are more willing to continue working. Another factor is that social benefits have changed. The retirement age for social security has increased, retirement packages have decreased, healthcare costs have increased and spending power of social benefits has decreased. This means that people must work to older ages to ensure their financial security. The final factor is the dynamic of the modern family. People have become more mobilized and are living farther and farther away from their families. This results in a decrease in three-generational households. This means older people will have to take care of themselves rather than move in with their children. "
   ]
  },
  {
   "cell_type": "markdown",
   "id": "e8deeb27-356b-4d19-9c47-fc7f9fd973a3",
   "metadata": {},
   "source": [
    "### 6. Based on your answers to the previous questions, describe in two or three sentences how you would approach forecasting the LFPR in 2025. What data and variables would you use to make a projection?"
   ]
  },
  {
   "cell_type": "markdown",
   "id": "20de7157-0978-43e4-82f8-9f1b98f42049",
   "metadata": {},
   "source": [
    "##### There is a lot of economic unrest right now in the world. Covid has affected the labor force participation rate and while I am optimistic it will be over with by 2025, I am worried about its long-lasting financial effects. Covid and geopolitical unrest have caused a lot of disturbance in the economy. Inflation is rapidly growing and commodity prices are also skyrocketing. Historically these are indicators of an oncoming recession. A recession would also mean a decrease in LFPR. My main variables to look at would be inflation, GDP, CPI, and population age. The worse these numbers look, the lower my projection for LFPR would be."
   ]
  }
 ],
 "metadata": {
  "kernelspec": {
   "display_name": "Python [conda env:algotrading]",
   "language": "python",
   "name": "conda-env-algotrading-py"
  },
  "language_info": {
   "codemirror_mode": {
    "name": "ipython",
    "version": 3
   },
   "file_extension": ".py",
   "mimetype": "text/x-python",
   "name": "python",
   "nbconvert_exporter": "python",
   "pygments_lexer": "ipython3",
   "version": "3.7.10"
  }
 },
 "nbformat": 4,
 "nbformat_minor": 5
}
